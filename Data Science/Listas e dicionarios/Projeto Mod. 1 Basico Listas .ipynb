{
 "cells": [
  {
   "cell_type": "code",
   "execution_count": 12,
   "id": "2405062f",
   "metadata": {},
   "outputs": [
    {
     "data": {
      "text/plain": [
       "660"
      ]
     },
     "execution_count": 12,
     "metadata": {},
     "output_type": "execute_result"
    }
   ],
   "source": [
    "def cod(): #usando a combinação de 900 numeros aleatórios porem pode ser utilizado random.randint() a verificação irá ser feita da mesma forma para não existir repetição do id.\n",
    "    x = random.randint(100,1000)\n",
    "    if x not in listaid:\n",
    "        listaid.append(x)\n",
    "        \n",
    "    else:        \n",
    "        '''print('erro')'''\n",
    "        cod()# chamando a propria função caso a numerção ja exista no \"banco\"\n",
    "    '''print(x, listaid)'''\n",
    "    return x\n",
    "    \n",
    "cod()"
   ]
  },
  {
   "cell_type": "code",
   "execution_count": 36,
   "id": "afe81a5d",
   "metadata": {},
   "outputs": [
    {
     "name": "stdout",
     "output_type": "stream",
     "text": [
      "834 ['ghjk', 'hjkl', 'hjk']\n",
      "141 ['dfghjk', 'gghjkl', 'ghjkl']\n"
     ]
    }
   ],
   "source": [
    "def listar():\n",
    "    for i in geral:\n",
    "        print(i, geral[i])\n",
    "listar()"
   ]
  },
  {
   "cell_type": "code",
   "execution_count": 35,
   "id": "cbf2d41b",
   "metadata": {},
   "outputs": [
    {
     "name": "stdout",
     "output_type": "stream",
     "text": [
      "Digite o ID que deseja remover.5\n",
      "Codigo nao encontrado.\n",
      "dict_keys([834, 141])\n",
      "Digite o ID que deseja remover.834\n",
      "removendo\n"
     ]
    }
   ],
   "source": [
    "def remover():\n",
    "    rem = int(input('Digite o ID que deseja remover.'))\n",
    "    if rem in geral.keys():\n",
    "        print('removendo')\n",
    "        print(geral[rem])\n",
    "        del geral [rem]\n",
    "    else:\n",
    "        print('ID não encontrado.')\n",
    "        print(geral.keys())\n",
    "        remover()\n",
    "remover()   "
   ]
  },
  {
   "cell_type": "code",
   "execution_count": 15,
   "id": "5b9cccb7",
   "metadata": {},
   "outputs": [],
   "source": [
    "def editar():\n",
    "    edt = int(input('Qual o ID que deseja editar?\\n'))\n",
    "    if edt in geral.keys():\n",
    "        for i, v in enumerate(geral[edt]):\n",
    "            print(i, v)\n",
    "        cel = int(input('Escolha o número do item que deseja editar:\\n'))\n",
    "        if 0 <= cel < len(geral[edt]):\n",
    "            print(geral[edt][cel],    'Pelo quê deseja substiruir?')\n",
    "            geral[edt][cel] = input()\n",
    "            \n",
    "        else:\n",
    "            editar()\n",
    "    else:\n",
    "        print('ID não encontrada.')\n",
    "        #print(geral.keys()) acesso rapido as chaves salvas\n",
    "    "
   ]
  },
  {
   "cell_type": "code",
   "execution_count": 18,
   "id": "a071f5d4",
   "metadata": {},
   "outputs": [],
   "source": [
    "def sair():\n",
    "    on = False #pode ser usado break"
   ]
  },
  {
   "cell_type": "code",
   "execution_count": 6,
   "id": "a4194ad5",
   "metadata": {
    "scrolled": true
   },
   "outputs": [
    {
     "name": "stdout",
     "output_type": "stream",
     "text": [
      "Digite o telefone:\n",
      "ex: 7199998523\n",
      "71 992194688\n",
      "71992194688\n"
     ]
    },
    {
     "data": {
      "text/plain": [
       "'71992194688'"
      ]
     },
     "execution_count": 6,
     "metadata": {},
     "output_type": "execute_result"
    }
   ],
   "source": [
    "def telefone():\n",
    "    n = False\n",
    "    while n == False:\n",
    "        tel = input('Digite o telefone:\\nex: 7199998523\\n').strip().split()\n",
    "        for i in range(tel.count(' ')):\n",
    "            tel.remove(' ')\n",
    "        tel = ''.join(tel)\n",
    "        print(tel)\n",
    "        if tel.isdigit() and len(tel) == 11:\n",
    "            n = True\n",
    "        else:\n",
    "            print('Por favor verifique o digitado.')\n",
    "    \n",
    "    return tel\n",
    "telefone()"
   ]
  },
  {
   "cell_type": "code",
   "execution_count": 27,
   "id": "a60c87e7",
   "metadata": {
    "scrolled": false
   },
   "outputs": [
    {
     "name": "stdout",
     "output_type": "stream",
     "text": [
      "Digite o email\n",
      "vhdabjsk@ejvgbhjk\n",
      "['vhdabjsk', 'ejvgbhjk']\n",
      "vhdabjsk@ejvgbhjk\n"
     ]
    }
   ],
   "source": [
    "def email():\n",
    "    em = input('Digite o email\\n').strip().split('@')\n",
    "    e = \"@\".join(em)\n",
    "    print(e)\n",
    "email()"
   ]
  },
  {
   "cell_type": "code",
   "execution_count": null,
   "id": "f48eceb2",
   "metadata": {},
   "outputs": [],
   "source": [
    "def buscar():\n",
    "    busc = int(input('Digite o ID que deseja buscar.\\n'))\n",
    "    if busc in geral.keys():\n",
    "        print('Encontrado', busc, geral[busc],'\\n')\n",
    "    else:\n",
    "        print(f'ID {busc} não encontrada.\\n')\n",
    "buscar()"
   ]
  },
  {
   "cell_type": "code",
   "execution_count": 10,
   "id": "b552800c",
   "metadata": {
    "scrolled": true
   },
   "outputs": [
    {
     "name": "stdout",
     "output_type": "stream",
     "text": [
      "BEM VINDO\n",
      "(1) Novo cadastro\n",
      "(2) Sair\n",
      "(3) Editar\n",
      "(4) Remover\n",
      "(5) Listar\n",
      "(6) Buscar\n",
      "Escolha uma das opções:\n",
      "1\n",
      "Digite a razão social do fornecedor:\n",
      "vdsznm\n",
      "Digite o telefone:\n",
      "ex: 7199998523\n",
      "71992194688\n",
      "Digite o email\n",
      "dgbfsunmk@gmail.com\n",
      "{926: ['fghjk', 'gfd', 'gbfdsx'], 195: ['bgfvds', 'fgbds', 'gfbvcsx'], 397: ['gbfvdcs', 'gvds', 'gfvd'], 847: ['VDSZNM', '71992194688', 'dgbfsunmk@gmail.com']}\n",
      "(1) Novo cadastro\n",
      "(2) Sair\n",
      "(3) Editar\n",
      "(4) Remover\n",
      "(5) Listar\n",
      "(6) Buscar\n"
     ]
    },
    {
     "ename": "KeyboardInterrupt",
     "evalue": "Interrupted by user",
     "output_type": "error",
     "traceback": [
      "\u001b[1;31m---------------------------------------------------------------------------\u001b[0m",
      "\u001b[1;31mKeyboardInterrupt\u001b[0m                         Traceback (most recent call last)",
      "\u001b[1;32m~\\AppData\\Local\\Temp/ipykernel_30844/1070906651.py\u001b[0m in \u001b[0;36m<module>\u001b[1;34m\u001b[0m\n\u001b[0;32m     85\u001b[0m         \u001b[0mprint\u001b[0m\u001b[1;33m(\u001b[0m\u001b[1;34m'(5) Listar'\u001b[0m\u001b[1;33m)\u001b[0m\u001b[1;33m\u001b[0m\u001b[1;33m\u001b[0m\u001b[0m\n\u001b[0;32m     86\u001b[0m         \u001b[0mprint\u001b[0m\u001b[1;33m(\u001b[0m\u001b[1;34m'(6) Buscar'\u001b[0m\u001b[1;33m)\u001b[0m\u001b[1;33m\u001b[0m\u001b[1;33m\u001b[0m\u001b[0m\n\u001b[1;32m---> 87\u001b[1;33m     \u001b[0mres\u001b[0m \u001b[1;33m=\u001b[0m \u001b[0mint\u001b[0m\u001b[1;33m(\u001b[0m\u001b[0minput\u001b[0m\u001b[1;33m(\u001b[0m\u001b[1;34m'Escolha uma das opções:\\n'\u001b[0m\u001b[1;33m)\u001b[0m\u001b[1;33m)\u001b[0m\u001b[1;33m\u001b[0m\u001b[1;33m\u001b[0m\u001b[0m\n\u001b[0m\u001b[0;32m     88\u001b[0m     \u001b[1;32mif\u001b[0m \u001b[0mres\u001b[0m \u001b[1;33m==\u001b[0m \u001b[1;36m1\u001b[0m\u001b[1;33m:\u001b[0m\u001b[1;33m\u001b[0m\u001b[1;33m\u001b[0m\u001b[0m\n\u001b[0;32m     89\u001b[0m         \u001b[0mcadastro\u001b[0m\u001b[1;33m(\u001b[0m\u001b[1;33m)\u001b[0m\u001b[1;33m\u001b[0m\u001b[1;33m\u001b[0m\u001b[0m\n",
      "\u001b[1;32m~\\AppData\\Local\\Programs\\Python\\Python39\\lib\\site-packages\\ipykernel\\kernelbase.py\u001b[0m in \u001b[0;36mraw_input\u001b[1;34m(self, prompt)\u001b[0m\n\u001b[0;32m   1004\u001b[0m                 \u001b[1;34m\"raw_input was called, but this frontend does not support input requests.\"\u001b[0m\u001b[1;33m\u001b[0m\u001b[1;33m\u001b[0m\u001b[0m\n\u001b[0;32m   1005\u001b[0m             )\n\u001b[1;32m-> 1006\u001b[1;33m         return self._input_request(\n\u001b[0m\u001b[0;32m   1007\u001b[0m             \u001b[0mstr\u001b[0m\u001b[1;33m(\u001b[0m\u001b[0mprompt\u001b[0m\u001b[1;33m)\u001b[0m\u001b[1;33m,\u001b[0m\u001b[1;33m\u001b[0m\u001b[1;33m\u001b[0m\u001b[0m\n\u001b[0;32m   1008\u001b[0m             \u001b[0mself\u001b[0m\u001b[1;33m.\u001b[0m\u001b[0m_parent_ident\u001b[0m\u001b[1;33m[\u001b[0m\u001b[1;34m\"shell\"\u001b[0m\u001b[1;33m]\u001b[0m\u001b[1;33m,\u001b[0m\u001b[1;33m\u001b[0m\u001b[1;33m\u001b[0m\u001b[0m\n",
      "\u001b[1;32m~\\AppData\\Local\\Programs\\Python\\Python39\\lib\\site-packages\\ipykernel\\kernelbase.py\u001b[0m in \u001b[0;36m_input_request\u001b[1;34m(self, prompt, ident, parent, password)\u001b[0m\n\u001b[0;32m   1049\u001b[0m             \u001b[1;32mexcept\u001b[0m \u001b[0mKeyboardInterrupt\u001b[0m\u001b[1;33m:\u001b[0m\u001b[1;33m\u001b[0m\u001b[1;33m\u001b[0m\u001b[0m\n\u001b[0;32m   1050\u001b[0m                 \u001b[1;31m# re-raise KeyboardInterrupt, to truncate traceback\u001b[0m\u001b[1;33m\u001b[0m\u001b[1;33m\u001b[0m\u001b[0m\n\u001b[1;32m-> 1051\u001b[1;33m                 \u001b[1;32mraise\u001b[0m \u001b[0mKeyboardInterrupt\u001b[0m\u001b[1;33m(\u001b[0m\u001b[1;34m\"Interrupted by user\"\u001b[0m\u001b[1;33m)\u001b[0m \u001b[1;32mfrom\u001b[0m \u001b[1;32mNone\u001b[0m\u001b[1;33m\u001b[0m\u001b[1;33m\u001b[0m\u001b[0m\n\u001b[0m\u001b[0;32m   1052\u001b[0m             \u001b[1;32mexcept\u001b[0m \u001b[0mException\u001b[0m\u001b[1;33m:\u001b[0m\u001b[1;33m\u001b[0m\u001b[1;33m\u001b[0m\u001b[0m\n\u001b[0;32m   1053\u001b[0m                 \u001b[0mself\u001b[0m\u001b[1;33m.\u001b[0m\u001b[0mlog\u001b[0m\u001b[1;33m.\u001b[0m\u001b[0mwarning\u001b[0m\u001b[1;33m(\u001b[0m\u001b[1;34m\"Invalid Message:\"\u001b[0m\u001b[1;33m,\u001b[0m \u001b[0mexc_info\u001b[0m\u001b[1;33m=\u001b[0m\u001b[1;32mTrue\u001b[0m\u001b[1;33m)\u001b[0m\u001b[1;33m\u001b[0m\u001b[1;33m\u001b[0m\u001b[0m\n",
      "\u001b[1;31mKeyboardInterrupt\u001b[0m: Interrupted by user"
     ]
    }
   ],
   "source": [
    "import random\n",
    "geral = {} # teste rapido {926: ['fghjk', 'gfd', 'gbfdsx'], 195: ['bgfvds', 'fgbds', 'gfbvcsx'], 397: ['gbfvdcs', 'gvds', 'gfvd']}\n",
    "listaid = []\n",
    "on = True\n",
    "\n",
    "def cadastro():\n",
    "    id = cod()\n",
    "    fornecedor = input('Digite a razão social do fornecedor:\\n').upper().strip()\n",
    "    tel = telefone()\n",
    "    email = input('Digite o email\\n') #desculpe mas não terminei a tempo a implementação da função para verificar o e-mail\n",
    "    geral[id] = [fornecedor, tel, email]\n",
    "    print(geral)\n",
    "    \n",
    "def telefone():\n",
    "    n = False\n",
    "    while n == False:\n",
    "        tel = input('Digite o telefone:\\nex: 7199998523\\n').strip().split()\n",
    "        for i in range(tel.count(' ')):\n",
    "            tel.remove(' ')\n",
    "        tel = ''.join(tel)\n",
    "        #print(tel) para verificar se ocorreu tudo bem\n",
    "        if tel.isdigit() and len(tel) == 11:\n",
    "            n = True\n",
    "        else:\n",
    "            print('Por favor verifique o digitado.')\n",
    "        return tel\n",
    "    \n",
    "def sair():\n",
    "    print('MUITO OBRIGADO POR USAR NOSSO APLICATIVO')\n",
    "    return False #pode ser usado break\n",
    "\n",
    "def editar():\n",
    "    edt = int(input('Qual o ID que deseja editar?\\n'))\n",
    "    if edt in geral.keys():\n",
    "        for i, v in enumerate(geral[edt]):\n",
    "            print(i, v)\n",
    "        cel = int(input('Escolha o número do item que deseja editar:\\n'))\n",
    "        if 0 <= cel < len(geral[edt]):\n",
    "            print(geral[edt][cel],    'Pelo quê deseja substiruir?')\n",
    "            geral[edt][cel] = input()\n",
    "            \n",
    "        else:\n",
    "            print('Item inexistente.\\n')\n",
    "            editar()\n",
    "    else:\n",
    "        print('ID não encontrada.\\n')\n",
    "        #print(geral.keys()) acesso rapido as chaves salvas\n",
    "\n",
    "def remover():\n",
    "    rem = int(input('Digite o ID que deseja remover.\\n'))\n",
    "    if rem in geral.keys():\n",
    "        print('Removendo', geral[rem],'\\n')\n",
    "        del geral [rem]\n",
    "    else:\n",
    "        print('ID não encontrada.\\n')\n",
    "        #print(geral.keys())\n",
    "        #remover() retirado para o usuario poder retornar ao menu principal e verificar as informações\n",
    "\n",
    "def listar():\n",
    "    msg = \"ID [FORNECEDOR , TELEFONE , E-MAIL]\"\n",
    "    print('-'*len(msg))\n",
    "    print(msg)\n",
    "    print('-'*len(msg))\n",
    "    for i in geral:\n",
    "        print(i, geral[i])\n",
    "\n",
    "def cod(): #usando a combinação de 900 numeros aleatórios porem pode ser utilizado random.randint() a verificação irá ser feita da mesma forma para não existir repetição do id.\n",
    "    x = random.randint(100,1000)\n",
    "    if x not in listaid:\n",
    "        listaid.append(x)\n",
    "    else:        \n",
    "        #print('erro')\n",
    "        cod()# chamando a propria função caso a numerção ja exista no \"LISTAID\"\n",
    "    #print(x, listaid)\n",
    "    return x\n",
    "    \n",
    "print('BEM VINDO')\n",
    "while on:\n",
    "    print('(1) Novo cadastro')\n",
    "    print('(2) Sair')\n",
    "    if geral != {}:\n",
    "        print('(3) Editar')\n",
    "        print('(4) Remover')\n",
    "        print('(5) Listar')\n",
    "        print('(6) Buscar')\n",
    "    res = int(input('Escolha uma das opções:\\n'))\n",
    "    if res == 1:\n",
    "        cadastro()\n",
    "        res = 0\n",
    "    elif res == 2:\n",
    "        on = sair()\n",
    "    elif res == 3:\n",
    "        editar()\n",
    "    elif res == 4:\n",
    "        remover()\n",
    "    elif res == 5:\n",
    "        listar()\n",
    "    else:\n",
    "        print('Opção incorreta.\\n')\n",
    "    \n"
   ]
  }
 ],
 "metadata": {
  "kernelspec": {
   "display_name": "Python 3 (ipykernel)",
   "language": "python",
   "name": "python3"
  },
  "language_info": {
   "codemirror_mode": {
    "name": "ipython",
    "version": 3
   },
   "file_extension": ".py",
   "mimetype": "text/x-python",
   "name": "python",
   "nbconvert_exporter": "python",
   "pygments_lexer": "ipython3",
   "version": "3.9.7"
  }
 },
 "nbformat": 4,
 "nbformat_minor": 5
}
