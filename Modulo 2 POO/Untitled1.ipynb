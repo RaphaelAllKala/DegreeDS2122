{
 "cells": [
  {
   "cell_type": "code",
   "execution_count": null,
   "id": "1bceb4a0-4404-41ed-8343-2ff7a1cad637",
   "metadata": {},
   "outputs": [],
   "source": [
    "class Pessoa:\n",
    "    def __init__(self, nome, idade, email, senha):\n",
    "        # argumentos\n",
    "        self.nome = nome\n",
    "        \n",
    "        # atributos privados RECOMENDADO colocar \"_\" nafrente do atributo.\n",
    "        self._idade = idade\"\n",
    "        self._email = email\n",
    "        \n",
    "        # atributo totalmente privado, colocar \"__\" na frente do atributo.\n",
    "        self.__senha = senha\n",
    "        self.__lista_amigos = []\n",
    "        \n",
    "        \n",
    "        \n",
    "    def verifica_qte_max_amigos(self):\n",
    "        qte_maxima=2\n",
    "        return len(self.__lista_amigos)<qte_maxima\n",
    "    \n",
    "    def adiciona_amigo(self, amigo):\n",
    "        if(amigo not in self.__lista_amigos and self.verifica_qte_max_amigos()):\n",
    "            self.__lista_amigos.append(amigo)\n",
    "            return True\n",
    "        return False\n",
    "    \n",
    "    def printa_nome_amigos(self):\n",
    "        for amigo in self.__lista_amigos:\n",
    "            print(amigo.nome)\n",
    "    \n",
    "    @staticmethod\n",
    "    def mostra_info(pessoa):\n",
    "        representação = f'{pessoa.nome}, {pessoa.email}\n",
    "        print (representação)"
   ]
  },
  {
   "cell_type": "code",
   "execution_count": null,
   "id": "0f99f190-1b17-4f34-9bb0-e0e744cd2763",
   "metadata": {},
   "outputs": [],
   "source": [
    "luis = Pessoa(\n",
    "    nome='Luis',\n",
    "    idade=25,\n",
    "    email='luisuzai13@gmail.com',\n",
    "    senha='12345678'\n",
    ")\n",
    "\n",
    "livia = Pessoa(\n",
    "    nome='Livia',\n",
    "    idade=24,\n",
    "    email='livia@gmail.com',\n",
    "    senha='12345678'\n",
    ")\n",
    "\n",
    "luffy = Pessoa(\n",
    "    nome='Luffy',\n",
    "    idade=19,\n",
    "    email='luffy@gmail.com',\n",
    "    senha='queroseroreidospiratas'\n",
    ")"
   ]
  },
  {
   "cell_type": "code",
   "execution_count": null,
   "id": "3c86c390-9b78-40a5-b8a6-50bcb7772f4d",
   "metadata": {},
   "outputs": [],
   "source": []
  }
 ],
 "metadata": {
  "kernelspec": {
   "display_name": "Python 3 (ipykernel)",
   "language": "python",
   "name": "python3"
  },
  "language_info": {
   "codemirror_mode": {
    "name": "ipython",
    "version": 3
   },
   "file_extension": ".py",
   "mimetype": "text/x-python",
   "name": "python",
   "nbconvert_exporter": "python",
   "pygments_lexer": "ipython3",
   "version": "3.9.7"
  }
 },
 "nbformat": 4,
 "nbformat_minor": 5
}
