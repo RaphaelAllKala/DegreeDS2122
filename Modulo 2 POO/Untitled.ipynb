{
 "cells": [
  {
   "cell_type": "code",
   "execution_count": null,
   "id": "1b0aa755-5e32-4b80-82d4-54b885ab29b2",
   "metadata": {},
   "outputs": [],
   "source": []
  },
  {
   "cell_type": "code",
   "execution_count": 32,
   "id": "db25db83-11b6-4dd9-8cbb-291af46aad95",
   "metadata": {},
   "outputs": [],
   "source": [
    "import random \n",
    "class Pessoa:\n",
    "    def __init__(self, nome, olhos, cor_cabelo, data_nascimento):\n",
    "        '''\n",
    "        Cria parametros de uma pessoa.\n",
    "        \n",
    "        nome : str\n",
    "            Nome da pessoa.\n",
    "        cor_olhos :  str\n",
    "            Cor dos olhos atual.\n",
    "        cor_cabelo : str\n",
    "            Cor atual dos cabelos.\n",
    "        data_nascimento : str\n",
    "            Data completa de nascimento separada por /\n",
    "        \n",
    "        '''\n",
    "        #sempre pegar os atributos com self na frente para recever a variavel\n",
    "        #criando atributos\n",
    "        self.nome = nome\n",
    "        self.cor_olhos = olhos\n",
    "        self.cor_cabelo = cor_cabelo\n",
    "        self.data_nescimento = data_nascimento\n",
    "        \n",
    "        #calcula idade\n",
    "        self.idade = 2021 - int(data_nascimento.split('/')[2])\n",
    "        print('ok')\n",
    "        # atributos nao passados como parametros\n",
    "        self.conjuge = None\n",
    "        self.filhos = []\n",
    "    \n",
    "    def casar(self, parceiro):#metodo\n",
    "        '''\n",
    "        Casa o self com o  parceiro e o parceiro com o self.\n",
    "        \n",
    "        Parametros\n",
    "        \n",
    "        parceiro = Pessoa\n",
    "            Pessoa com o qual o self vai casar.\n",
    "        \n",
    "        return: Bool\n",
    "            True se ok e False se não.\n",
    "        '''\n",
    "        if self.conjuge is None and parceiro.conjuge is None:\n",
    "            self.conjuge = parceiro\n",
    "            parceiro.conjuge = self\n",
    "            return True\n",
    "        return False\n",
    "    \n",
    "    def prole(self, filho):\n",
    "        '''\n",
    "        Agrega um filho a self\n",
    "        \n",
    "        Parâmetros\n",
    "        nome : str \n",
    "            Nome do filho.\n",
    "            \n",
    "        Retorna\n",
    "            out : Pessoa\n",
    "                retorna o filho'''\n",
    "        aleatorio = random.randint(1,2)\n",
    "        if aleatorio == 1:\n",
    "            filho = Pessoa(filho , self.cor_olhos, self.cor_cabelo, '08/10/2001')\n",
    "            self.filhos.append(filho)\n",
    "            self.conjuge.filhos.append(filho)\n",
    "        elif aleatorio == 2:\n",
    "            filho = Pessoa(filho , self.conjuge.cor_olhos, self.conjuge.cor_cabelo, '08/10/2001')\n",
    "            self.filhos.append(filho)\n",
    "            self.conjuge.filhos.append(filho)\n",
    "        print(filhos[0].nome)\n",
    "        \n",
    "              "
   ]
  },
  {
   "cell_type": "code",
   "execution_count": 19,
   "id": "5378c68a-4e55-43dd-a241-b0bab143c34d",
   "metadata": {},
   "outputs": [
    {
     "name": "stdout",
     "output_type": "stream",
     "text": [
      "ok\n"
     ]
    }
   ],
   "source": [
    "luis = Pessoa('Luis',\n",
    "              'preto',\n",
    "              'verde',\n",
    "              '19/06/1986')"
   ]
  },
  {
   "cell_type": "code",
   "execution_count": 4,
   "id": "6038aac4-a838-4a9c-b2f0-1a76dc8691fd",
   "metadata": {},
   "outputs": [
    {
     "data": {
      "text/plain": [
       "35"
      ]
     },
     "execution_count": 4,
     "metadata": {},
     "output_type": "execute_result"
    }
   ],
   "source": [
    "luis.idade"
   ]
  },
  {
   "cell_type": "code",
   "execution_count": 20,
   "id": "658f4b61-b008-432d-850f-924116e57959",
   "metadata": {},
   "outputs": [
    {
     "name": "stdout",
     "output_type": "stream",
     "text": [
      "ok\n"
     ]
    }
   ],
   "source": [
    "lua = Pessoa('Lua',\n",
    "             'verde',\n",
    "             'laranja',\n",
    "             '19/06/1986')"
   ]
  },
  {
   "cell_type": "code",
   "execution_count": 21,
   "id": "4fe1eac1-9867-4d7a-aba5-fc23f9030517",
   "metadata": {},
   "outputs": [
    {
     "data": {
      "text/plain": [
       "True"
      ]
     },
     "execution_count": 21,
     "metadata": {},
     "output_type": "execute_result"
    }
   ],
   "source": [
    "luis.casar(lua)"
   ]
  },
  {
   "cell_type": "code",
   "execution_count": 6,
   "id": "06cca133-a012-4b3f-bc65-9ad060ff23dc",
   "metadata": {},
   "outputs": [
    {
     "data": {
      "text/plain": [
       "'Lua'"
      ]
     },
     "execution_count": 6,
     "metadata": {},
     "output_type": "execute_result"
    }
   ],
   "source": [
    "luis.conjuge.nome"
   ]
  },
  {
   "cell_type": "code",
   "execution_count": 7,
   "id": "8ad92b98-6377-417d-b225-f3c5ca1587ad",
   "metadata": {
    "tags": []
   },
   "outputs": [
    {
     "data": {
      "text/plain": [
       "'Luis'"
      ]
     },
     "execution_count": 7,
     "metadata": {},
     "output_type": "execute_result"
    }
   ],
   "source": [
    "lua.conjuge.nome"
   ]
  },
  {
   "cell_type": "code",
   "execution_count": 34,
   "id": "1e597f56-d730-40bd-b7a1-3d61259bc624",
   "metadata": {},
   "outputs": [
    {
     "name": "stdout",
     "output_type": "stream",
     "text": [
      "ok\n",
      "ok\n"
     ]
    }
   ],
   "source": [
    "jade = luis.prole('Jade')\n",
    "raphinha = lua.prole('Raphinha')"
   ]
  },
  {
   "cell_type": "code",
   "execution_count": 37,
   "id": "9adcaa3f-e26d-4a02-a6dc-06d11391b3e5",
   "metadata": {},
   "outputs": [
    {
     "data": {
      "text/plain": [
       "'Raphinha'"
      ]
     },
     "execution_count": 37,
     "metadata": {},
     "output_type": "execute_result"
    }
   ],
   "source": [
    "luis.filhos[1].nome\n"
   ]
  }
 ],
 "metadata": {
  "kernelspec": {
   "display_name": "Python 3 (ipykernel)",
   "language": "python",
   "name": "python3"
  },
  "language_info": {
   "codemirror_mode": {
    "name": "ipython",
    "version": 3
   },
   "file_extension": ".py",
   "mimetype": "text/x-python",
   "name": "python",
   "nbconvert_exporter": "python",
   "pygments_lexer": "ipython3",
   "version": "3.9.7"
  }
 },
 "nbformat": 4,
 "nbformat_minor": 5
}
