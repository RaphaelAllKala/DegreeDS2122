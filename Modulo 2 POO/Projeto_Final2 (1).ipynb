{
 "cells": [
  {
   "cell_type": "code",
   "execution_count": 4,
   "id": "cDFvbwmb3c50",
   "metadata": {
    "ExecuteTime": {
     "end_time": "2021-11-22T22:46:10.040946Z",
     "start_time": "2021-11-22T22:46:10.029981Z"
    },
    "id": "cDFvbwmb3c50"
   },
   "outputs": [],
   "source": [
    "import pandas as pd\n",
    "import matplotlib.pyplot as plt\n",
    "from random import choice"
   ]
  },
  {
   "cell_type": "markdown",
   "id": "c351b571",
   "metadata": {
    "id": "c351b571"
   },
   "source": [
    "#### Projeto 2 - Organizando uma eleição"
   ]
  },
  {
   "cell_type": "code",
   "execution_count": 5,
   "id": "207fbdcd",
   "metadata": {
    "ExecuteTime": {
     "end_time": "2021-11-22T22:46:11.265925Z",
     "start_time": "2021-11-22T22:46:11.243983Z"
    },
    "id": "207fbdcd"
   },
   "outputs": [],
   "source": [
    "#cadastrar todos os apartamentos primeiro\n",
    "class Apartamento:\n",
    "    def __init__(self,numero_apartamento):\n",
    "        self._lista_moradores = []\n",
    "        self._status_votacao = False\n",
    "        self._numero_apartamento = numero_apartamento\n",
    "    \n",
    "    def __repr__(self):\n",
    "        return f'Nº Apartamento: {self._numero_apartamento},Moradores: {self._lista_moradores}, Votou?: {self._status_votacao}'\n",
    "\n",
    "    def adiciona_morador(self,morador):\n",
    "        if(isinstance(morador,Morador)):\n",
    "            self._lista_moradores.append(morador)\n",
    "            morador._apartamento = self\n",
    "        else:\n",
    "            print(\"Morador inválido. Não é um objeto Morador\")\n",
    "    \n",
    "    def lista_moradores(self):\n",
    "        lista_moradores = [{\"Apartamento \"+str(self._numero_apartamento): morador._nome} for morador in self._lista_moradores]\n",
    "        df = pd.DataFrame(lista_moradores)\n",
    "        display(df) \n",
    "\n",
    "class Morador:\n",
    "    def __init__(self, nome):\n",
    "        if(isinstance(nome,str)):\n",
    "            self._nome = nome\n",
    "            self._apartamento = None\n",
    "        else:\n",
    "            print(\"O nome deve ser uma string\")\n",
    "\n",
    "      \n",
    "    def __repr__(self):\n",
    "        return f'Morador: {self._nome}, Apartamento: {self._apartamento}'\n",
    "    \n",
    "    def vota_candidato(self,urna,numero_candidato):\n",
    "        if(isinstance(urna,Urna)):\n",
    "            if(isinstance(numero_candidato,int)):\n",
    "                if self._apartamento._status_votacao:\n",
    "                    print(\"Voto do apartamento já contabilizado. Não é possível voltar 2 vezes.\")\n",
    "                    return False\n",
    "                else:\n",
    "                    return urna.executa_voto(self._apartamento,numero_candidato)\n",
    "            else:\n",
    "                print(\"Nº do candidato inválido.\")\n",
    "        else:\n",
    "            print(\"Urna inválida. Não é um objeto Urna\")\n",
    "                \n",
    "class Candidato(Morador):\n",
    "    def __init__(self,morador):\n",
    "        if(isinstance(morador,Morador)):\n",
    "            self._nome = morador._nome\n",
    "            self._apartamento = morador._apartamento\n",
    "            self._numero_urna = 0\n",
    "            self._contagem_votos = 0\n",
    "        else:\n",
    "            print(\"Morador inválido. Não é um objeto Morador\")\n",
    "\n",
    "    def __repr__(self):\n",
    "        return f'Candidato: {self._nome}, Número Urna: {self._numero_urna}'\n",
    "\n",
    "    def atualiza_votos(self):\n",
    "        self._contagem_votos = self._contagem_votos + 1\n",
    "    \n",
    "    @property\n",
    "    def get_numero_urna(self):\n",
    "        return self.__numero_urna\n",
    "    \n",
    "    @property\n",
    "    def get_contagem_votos(self):\n",
    "        return self.__contagem_votos\n",
    "    \n",
    "class Urna:\n",
    "    def __init__(self):\n",
    "        self._lista_candidatos = dict()\n",
    "        self._lista_apartamentos = []\n",
    "        \n",
    "    def cadastra_apartamento(self,apartamento):\n",
    "        if(isinstance(apartamento,Apartamento)):\n",
    "            self._lista_apartamentos.append(apartamento)\n",
    "        else:\n",
    "            print(\"Apartamento inválido. Não é um objeto Apartamento\")\n",
    "            \n",
    "    def cadastra_candidato(self,candidato):\n",
    "        if(isinstance(candidato,Candidato)):\n",
    "            numero_candidato = choice([i for i in range(1,1000) if i not in self._lista_candidatos.keys()])\n",
    "            candidato._numero_urna = numero_candidato\n",
    "            self._lista_candidatos.update({numero_candidato:candidato})\n",
    "        else:\n",
    "            print(\"Candidato inválido. Não é um objeto Candidato\")\n",
    "            \n",
    "    def executa_voto(self,apartamento,numero_candidato):\n",
    "            if not isinstance(numero_candidato,int):\n",
    "                print(\"Dado inválido. Deve ser fornecido um número\")\n",
    "            elif not isinstance(apartamento,Apartamento):\n",
    "                print(\"Apartamento inválido. Não é um objeto Apartamento\")\n",
    "            elif numero_candidato not in self._lista_candidatos.keys():\n",
    "                print(\"Nº de candidato não registrado.\")\n",
    "            elif apartamento not in self._lista_apartamentos:\n",
    "                print(\"Apartamento não habilitado para votar.\")\n",
    "            else:\n",
    "                self._lista_candidatos[numero_candidato].atualiza_votos()\n",
    "                apartamento._status_votacao = True\n",
    "                self._lista_apartamentos.remove(apartamento)\n",
    "                print(self._lista_apartamentos)\n",
    "                if(len(self._lista_apartamentos) == 0):\n",
    "                    return True\n",
    "            return False\n",
    "        \n",
    "    def imprime_resultado(self):\n",
    "        ranking = [[candidato._nome,candidato._contagem_votos] for candidato in self._lista_candidatos.values()]\n",
    "        ranking = sorted(ranking, key=lambda x: x[1],reverse=True)\n",
    "        df = pd.DataFrame(ranking)\n",
    "        display(df)\n",
    "        \n",
    "    def mostra_candidatos(self):\n",
    "        lista_candidato = [{\"Candidato\": candidato._nome,\"Nº Urna\": key} for key,candidato in self._lista_candidatos.items()]\n",
    "        df = pd.DataFrame(lista_candidato)\n",
    "        display(df)"
   ]
  },
  {
   "cell_type": "code",
   "execution_count": 6,
   "id": "zxQY5Jai5p9C",
   "metadata": {
    "ExecuteTime": {
     "end_time": "2021-11-22T22:46:12.171033Z",
     "start_time": "2021-11-22T22:46:12.148092Z"
    },
    "colab": {
     "base_uri": "https://localhost:8080/",
     "height": 457
    },
    "id": "zxQY5Jai5p9C",
    "outputId": "fa878446-bbfe-41e9-d31a-cceb5d7edf54"
   },
   "outputs": [
    {
     "data": {
      "text/html": [
       "<div>\n",
       "<style scoped>\n",
       "    .dataframe tbody tr th:only-of-type {\n",
       "        vertical-align: middle;\n",
       "    }\n",
       "\n",
       "    .dataframe tbody tr th {\n",
       "        vertical-align: top;\n",
       "    }\n",
       "\n",
       "    .dataframe thead th {\n",
       "        text-align: right;\n",
       "    }\n",
       "</style>\n",
       "<table border=\"1\" class=\"dataframe\">\n",
       "  <thead>\n",
       "    <tr style=\"text-align: right;\">\n",
       "      <th></th>\n",
       "      <th>Nome do Morador</th>\n",
       "      <th>Apartamento</th>\n",
       "      <th>Candidato</th>\n",
       "    </tr>\n",
       "  </thead>\n",
       "  <tbody>\n",
       "    <tr>\n",
       "      <th>0</th>\n",
       "      <td>Joyce</td>\n",
       "      <td>101</td>\n",
       "      <td>True</td>\n",
       "    </tr>\n",
       "    <tr>\n",
       "      <th>1</th>\n",
       "      <td>Matheus</td>\n",
       "      <td>101</td>\n",
       "      <td>False</td>\n",
       "    </tr>\n",
       "    <tr>\n",
       "      <th>2</th>\n",
       "      <td>Rafael</td>\n",
       "      <td>101</td>\n",
       "      <td>False</td>\n",
       "    </tr>\n",
       "    <tr>\n",
       "      <th>3</th>\n",
       "      <td>Luis</td>\n",
       "      <td>102</td>\n",
       "      <td>True</td>\n",
       "    </tr>\n",
       "    <tr>\n",
       "      <th>4</th>\n",
       "      <td>Camila</td>\n",
       "      <td>201</td>\n",
       "      <td>False</td>\n",
       "    </tr>\n",
       "    <tr>\n",
       "      <th>5</th>\n",
       "      <td>André</td>\n",
       "      <td>201</td>\n",
       "      <td>False</td>\n",
       "    </tr>\n",
       "    <tr>\n",
       "      <th>6</th>\n",
       "      <td>João</td>\n",
       "      <td>202</td>\n",
       "      <td>False</td>\n",
       "    </tr>\n",
       "  </tbody>\n",
       "</table>\n",
       "</div>"
      ],
      "text/plain": [
       "  Nome do Morador  Apartamento  Candidato\n",
       "0           Joyce          101       True\n",
       "1         Matheus          101      False\n",
       "2          Rafael          101      False\n",
       "3            Luis          102       True\n",
       "4          Camila          201      False\n",
       "5           André          201      False\n",
       "6            João          202      False"
      ]
     },
     "metadata": {},
     "output_type": "display_data"
    }
   ],
   "source": [
    "moradores_do_predio = pd.read_csv('moradores.csv',';')  \n",
    "#moradores_do_predio = pd.DataFrame(moradores_do_predio)\n",
    "display(moradores_do_predio)\n"
   ]
  },
  {
   "cell_type": "code",
   "execution_count": 7,
   "id": "2d47806f",
   "metadata": {
    "ExecuteTime": {
     "end_time": "2021-11-22T22:46:12.982640Z",
     "start_time": "2021-11-22T22:46:12.971669Z"
    },
    "id": "2d47806f"
   },
   "outputs": [],
   "source": [
    "#lê arquivo csv de apartamentos\n",
    "apartamentos = pd.read_csv('apartamentos.csv')\n",
    "\n",
    "#cria a variavel que vai guardar os apartamentos\n",
    "apartamentos_existentes = {}\n",
    "\n",
    "for apartamento in apartamentos.values:\n",
    "    apartamentos_existentes[apartamento[0]] = Apartamento(apartamento[0])"
   ]
  },
  {
   "cell_type": "code",
   "execution_count": 8,
   "id": "6458d691",
   "metadata": {
    "ExecuteTime": {
     "end_time": "2021-11-22T22:46:14.823549Z",
     "start_time": "2021-11-22T22:46:14.819560Z"
    },
    "id": "6458d691"
   },
   "outputs": [],
   "source": [
    "#cria moradores e candidatos\n",
    "moradores_existentes = []\n",
    "candidatos_existentes = []\n",
    "\n",
    "for morador in moradores_do_predio.values:\n",
    "    novo_morador = Morador(morador[0])\n",
    "    moradores_existentes.append(novo_morador)\n",
    "    apartamentos_existentes[morador[1]].adiciona_morador(novo_morador)\n",
    "    #verifica se o morador é candidato\n",
    "    if morador[2]:\n",
    "        candidatos_existentes.append(Candidato(novo_morador))"
   ]
  },
  {
   "cell_type": "code",
   "execution_count": 9,
   "id": "Wku-yjKqvYh9",
   "metadata": {
    "ExecuteTime": {
     "end_time": "2021-11-22T22:46:15.931389Z",
     "start_time": "2021-11-22T22:46:15.907453Z"
    },
    "colab": {
     "base_uri": "https://localhost:8080/",
     "height": 761
    },
    "id": "Wku-yjKqvYh9",
    "outputId": "c799a36c-a33d-4726-9fcd-d5777f46cadc"
   },
   "outputs": [
    {
     "data": {
      "text/html": [
       "<div>\n",
       "<style scoped>\n",
       "    .dataframe tbody tr th:only-of-type {\n",
       "        vertical-align: middle;\n",
       "    }\n",
       "\n",
       "    .dataframe tbody tr th {\n",
       "        vertical-align: top;\n",
       "    }\n",
       "\n",
       "    .dataframe thead th {\n",
       "        text-align: right;\n",
       "    }\n",
       "</style>\n",
       "<table border=\"1\" class=\"dataframe\">\n",
       "  <thead>\n",
       "    <tr style=\"text-align: right;\">\n",
       "      <th></th>\n",
       "      <th>Apartamento 101</th>\n",
       "    </tr>\n",
       "  </thead>\n",
       "  <tbody>\n",
       "    <tr>\n",
       "      <th>0</th>\n",
       "      <td>Joyce</td>\n",
       "    </tr>\n",
       "    <tr>\n",
       "      <th>1</th>\n",
       "      <td>Matheus</td>\n",
       "    </tr>\n",
       "    <tr>\n",
       "      <th>2</th>\n",
       "      <td>Rafael</td>\n",
       "    </tr>\n",
       "  </tbody>\n",
       "</table>\n",
       "</div>"
      ],
      "text/plain": [
       "  Apartamento 101\n",
       "0           Joyce\n",
       "1         Matheus\n",
       "2          Rafael"
      ]
     },
     "metadata": {},
     "output_type": "display_data"
    },
    {
     "data": {
      "text/html": [
       "<div>\n",
       "<style scoped>\n",
       "    .dataframe tbody tr th:only-of-type {\n",
       "        vertical-align: middle;\n",
       "    }\n",
       "\n",
       "    .dataframe tbody tr th {\n",
       "        vertical-align: top;\n",
       "    }\n",
       "\n",
       "    .dataframe thead th {\n",
       "        text-align: right;\n",
       "    }\n",
       "</style>\n",
       "<table border=\"1\" class=\"dataframe\">\n",
       "  <thead>\n",
       "    <tr style=\"text-align: right;\">\n",
       "      <th></th>\n",
       "      <th>Apartamento 102</th>\n",
       "    </tr>\n",
       "  </thead>\n",
       "  <tbody>\n",
       "    <tr>\n",
       "      <th>0</th>\n",
       "      <td>Luis</td>\n",
       "    </tr>\n",
       "  </tbody>\n",
       "</table>\n",
       "</div>"
      ],
      "text/plain": [
       "  Apartamento 102\n",
       "0            Luis"
      ]
     },
     "metadata": {},
     "output_type": "display_data"
    },
    {
     "data": {
      "text/html": [
       "<div>\n",
       "<style scoped>\n",
       "    .dataframe tbody tr th:only-of-type {\n",
       "        vertical-align: middle;\n",
       "    }\n",
       "\n",
       "    .dataframe tbody tr th {\n",
       "        vertical-align: top;\n",
       "    }\n",
       "\n",
       "    .dataframe thead th {\n",
       "        text-align: right;\n",
       "    }\n",
       "</style>\n",
       "<table border=\"1\" class=\"dataframe\">\n",
       "  <thead>\n",
       "    <tr style=\"text-align: right;\">\n",
       "      <th></th>\n",
       "      <th>Apartamento 201</th>\n",
       "    </tr>\n",
       "  </thead>\n",
       "  <tbody>\n",
       "    <tr>\n",
       "      <th>0</th>\n",
       "      <td>Camila</td>\n",
       "    </tr>\n",
       "    <tr>\n",
       "      <th>1</th>\n",
       "      <td>André</td>\n",
       "    </tr>\n",
       "  </tbody>\n",
       "</table>\n",
       "</div>"
      ],
      "text/plain": [
       "  Apartamento 201\n",
       "0          Camila\n",
       "1           André"
      ]
     },
     "metadata": {},
     "output_type": "display_data"
    },
    {
     "data": {
      "text/html": [
       "<div>\n",
       "<style scoped>\n",
       "    .dataframe tbody tr th:only-of-type {\n",
       "        vertical-align: middle;\n",
       "    }\n",
       "\n",
       "    .dataframe tbody tr th {\n",
       "        vertical-align: top;\n",
       "    }\n",
       "\n",
       "    .dataframe thead th {\n",
       "        text-align: right;\n",
       "    }\n",
       "</style>\n",
       "<table border=\"1\" class=\"dataframe\">\n",
       "  <thead>\n",
       "    <tr style=\"text-align: right;\">\n",
       "      <th></th>\n",
       "      <th>Apartamento 202</th>\n",
       "    </tr>\n",
       "  </thead>\n",
       "  <tbody>\n",
       "    <tr>\n",
       "      <th>0</th>\n",
       "      <td>João</td>\n",
       "    </tr>\n",
       "  </tbody>\n",
       "</table>\n",
       "</div>"
      ],
      "text/plain": [
       "  Apartamento 202\n",
       "0            João"
      ]
     },
     "metadata": {},
     "output_type": "display_data"
    }
   ],
   "source": [
    "#lista moradores de cada apartamento\n",
    "for apartamento in apartamentos_existentes.values():\n",
    "    apartamento.lista_moradores()"
   ]
  },
  {
   "cell_type": "code",
   "execution_count": 10,
   "id": "LbwFTutZZcBf",
   "metadata": {
    "ExecuteTime": {
     "end_time": "2021-11-22T22:46:22.575665Z",
     "start_time": "2021-11-22T22:46:22.555718Z"
    },
    "colab": {
     "base_uri": "https://localhost:8080/",
     "height": 143
    },
    "id": "LbwFTutZZcBf",
    "outputId": "40876fe9-e60a-43ce-f994-f3ecb1732b16"
   },
   "outputs": [
    {
     "data": {
      "text/html": [
       "<div>\n",
       "<style scoped>\n",
       "    .dataframe tbody tr th:only-of-type {\n",
       "        vertical-align: middle;\n",
       "    }\n",
       "\n",
       "    .dataframe tbody tr th {\n",
       "        vertical-align: top;\n",
       "    }\n",
       "\n",
       "    .dataframe thead th {\n",
       "        text-align: right;\n",
       "    }\n",
       "</style>\n",
       "<table border=\"1\" class=\"dataframe\">\n",
       "  <thead>\n",
       "    <tr style=\"text-align: right;\">\n",
       "      <th></th>\n",
       "      <th>Candidato</th>\n",
       "      <th>Nº Urna</th>\n",
       "    </tr>\n",
       "  </thead>\n",
       "  <tbody>\n",
       "    <tr>\n",
       "      <th>0</th>\n",
       "      <td>Joyce</td>\n",
       "      <td>0</td>\n",
       "    </tr>\n",
       "    <tr>\n",
       "      <th>1</th>\n",
       "      <td>Luis</td>\n",
       "      <td>0</td>\n",
       "    </tr>\n",
       "  </tbody>\n",
       "</table>\n",
       "</div>"
      ],
      "text/plain": [
       "  Candidato  Nº Urna\n",
       "0     Joyce        0\n",
       "1      Luis        0"
      ]
     },
     "metadata": {},
     "output_type": "display_data"
    }
   ],
   "source": [
    "#lista os candidatos\n",
    "lista_candidato = [{\"Candidato\": candidato._nome,\"Nº Urna\": candidato._numero_urna} for candidato in candidatos_existentes]\n",
    "df = pd.DataFrame(lista_candidato)\n",
    "display(df)"
   ]
  },
  {
   "cell_type": "code",
   "execution_count": 11,
   "id": "koJPyay0UbWF",
   "metadata": {
    "ExecuteTime": {
     "end_time": "2021-11-22T22:46:24.948160Z",
     "start_time": "2021-11-22T22:46:24.932204Z"
    },
    "id": "koJPyay0UbWF"
   },
   "outputs": [],
   "source": [
    "#criar urna\n",
    "urna  = Urna()"
   ]
  },
  {
   "cell_type": "code",
   "execution_count": 12,
   "id": "ViLsuQTBaJ1r",
   "metadata": {
    "ExecuteTime": {
     "end_time": "2021-11-22T22:46:25.450387Z",
     "start_time": "2021-11-22T22:46:25.443406Z"
    },
    "id": "ViLsuQTBaJ1r"
   },
   "outputs": [],
   "source": [
    "#cadastrar apartamentos na urna\n",
    "for apartamento in apartamentos_existentes.values():\n",
    "    #verifica se apartamento não está vazio\n",
    "    if len(apartamento._lista_moradores) > 0:\n",
    "        urna.cadastra_apartamento(apartamento)"
   ]
  },
  {
   "cell_type": "code",
   "execution_count": 13,
   "id": "muM9XXmDa064",
   "metadata": {
    "ExecuteTime": {
     "end_time": "2021-11-22T22:46:27.102579Z",
     "start_time": "2021-11-22T22:46:27.091609Z"
    },
    "id": "muM9XXmDa064"
   },
   "outputs": [],
   "source": [
    "#cadastrar candidatos\n",
    "for candidato in candidatos_existentes:\n",
    "    urna.cadastra_candidato(candidato)"
   ]
  },
  {
   "cell_type": "code",
   "execution_count": 14,
   "id": "tNbP0hl3xF7q",
   "metadata": {
    "ExecuteTime": {
     "end_time": "2021-11-22T22:46:28.818444Z",
     "start_time": "2021-11-22T22:46:28.803484Z"
    },
    "colab": {
     "base_uri": "https://localhost:8080/",
     "height": 143
    },
    "id": "tNbP0hl3xF7q",
    "outputId": "422121bd-dd71-49ae-8115-019b0f6a7973"
   },
   "outputs": [
    {
     "data": {
      "text/html": [
       "<div>\n",
       "<style scoped>\n",
       "    .dataframe tbody tr th:only-of-type {\n",
       "        vertical-align: middle;\n",
       "    }\n",
       "\n",
       "    .dataframe tbody tr th {\n",
       "        vertical-align: top;\n",
       "    }\n",
       "\n",
       "    .dataframe thead th {\n",
       "        text-align: right;\n",
       "    }\n",
       "</style>\n",
       "<table border=\"1\" class=\"dataframe\">\n",
       "  <thead>\n",
       "    <tr style=\"text-align: right;\">\n",
       "      <th></th>\n",
       "      <th>Candidato</th>\n",
       "      <th>Nº Urna</th>\n",
       "    </tr>\n",
       "  </thead>\n",
       "  <tbody>\n",
       "    <tr>\n",
       "      <th>0</th>\n",
       "      <td>Joyce</td>\n",
       "      <td>321</td>\n",
       "    </tr>\n",
       "    <tr>\n",
       "      <th>1</th>\n",
       "      <td>Luis</td>\n",
       "      <td>77</td>\n",
       "    </tr>\n",
       "  </tbody>\n",
       "</table>\n",
       "</div>"
      ],
      "text/plain": [
       "  Candidato  Nº Urna\n",
       "0     Joyce      321\n",
       "1      Luis       77"
      ]
     },
     "metadata": {},
     "output_type": "display_data"
    }
   ],
   "source": [
    "urna.mostra_candidatos()"
   ]
  },
  {
   "cell_type": "code",
   "execution_count": 15,
   "id": "nAQiWBTcdg8p",
   "metadata": {
    "ExecuteTime": {
     "end_time": "2021-11-22T22:48:32.870481Z",
     "start_time": "2021-11-22T22:46:32.467412Z"
    },
    "id": "nAQiWBTcdg8p"
   },
   "outputs": [
    {
     "data": {
      "text/html": [
       "<div>\n",
       "<style scoped>\n",
       "    .dataframe tbody tr th:only-of-type {\n",
       "        vertical-align: middle;\n",
       "    }\n",
       "\n",
       "    .dataframe tbody tr th {\n",
       "        vertical-align: top;\n",
       "    }\n",
       "\n",
       "    .dataframe thead th {\n",
       "        text-align: right;\n",
       "    }\n",
       "</style>\n",
       "<table border=\"1\" class=\"dataframe\">\n",
       "  <thead>\n",
       "    <tr style=\"text-align: right;\">\n",
       "      <th></th>\n",
       "      <th>Nome do Morador</th>\n",
       "      <th>Apartamento</th>\n",
       "      <th>Candidato</th>\n",
       "    </tr>\n",
       "  </thead>\n",
       "  <tbody>\n",
       "    <tr>\n",
       "      <th>0</th>\n",
       "      <td>Joyce</td>\n",
       "      <td>101</td>\n",
       "      <td>True</td>\n",
       "    </tr>\n",
       "    <tr>\n",
       "      <th>1</th>\n",
       "      <td>Matheus</td>\n",
       "      <td>101</td>\n",
       "      <td>False</td>\n",
       "    </tr>\n",
       "    <tr>\n",
       "      <th>2</th>\n",
       "      <td>Rafael</td>\n",
       "      <td>101</td>\n",
       "      <td>False</td>\n",
       "    </tr>\n",
       "    <tr>\n",
       "      <th>3</th>\n",
       "      <td>Luis</td>\n",
       "      <td>102</td>\n",
       "      <td>True</td>\n",
       "    </tr>\n",
       "    <tr>\n",
       "      <th>4</th>\n",
       "      <td>Camila</td>\n",
       "      <td>201</td>\n",
       "      <td>False</td>\n",
       "    </tr>\n",
       "    <tr>\n",
       "      <th>5</th>\n",
       "      <td>André</td>\n",
       "      <td>201</td>\n",
       "      <td>False</td>\n",
       "    </tr>\n",
       "    <tr>\n",
       "      <th>6</th>\n",
       "      <td>João</td>\n",
       "      <td>202</td>\n",
       "      <td>False</td>\n",
       "    </tr>\n",
       "  </tbody>\n",
       "</table>\n",
       "</div>"
      ],
      "text/plain": [
       "  Nome do Morador  Apartamento  Candidato\n",
       "0           Joyce          101       True\n",
       "1         Matheus          101      False\n",
       "2          Rafael          101      False\n",
       "3            Luis          102       True\n",
       "4          Camila          201      False\n",
       "5           André          201      False\n",
       "6            João          202      False"
      ]
     },
     "metadata": {},
     "output_type": "display_data"
    },
    {
     "name": "stdout",
     "output_type": "stream",
     "text": [
      "Digite o id de qual morador vai votar: 0\n",
      "\n",
      "Olá  Joyce\n"
     ]
    },
    {
     "data": {
      "text/html": [
       "<div>\n",
       "<style scoped>\n",
       "    .dataframe tbody tr th:only-of-type {\n",
       "        vertical-align: middle;\n",
       "    }\n",
       "\n",
       "    .dataframe tbody tr th {\n",
       "        vertical-align: top;\n",
       "    }\n",
       "\n",
       "    .dataframe thead th {\n",
       "        text-align: right;\n",
       "    }\n",
       "</style>\n",
       "<table border=\"1\" class=\"dataframe\">\n",
       "  <thead>\n",
       "    <tr style=\"text-align: right;\">\n",
       "      <th></th>\n",
       "      <th>Candidato</th>\n",
       "      <th>Nº Urna</th>\n",
       "    </tr>\n",
       "  </thead>\n",
       "  <tbody>\n",
       "    <tr>\n",
       "      <th>0</th>\n",
       "      <td>Joyce</td>\n",
       "      <td>321</td>\n",
       "    </tr>\n",
       "    <tr>\n",
       "      <th>1</th>\n",
       "      <td>Luis</td>\n",
       "      <td>77</td>\n",
       "    </tr>\n",
       "  </tbody>\n",
       "</table>\n",
       "</div>"
      ],
      "text/plain": [
       "  Candidato  Nº Urna\n",
       "0     Joyce      321\n",
       "1      Luis       77"
      ]
     },
     "metadata": {},
     "output_type": "display_data"
    },
    {
     "name": "stdout",
     "output_type": "stream",
     "text": [
      "Digite o número do seu candidato.77\n",
      "\n",
      "[Nº Apartamento: 102,Moradores: [Morador: Luis, Apartamento: Nº Apartamento: 102,Moradores: [...], Votou?: False], Votou?: False, Nº Apartamento: 201,Moradores: [Morador: Camila, Apartamento: Nº Apartamento: 201,Moradores: [...], Votou?: False, Morador: André, Apartamento: Nº Apartamento: 201,Moradores: [...], Votou?: False], Votou?: False, Nº Apartamento: 202,Moradores: [Morador: João, Apartamento: Nº Apartamento: 202,Moradores: [...], Votou?: False], Votou?: False]\n",
      "Digite o id de qual morador vai votar: 1\n",
      "\n",
      "Olá  Matheus\n"
     ]
    },
    {
     "data": {
      "text/html": [
       "<div>\n",
       "<style scoped>\n",
       "    .dataframe tbody tr th:only-of-type {\n",
       "        vertical-align: middle;\n",
       "    }\n",
       "\n",
       "    .dataframe tbody tr th {\n",
       "        vertical-align: top;\n",
       "    }\n",
       "\n",
       "    .dataframe thead th {\n",
       "        text-align: right;\n",
       "    }\n",
       "</style>\n",
       "<table border=\"1\" class=\"dataframe\">\n",
       "  <thead>\n",
       "    <tr style=\"text-align: right;\">\n",
       "      <th></th>\n",
       "      <th>Candidato</th>\n",
       "      <th>Nº Urna</th>\n",
       "    </tr>\n",
       "  </thead>\n",
       "  <tbody>\n",
       "    <tr>\n",
       "      <th>0</th>\n",
       "      <td>Joyce</td>\n",
       "      <td>321</td>\n",
       "    </tr>\n",
       "    <tr>\n",
       "      <th>1</th>\n",
       "      <td>Luis</td>\n",
       "      <td>77</td>\n",
       "    </tr>\n",
       "  </tbody>\n",
       "</table>\n",
       "</div>"
      ],
      "text/plain": [
       "  Candidato  Nº Urna\n",
       "0     Joyce      321\n",
       "1      Luis       77"
      ]
     },
     "metadata": {},
     "output_type": "display_data"
    },
    {
     "name": "stdout",
     "output_type": "stream",
     "text": [
      "Digite o número do seu candidato.0\n",
      "\n",
      "Voto do apartamento já contabilizado. Não é possível voltar 2 vezes.\n",
      "Digite o id de qual morador vai votar: 3\n",
      "\n",
      "Olá  Luis\n"
     ]
    },
    {
     "data": {
      "text/html": [
       "<div>\n",
       "<style scoped>\n",
       "    .dataframe tbody tr th:only-of-type {\n",
       "        vertical-align: middle;\n",
       "    }\n",
       "\n",
       "    .dataframe tbody tr th {\n",
       "        vertical-align: top;\n",
       "    }\n",
       "\n",
       "    .dataframe thead th {\n",
       "        text-align: right;\n",
       "    }\n",
       "</style>\n",
       "<table border=\"1\" class=\"dataframe\">\n",
       "  <thead>\n",
       "    <tr style=\"text-align: right;\">\n",
       "      <th></th>\n",
       "      <th>Candidato</th>\n",
       "      <th>Nº Urna</th>\n",
       "    </tr>\n",
       "  </thead>\n",
       "  <tbody>\n",
       "    <tr>\n",
       "      <th>0</th>\n",
       "      <td>Joyce</td>\n",
       "      <td>321</td>\n",
       "    </tr>\n",
       "    <tr>\n",
       "      <th>1</th>\n",
       "      <td>Luis</td>\n",
       "      <td>77</td>\n",
       "    </tr>\n",
       "  </tbody>\n",
       "</table>\n",
       "</div>"
      ],
      "text/plain": [
       "  Candidato  Nº Urna\n",
       "0     Joyce      321\n",
       "1      Luis       77"
      ]
     },
     "metadata": {},
     "output_type": "display_data"
    },
    {
     "name": "stdout",
     "output_type": "stream",
     "text": [
      "Digite o número do seu candidato.0\n",
      "\n",
      "Nº de candidato não registrado.\n",
      "Digite o id de qual morador vai votar: 3\n",
      "\n",
      "Olá  Luis\n"
     ]
    },
    {
     "data": {
      "text/html": [
       "<div>\n",
       "<style scoped>\n",
       "    .dataframe tbody tr th:only-of-type {\n",
       "        vertical-align: middle;\n",
       "    }\n",
       "\n",
       "    .dataframe tbody tr th {\n",
       "        vertical-align: top;\n",
       "    }\n",
       "\n",
       "    .dataframe thead th {\n",
       "        text-align: right;\n",
       "    }\n",
       "</style>\n",
       "<table border=\"1\" class=\"dataframe\">\n",
       "  <thead>\n",
       "    <tr style=\"text-align: right;\">\n",
       "      <th></th>\n",
       "      <th>Candidato</th>\n",
       "      <th>Nº Urna</th>\n",
       "    </tr>\n",
       "  </thead>\n",
       "  <tbody>\n",
       "    <tr>\n",
       "      <th>0</th>\n",
       "      <td>Joyce</td>\n",
       "      <td>321</td>\n",
       "    </tr>\n",
       "    <tr>\n",
       "      <th>1</th>\n",
       "      <td>Luis</td>\n",
       "      <td>77</td>\n",
       "    </tr>\n",
       "  </tbody>\n",
       "</table>\n",
       "</div>"
      ],
      "text/plain": [
       "  Candidato  Nº Urna\n",
       "0     Joyce      321\n",
       "1      Luis       77"
      ]
     },
     "metadata": {},
     "output_type": "display_data"
    },
    {
     "name": "stdout",
     "output_type": "stream",
     "text": [
      "Digite o número do seu candidato.77\n",
      "\n",
      "[Nº Apartamento: 201,Moradores: [Morador: Camila, Apartamento: Nº Apartamento: 201,Moradores: [...], Votou?: False, Morador: André, Apartamento: Nº Apartamento: 201,Moradores: [...], Votou?: False], Votou?: False, Nº Apartamento: 202,Moradores: [Morador: João, Apartamento: Nº Apartamento: 202,Moradores: [...], Votou?: False], Votou?: False]\n",
      "Digite o id de qual morador vai votar: 4\n",
      "\n",
      "Olá  Camila\n"
     ]
    },
    {
     "data": {
      "text/html": [
       "<div>\n",
       "<style scoped>\n",
       "    .dataframe tbody tr th:only-of-type {\n",
       "        vertical-align: middle;\n",
       "    }\n",
       "\n",
       "    .dataframe tbody tr th {\n",
       "        vertical-align: top;\n",
       "    }\n",
       "\n",
       "    .dataframe thead th {\n",
       "        text-align: right;\n",
       "    }\n",
       "</style>\n",
       "<table border=\"1\" class=\"dataframe\">\n",
       "  <thead>\n",
       "    <tr style=\"text-align: right;\">\n",
       "      <th></th>\n",
       "      <th>Candidato</th>\n",
       "      <th>Nº Urna</th>\n",
       "    </tr>\n",
       "  </thead>\n",
       "  <tbody>\n",
       "    <tr>\n",
       "      <th>0</th>\n",
       "      <td>Joyce</td>\n",
       "      <td>321</td>\n",
       "    </tr>\n",
       "    <tr>\n",
       "      <th>1</th>\n",
       "      <td>Luis</td>\n",
       "      <td>77</td>\n",
       "    </tr>\n",
       "  </tbody>\n",
       "</table>\n",
       "</div>"
      ],
      "text/plain": [
       "  Candidato  Nº Urna\n",
       "0     Joyce      321\n",
       "1      Luis       77"
      ]
     },
     "metadata": {},
     "output_type": "display_data"
    },
    {
     "name": "stdout",
     "output_type": "stream",
     "text": [
      "Digite o número do seu candidato.321\n",
      "\n",
      "[Nº Apartamento: 202,Moradores: [Morador: João, Apartamento: Nº Apartamento: 202,Moradores: [...], Votou?: False], Votou?: False]\n",
      "Digite o id de qual morador vai votar: 6\n",
      "\n",
      "Olá  João\n"
     ]
    },
    {
     "data": {
      "text/html": [
       "<div>\n",
       "<style scoped>\n",
       "    .dataframe tbody tr th:only-of-type {\n",
       "        vertical-align: middle;\n",
       "    }\n",
       "\n",
       "    .dataframe tbody tr th {\n",
       "        vertical-align: top;\n",
       "    }\n",
       "\n",
       "    .dataframe thead th {\n",
       "        text-align: right;\n",
       "    }\n",
       "</style>\n",
       "<table border=\"1\" class=\"dataframe\">\n",
       "  <thead>\n",
       "    <tr style=\"text-align: right;\">\n",
       "      <th></th>\n",
       "      <th>Candidato</th>\n",
       "      <th>Nº Urna</th>\n",
       "    </tr>\n",
       "  </thead>\n",
       "  <tbody>\n",
       "    <tr>\n",
       "      <th>0</th>\n",
       "      <td>Joyce</td>\n",
       "      <td>321</td>\n",
       "    </tr>\n",
       "    <tr>\n",
       "      <th>1</th>\n",
       "      <td>Luis</td>\n",
       "      <td>77</td>\n",
       "    </tr>\n",
       "  </tbody>\n",
       "</table>\n",
       "</div>"
      ],
      "text/plain": [
       "  Candidato  Nº Urna\n",
       "0     Joyce      321\n",
       "1      Luis       77"
      ]
     },
     "metadata": {},
     "output_type": "display_data"
    },
    {
     "name": "stdout",
     "output_type": "stream",
     "text": [
      "Digite o número do seu candidato.321\n",
      "\n",
      "[]\n"
     ]
    },
    {
     "data": {
      "text/html": [
       "<div>\n",
       "<style scoped>\n",
       "    .dataframe tbody tr th:only-of-type {\n",
       "        vertical-align: middle;\n",
       "    }\n",
       "\n",
       "    .dataframe tbody tr th {\n",
       "        vertical-align: top;\n",
       "    }\n",
       "\n",
       "    .dataframe thead th {\n",
       "        text-align: right;\n",
       "    }\n",
       "</style>\n",
       "<table border=\"1\" class=\"dataframe\">\n",
       "  <thead>\n",
       "    <tr style=\"text-align: right;\">\n",
       "      <th></th>\n",
       "      <th>0</th>\n",
       "      <th>1</th>\n",
       "    </tr>\n",
       "  </thead>\n",
       "  <tbody>\n",
       "    <tr>\n",
       "      <th>0</th>\n",
       "      <td>Joyce</td>\n",
       "      <td>2</td>\n",
       "    </tr>\n",
       "    <tr>\n",
       "      <th>1</th>\n",
       "      <td>Luis</td>\n",
       "      <td>2</td>\n",
       "    </tr>\n",
       "  </tbody>\n",
       "</table>\n",
       "</div>"
      ],
      "text/plain": [
       "       0  1\n",
       "0  Joyce  2\n",
       "1   Luis  2"
      ]
     },
     "metadata": {},
     "output_type": "display_data"
    }
   ],
   "source": [
    "terminou = False\n",
    "display(moradores_do_predio)\n",
    "while terminou == False:\n",
    "    quemVaiVotar = int(input(\"Digite o id de qual morador vai votar: \"))\n",
    "    print()\n",
    "    print(\"Olá \",moradores_existentes[quemVaiVotar]._nome)\n",
    "    urna.mostra_candidatos()\n",
    "    seuCandidato = int(input(\"Digite o número do seu candidato.\"))\n",
    "    print()\n",
    "    terminou = moradores_existentes[quemVaiVotar].vota_candidato(urna,seuCandidato) \n",
    "urna.imprime_resultado()"
   ]
  },
  {
   "cell_type": "code",
   "execution_count": 16,
   "id": "1-ZOTc3ci9f-",
   "metadata": {
    "ExecuteTime": {
     "end_time": "2021-11-22T22:48:38.705988Z",
     "start_time": "2021-11-22T22:48:38.692025Z"
    },
    "colab": {
     "base_uri": "https://localhost:8080/",
     "height": 143
    },
    "id": "1-ZOTc3ci9f-",
    "outputId": "0a4f140f-aea0-4da8-eeb2-01229e953972"
   },
   "outputs": [
    {
     "data": {
      "text/html": [
       "<div>\n",
       "<style scoped>\n",
       "    .dataframe tbody tr th:only-of-type {\n",
       "        vertical-align: middle;\n",
       "    }\n",
       "\n",
       "    .dataframe tbody tr th {\n",
       "        vertical-align: top;\n",
       "    }\n",
       "\n",
       "    .dataframe thead th {\n",
       "        text-align: right;\n",
       "    }\n",
       "</style>\n",
       "<table border=\"1\" class=\"dataframe\">\n",
       "  <thead>\n",
       "    <tr style=\"text-align: right;\">\n",
       "      <th></th>\n",
       "      <th>0</th>\n",
       "      <th>1</th>\n",
       "    </tr>\n",
       "  </thead>\n",
       "  <tbody>\n",
       "    <tr>\n",
       "      <th>0</th>\n",
       "      <td>Joyce</td>\n",
       "      <td>2</td>\n",
       "    </tr>\n",
       "    <tr>\n",
       "      <th>1</th>\n",
       "      <td>Luis</td>\n",
       "      <td>2</td>\n",
       "    </tr>\n",
       "  </tbody>\n",
       "</table>\n",
       "</div>"
      ],
      "text/plain": [
       "       0  1\n",
       "0  Joyce  2\n",
       "1   Luis  2"
      ]
     },
     "metadata": {},
     "output_type": "display_data"
    }
   ],
   "source": [
    "urna.imprime_resultado()\n",
    "\n",
    "\n",
    "\n",
    "def graficoVotos(candidatos, votos):\n",
    "    plt.bar(candidatos, votos)\n",
    "    plt.title('Resultado das eleições')\n",
    "    plt.xlabel('Candidatos')\n",
    "    plt.ylabel('Votos')"
   ]
  }
 ],
 "metadata": {
  "colab": {
   "collapsed_sections": [],
   "name": "Projeto Final.ipynb",
   "provenance": []
  },
  "kernelspec": {
   "display_name": "Python 3",
   "language": "python",
   "name": "python3"
  },
  "language_info": {
   "codemirror_mode": {
    "name": "ipython",
    "version": 3
   },
   "file_extension": ".py",
   "mimetype": "text/x-python",
   "name": "python",
   "nbconvert_exporter": "python",
   "pygments_lexer": "ipython3",
   "version": "3.8.8"
  },
  "varInspector": {
   "cols": {
    "lenName": 16,
    "lenType": 16,
    "lenVar": 40
   },
   "kernels_config": {
    "python": {
     "delete_cmd_postfix": "",
     "delete_cmd_prefix": "del ",
     "library": "var_list.py",
     "varRefreshCmd": "print(var_dic_list())"
    },
    "r": {
     "delete_cmd_postfix": ") ",
     "delete_cmd_prefix": "rm(",
     "library": "var_list.r",
     "varRefreshCmd": "cat(var_dic_list()) "
    }
   },
   "types_to_exclude": [
    "module",
    "function",
    "builtin_function_or_method",
    "instance",
    "_Feature"
   ],
   "window_display": false
  }
 },
 "nbformat": 4,
 "nbformat_minor": 5
}
