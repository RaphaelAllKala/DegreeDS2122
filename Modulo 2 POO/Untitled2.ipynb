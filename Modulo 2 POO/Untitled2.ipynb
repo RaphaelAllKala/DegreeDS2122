{
 "cells": [
  {
   "cell_type": "code",
   "execution_count": 1,
   "id": "f24c03d6-7791-4a02-9119-06d012b3e6be",
   "metadata": {},
   "outputs": [
    {
     "ename": "SyntaxError",
     "evalue": "invalid syntax (Temp/ipykernel_15896/1507587393.py, line 40)",
     "output_type": "error",
     "traceback": [
      "\u001b[1;36m  File \u001b[1;32m\"C:\\Users\\rapha\\AppData\\Local\\Temp/ipykernel_15896/1507587393.py\"\u001b[1;36m, line \u001b[1;32m40\u001b[0m\n\u001b[1;33m    segundos =\u001b[0m\n\u001b[1;37m              ^\u001b[0m\n\u001b[1;31mSyntaxError\u001b[0m\u001b[1;31m:\u001b[0m invalid syntax\n"
     ]
    }
   ],
   "source": [
    "class Relogio:\n",
    "    def __init__(self, hora, minuto, segundo):\n",
    "        '''\n",
    "        docstring bonitinha\n",
    "        '''        \n",
    "        # verificação dos tipos\n",
    "        if not isinstance(hora, int):\n",
    "            raise TypeError('Hora precisa ser do tipo inteiro.') \n",
    "        if not isinstance(minuto, int):\n",
    "            raise TypeError('Minuto precisa ser do tipo inteiro.') \n",
    "        if not isinstance(segundo, int):\n",
    "            raise TypeError('Segundo precisa ser do tipo inteiro.') \n",
    "        \n",
    "        # definindo os intervalos\n",
    "        if hora < 0 or hora > 23:\n",
    "            raise ValueError('Hora precisa estar no intervalo de 0-23')\n",
    "        if minuto < 0 or minuto > 59:\n",
    "            raise ValueError('Minuto precisa estar no intervalo de 0-59')\n",
    "        if segundo < 0 or segundo > 59:\n",
    "            raise ValueError('Segundo precisa estar no intervalo de 0-59')\n",
    "            \n",
    "        # finalmente criando os atributos\n",
    "        self.hora = hora\n",
    "        self.minuto = minuto\n",
    "        self.segundo = segundo\n",
    "        \n",
    "    # representa os objetos da sua classe como string\n",
    "    def __repr__(self):\n",
    "        return f'{self.hora}:{self.minuto}:{self.segundo}'\n",
    "    \n",
    "    # representa os objetos da sua classe\n",
    "    # sempre que str(obj) é chamado\n",
    "    def __str__(self):\n",
    "        return f'{self.hora:02d}:{self.minuto:02d}:{self.segundo:02d}'\n",
    "            \n",
    "#     def __eq__(self):\n",
    "#         return self.hora == \n",
    "    \n",
    "    def __add__(self, other):\n",
    "        if soma segundos < 60:\n",
    "            segundos = segundos - 60\n",
    "        if minutos = # logica minutos\n",
    "        hora = #logica hora\n",
    "        \n",
    "        soma = Relogio(hora, minutos, segundos)\n",
    "        return soma\n",
    "        \n",
    "#     def __sub__(self):"
   ]
  }
 ],
 "metadata": {
  "kernelspec": {
   "display_name": "Python 3 (ipykernel)",
   "language": "python",
   "name": "python3"
  },
  "language_info": {
   "codemirror_mode": {
    "name": "ipython",
    "version": 3
   },
   "file_extension": ".py",
   "mimetype": "text/x-python",
   "name": "python",
   "nbconvert_exporter": "python",
   "pygments_lexer": "ipython3",
   "version": "3.9.7"
  }
 },
 "nbformat": 4,
 "nbformat_minor": 5
}
