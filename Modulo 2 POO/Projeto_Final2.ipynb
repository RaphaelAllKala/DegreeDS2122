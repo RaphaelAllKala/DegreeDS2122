{
 "cells": [
  {
   "cell_type": "code",
   "execution_count": 7,
   "id": "cDFvbwmb3c50",
   "metadata": {
    "ExecuteTime": {
     "end_time": "2021-11-22T22:46:10.040946Z",
     "start_time": "2021-11-22T22:46:10.029981Z"
    },
    "id": "cDFvbwmb3c50"
   },
   "outputs": [],
   "source": [
    "import pandas as pd\n",
    "import matplotlib.pyplot as plt\n",
    "from random import choice\n",
    "from IPython.display import clear_output"
   ]
  },
  {
   "cell_type": "markdown",
   "id": "c351b571",
   "metadata": {
    "id": "c351b571"
   },
   "source": [
    "#### Projeto 2 - Organizando uma eleição"
   ]
  },
  {
   "cell_type": "code",
   "execution_count": 8,
   "id": "207fbdcd",
   "metadata": {
    "ExecuteTime": {
     "end_time": "2021-11-22T22:46:11.265925Z",
     "start_time": "2021-11-22T22:46:11.243983Z"
    },
    "id": "207fbdcd"
   },
   "outputs": [],
   "source": [
    "#cadastrar todos os apartamentos primeiro\n",
    "class Apartamento:\n",
    "    '''\n",
    "    Cria o dicionário de dados usando como chave o \n",
    "    número do apartamento e os valores são os nomes\n",
    "    dos moradores (lista).\n",
    "    '''\n",
    "    def __init__(self,numero_apartamento):\n",
    "        '''\n",
    "        Construtor do apartamento, a identificação será uma \n",
    "        string pois o condomínio pode conter vários blocos e\n",
    "        a numerção poderá repetir. ex: 101A , 101B.\n",
    "        \n",
    "        Parametros:\n",
    "        numero_apartamento : str\n",
    "            Chave do dicionário.\n",
    "        \n",
    "        '''\n",
    "        self._lista_moradores = []\n",
    "        self._status_votacao = False\n",
    "        self._numero_apartamento = numero_apartamento\n",
    "    \n",
    "    def __repr__(self):\n",
    "        return f'Nº Apartamento: {self._numero_apartamento},Moradores: {self._lista_moradores}, Votou?: {self._status_votacao}'\n",
    "\n",
    "    def adiciona_morador(self,morador):\n",
    "        '''\n",
    "        Adciciona objeto Morador a lista de moradores do partamento.\n",
    "        Caso o input não seja objeto Morador imprime mensagem de erro.\n",
    "        \n",
    "        Parâmetros:\n",
    "        \n",
    "        morador : Morador          \n",
    "        \n",
    "            Objeto da classe Morador.\n",
    "        '''\n",
    "        if(isinstance(morador,Morador)):\n",
    "            self._lista_moradores.append(morador)\n",
    "            morador._apartamento = self\n",
    "        else:\n",
    "            print(\"Morador inválido. Não é um objeto Morador\")\n",
    "    \n",
    "    def lista_moradores(self):\n",
    "        '''\n",
    "        Imprime lista de moradores do apartamento.\n",
    "        '''\n",
    "        lista_moradores = [{\"Apartamento \"+str(self._numero_apartamento): morador._nome} for morador in self._lista_moradores]\n",
    "        df = pd.DataFrame(lista_moradores)\n",
    "        display(df) \n",
    "\n",
    "class Morador:\n",
    "    '''\n",
    "    Define os atributos dos indivíduos do condomínio. \n",
    "    \n",
    "    '''\n",
    "    \n",
    "    def __init__(self, nome):\n",
    "        '''\n",
    "        Costrutor do objeto Morador com nome e variavel apartamento que irá ser usada na classe Apartamento.\n",
    "        \n",
    "        Parâmetros;\n",
    "        \n",
    "        nome : str\n",
    "            Nome do indivíduo que será usado como identificação do objeto Morador\n",
    "        \n",
    "        \n",
    "        '''\n",
    "        if(isinstance(nome,str)):\n",
    "            self._nome = nome\n",
    "            self._apartamento = None\n",
    "        else:\n",
    "            print(\"O nome deve ser uma string\")\n",
    "\n",
    "      \n",
    "    def __repr__(self):\n",
    "        '''\n",
    "        Método mágico para melhor visualização objeto Morador.\n",
    "        '''\n",
    "        return f'Morador: {self._nome}, Apartamento: {self._apartamento}'\n",
    "    \n",
    "    def vota_candidato(self,urna,numero_candidato):\n",
    "        if(isinstance(urna,Urna)):\n",
    "            if(isinstance(numero_candidato,int)):\n",
    "                if self._apartamento._status_votacao:\n",
    "                    print(\"Voto do apartamento já contabilizado. Não é possível voltar 2 vezes.\")\n",
    "                    return False\n",
    "                else:\n",
    "                    return urna.executa_voto(self._apartamento,numero_candidato)\n",
    "            else:\n",
    "                print(\"Nº do candidato inválido.\")\n",
    "        else:\n",
    "            print(\"Urna inválida. Não é um objeto Urna\")\n",
    "                \n",
    "class Candidato(Morador):\n",
    "    '''\n",
    "    Classe filha da classe Morador.\n",
    "    Estabelece o morador escolhido como candidato a síndico.\n",
    "    \n",
    "    '''\n",
    "    def __init__(self,morador):\n",
    "        '''\n",
    "        Construtor de candidato usando um nome válido de morador. \n",
    "        Caso o nome não esteja na lista de moradores imprime mensagem de erro.  \n",
    "        \n",
    "        Parâmetros:\n",
    "        \n",
    "        morador : str\n",
    "        \n",
    "            Nome do morador que se candidatou ao cargo de síndico.\n",
    "        '''\n",
    "        \n",
    "        if(isinstance(morador,Morador)):\n",
    "            self._nome = morador._nome\n",
    "            self._apartamento = morador._apartamento\n",
    "            self._numero_urna = 0 #escolha aleatória entre 0 - 100\n",
    "            self._contagem_votos = 0\n",
    "        else:\n",
    "            print(\"Morador inválido. Não é um objeto Morador\")\n",
    "\n",
    "    def __repr__(self):\n",
    "        '''\n",
    "        Método mágico para melhor visualização objeto Morador.\n",
    "        '''\n",
    "        return f'Candidato: {self._nome}, Número Urna: {self._numero_urna}'\n",
    "\n",
    "    def atualiza_votos(self):\n",
    "        '''\n",
    "        Atualização no contador de voctos do candidato.\n",
    "        Requisitado na função executa_voto.\n",
    "        '''\n",
    "        self._contagem_votos = self._contagem_votos + 1\n",
    "    \n",
    "   \n",
    "    \n",
    "class Urna:\n",
    "    '''\n",
    "    Define o funcionamento da votação.\n",
    "    '''\n",
    "    def __init__(self):\n",
    "        '''\n",
    "        Construtor da classe urna que recebe informação das classes\n",
    "        Apartamento, Morador, Candidato e inicia a contagem dos votos.\n",
    "        \n",
    "        '''\n",
    "        self._lista_candidatos = dict()\n",
    "        self._lista_apartamentos = []\n",
    "        \n",
    "    def cadastra_apartamento(self,apartamento):\n",
    "        if(isinstance(apartamento,Apartamento)):\n",
    "            self._lista_apartamentos.append(apartamento)\n",
    "        else:\n",
    "            print(\"Apartamento inválido. Não é um objeto Apartamento\")\n",
    "            \n",
    "    def cadastra_candidato(self,candidato):\n",
    "        if(isinstance(candidato,Candidato)):\n",
    "            numero_candidato = choice([i for i in range(1,100) if i not in self._lista_candidatos.keys()])#\n",
    "            candidato._numero_urna = numero_candidato\n",
    "            self._lista_candidatos.update({numero_candidato:candidato})\n",
    "        else:\n",
    "            print(\"Candidato inválido. Não é um objeto Candidato\")\n",
    "            \n",
    "    def executa_voto(self,apartamento,numero_candidato):\n",
    "            if not isinstance(numero_candidato,int):\n",
    "                print(\"Dado inválido. Deve ser fornecido um número\")\n",
    "            elif not isinstance(apartamento,Apartamento):\n",
    "                print(\"Apartamento inválido. Não é um objeto Apartamento\")\n",
    "            elif numero_candidato not in self._lista_candidatos.keys():\n",
    "                print(\"Nº de candidato não registrado.\")\n",
    "            elif apartamento not in self._lista_apartamentos:\n",
    "                print(\"Apartamento não habilitado para votar.\")\n",
    "            else:\n",
    "                self._lista_candidatos[numero_candidato].atualiza_votos()###\n",
    "                apartamento._status_votacao = True\n",
    "                self._lista_apartamentos.remove(apartamento)\n",
    "                print(self._lista_apartamentos)\n",
    "                if(len(self._lista_apartamentos) == 0):\n",
    "                    return True\n",
    "            return False\n",
    "        \n",
    "    \n",
    "    def imprime_resultado(self):\n",
    "        '''\n",
    "        Plota um gráfico de barras com a contagem dos votos.\n",
    "        '''\n",
    "        candidatos = [candidato._nome for candidato in self._lista_candidatos.values()]\n",
    "        votos = [candidato._contagem_votos for candidato in self._lista_candidatos.values()]\n",
    "        plt.bar(candidatos, votos)\n",
    "        plt.title('Resultado das eleições')\n",
    "        plt.xlabel('Candidatos')\n",
    "        plt.ylabel('Votos')\n",
    "        \n",
    "    def mostra_candidatos(self):\n",
    "        '''\n",
    "        Imprime o painel com a numeração que deverá ser usada na urna.\n",
    "        '''\n",
    "        lista_candidato = [{\"Candidato\": candidato._nome,\"Nº Urna\": key} for key,candidato in self._lista_candidatos.items()]\n",
    "        df = pd.DataFrame(lista_candidato)\n",
    "        display(df)"
   ]
  },
  {
   "cell_type": "code",
   "execution_count": 30,
   "id": "zxQY5Jai5p9C",
   "metadata": {
    "ExecuteTime": {
     "end_time": "2021-11-22T22:46:12.171033Z",
     "start_time": "2021-11-22T22:46:12.148092Z"
    },
    "colab": {
     "base_uri": "https://localhost:8080/",
     "height": 457
    },
    "id": "zxQY5Jai5p9C",
    "outputId": "fa878446-bbfe-41e9-d31a-cceb5d7edf54"
   },
   "outputs": [
    {
     "data": {
      "text/html": [
       "<div>\n",
       "<style scoped>\n",
       "    .dataframe tbody tr th:only-of-type {\n",
       "        vertical-align: middle;\n",
       "    }\n",
       "\n",
       "    .dataframe tbody tr th {\n",
       "        vertical-align: top;\n",
       "    }\n",
       "\n",
       "    .dataframe thead th {\n",
       "        text-align: right;\n",
       "    }\n",
       "</style>\n",
       "<table border=\"1\" class=\"dataframe\">\n",
       "  <thead>\n",
       "    <tr style=\"text-align: right;\">\n",
       "      <th></th>\n",
       "      <th>Nome do Morador;\\tApartmento;\\tCandidato</th>\n",
       "    </tr>\n",
       "  </thead>\n",
       "  <tbody>\n",
       "    <tr>\n",
       "      <th>0</th>\n",
       "      <td>Joyce;\\t10a;\\tTrue</td>\n",
       "    </tr>\n",
       "    <tr>\n",
       "      <th>1</th>\n",
       "      <td>Matheus;\\t101;b\\tFalse</td>\n",
       "    </tr>\n",
       "    <tr>\n",
       "      <th>2</th>\n",
       "      <td>Rafael;\\t10c;\\tFalse</td>\n",
       "    </tr>\n",
       "    <tr>\n",
       "      <th>3</th>\n",
       "      <td>Luis;\\t01a;\\tTrue</td>\n",
       "    </tr>\n",
       "    <tr>\n",
       "      <th>4</th>\n",
       "      <td>Camila;\\t20b;\\tFalse</td>\n",
       "    </tr>\n",
       "    <tr>\n",
       "      <th>5</th>\n",
       "      <td>Andr‚\\t;201c\\t;False</td>\n",
       "    </tr>\n",
       "    <tr>\n",
       "      <th>6</th>\n",
       "      <td>JoÆo\\t;202c\\t;False</td>\n",
       "    </tr>\n",
       "  </tbody>\n",
       "</table>\n",
       "</div>"
      ],
      "text/plain": [
       "  Nome do Morador;\\tApartmento;\\tCandidato\n",
       "0                       Joyce;\\t10a;\\tTrue\n",
       "1                   Matheus;\\t101;b\\tFalse\n",
       "2                     Rafael;\\t10c;\\tFalse\n",
       "3                        Luis;\\t01a;\\tTrue\n",
       "4                     Camila;\\t20b;\\tFalse\n",
       "5                     Andr‚\\t;201c\\t;False\n",
       "6                      JoÆo\\t;202c\\t;False"
      ]
     },
     "metadata": {},
     "output_type": "display_data"
    }
   ],
   "source": [
    "moradores_do_predio = pd.read_csv('moradores2.csv')  \n",
    "#moradores_do_predio = pd.DataFrame(moradores_do_predio)\n",
    "display(moradores_do_predio)\n"
   ]
  },
  {
   "cell_type": "code",
   "execution_count": null,
   "id": "2d47806f",
   "metadata": {
    "ExecuteTime": {
     "end_time": "2021-11-22T22:46:12.982640Z",
     "start_time": "2021-11-22T22:46:12.971669Z"
    },
    "id": "2d47806f"
   },
   "outputs": [],
   "source": [
    "#lê arquivo csv de apartamentos\n",
    "apartamentos = pd.read_csv('apartamentos.csv', encoding = 'utf8')\n",
    "\n",
    "#cria a variavel que vai guardar os apartamentos\n",
    "apartamentos_existentes = {}\n",
    "\n",
    "for apartamento in apartamentos.values:\n",
    "    nome_app = str(apartamento[0]).upper()\n",
    "    apartamentos_existentes[nome_app] = Apartamento(nome_app)"
   ]
  },
  {
   "cell_type": "code",
   "execution_count": null,
   "id": "6458d691",
   "metadata": {
    "ExecuteTime": {
     "end_time": "2021-11-22T22:46:14.823549Z",
     "start_time": "2021-11-22T22:46:14.819560Z"
    },
    "id": "6458d691"
   },
   "outputs": [],
   "source": [
    "#cria moradores e candidatos\n",
    "moradores_existentes = []\n",
    "candidatos_existentes = []\n",
    "\n",
    "for morador in moradores_do_predio.values:\n",
    "    novo_morador = Morador(morador[0])\n",
    "    moradores_existentes.append(novo_morador)\n",
    "    apmorador = str(morador[1]).upper()\n",
    "    apartamentos_existentes[apmorador].adiciona_morador(novo_morador)\n",
    "    #verifica se o morador é candidato\n",
    "    if morador[2]:\n",
    "        candidatos_existentes.append(Candidato(novo_morador))"
   ]
  },
  {
   "cell_type": "code",
   "execution_count": null,
   "id": "ec2c4dbc-d85e-490a-800b-013b733959a1",
   "metadata": {},
   "outputs": [],
   "source": [
    "for apartamento in apartamentos.values:\n",
    "    nome_app = str(apartamento[0]).upper()\n",
    "    apartamentos_existentes[nome_app] = Apartamento(nome_app)"
   ]
  },
  {
   "cell_type": "code",
   "execution_count": null,
   "id": "Wku-yjKqvYh9",
   "metadata": {
    "ExecuteTime": {
     "end_time": "2021-11-22T22:46:15.931389Z",
     "start_time": "2021-11-22T22:46:15.907453Z"
    },
    "colab": {
     "base_uri": "https://localhost:8080/",
     "height": 761
    },
    "id": "Wku-yjKqvYh9",
    "outputId": "c799a36c-a33d-4726-9fcd-d5777f46cadc"
   },
   "outputs": [],
   "source": [
    "#lista moradores de cada apartamento\n",
    "for apartamento in apartamentos_existentes.values():\n",
    "    apartamento.lista_moradores()"
   ]
  },
  {
   "cell_type": "code",
   "execution_count": null,
   "id": "LbwFTutZZcBf",
   "metadata": {
    "ExecuteTime": {
     "end_time": "2021-11-22T22:46:22.575665Z",
     "start_time": "2021-11-22T22:46:22.555718Z"
    },
    "colab": {
     "base_uri": "https://localhost:8080/",
     "height": 143
    },
    "id": "LbwFTutZZcBf",
    "outputId": "40876fe9-e60a-43ce-f994-f3ecb1732b16"
   },
   "outputs": [],
   "source": [
    "#lista os candidatos\n",
    "lista_candidato = [{\"Candidato\": candidato._nome,\"Nº Urna\": candidato._numero_urna} for candidato in candidatos_existentes]\n",
    "df = pd.DataFrame(lista_candidato)\n",
    "display(df)"
   ]
  },
  {
   "cell_type": "code",
   "execution_count": null,
   "id": "koJPyay0UbWF",
   "metadata": {
    "ExecuteTime": {
     "end_time": "2021-11-22T22:46:24.948160Z",
     "start_time": "2021-11-22T22:46:24.932204Z"
    },
    "id": "koJPyay0UbWF"
   },
   "outputs": [],
   "source": [
    "#criar urna\n",
    "urna  = Urna()"
   ]
  },
  {
   "cell_type": "code",
   "execution_count": null,
   "id": "ViLsuQTBaJ1r",
   "metadata": {
    "ExecuteTime": {
     "end_time": "2021-11-22T22:46:25.450387Z",
     "start_time": "2021-11-22T22:46:25.443406Z"
    },
    "id": "ViLsuQTBaJ1r"
   },
   "outputs": [],
   "source": [
    "#cadastrar apartamentos na urna\n",
    "for apartamento in apartamentos_existentes.values():\n",
    "    #verifica se apartamento não está vazio\n",
    "    if len(apartamento._lista_moradores) > 0:\n",
    "        urna.cadastra_apartamento(apartamento)"
   ]
  },
  {
   "cell_type": "code",
   "execution_count": null,
   "id": "muM9XXmDa064",
   "metadata": {
    "ExecuteTime": {
     "end_time": "2021-11-22T22:46:27.102579Z",
     "start_time": "2021-11-22T22:46:27.091609Z"
    },
    "id": "muM9XXmDa064"
   },
   "outputs": [],
   "source": [
    "#cadastrar candidatos\n",
    "for candidato in candidatos_existentes:\n",
    "    urna.cadastra_candidato(candidato)"
   ]
  },
  {
   "cell_type": "code",
   "execution_count": null,
   "id": "tNbP0hl3xF7q",
   "metadata": {
    "ExecuteTime": {
     "end_time": "2021-11-22T22:46:28.818444Z",
     "start_time": "2021-11-22T22:46:28.803484Z"
    },
    "colab": {
     "base_uri": "https://localhost:8080/",
     "height": 143
    },
    "id": "tNbP0hl3xF7q",
    "outputId": "422121bd-dd71-49ae-8115-019b0f6a7973"
   },
   "outputs": [],
   "source": [
    "urna.mostra_candidatos()"
   ]
  },
  {
   "cell_type": "code",
   "execution_count": null,
   "id": "e53e5264-2fdd-4b13-ba29-dc963c9ea632",
   "metadata": {},
   "outputs": [],
   "source": [
    "terminou = False\n",
    "display(moradores_do_predio)\n",
    "while terminou == False:\n",
    "    quemVaiVotar = int(input('Digite o id de qual morador vai votar: '))\n",
    "    print()\n",
    "    print('Olá ',moradores_existentes[quemVaiVotar]._nome)\n",
    "    print('\\nSelecione um candidato abaixo:')\n",
    "    urna.mostra_candidatos()\n",
    "    seuCandidato = int(input('Digite o número do seu candidato: '))\n",
    "    clear_output(wait=True)\n",
    "    terminou = moradores_existentes[quemVaiVotar].vota_candidato(urna,seuCandidato)\n",
    "    display(moradores_do_predio)\n",
    "urna.imprime_resultado()"
   ]
  },
  {
   "cell_type": "code",
   "execution_count": null,
   "id": "44dfe3dc-4552-4fe6-9a53-b8fce4118f4a",
   "metadata": {},
   "outputs": [],
   "source": []
  },
  {
   "cell_type": "code",
   "execution_count": 31,
   "id": "1-ZOTc3ci9f-",
   "metadata": {
    "ExecuteTime": {
     "end_time": "2021-11-22T22:48:38.705988Z",
     "start_time": "2021-11-22T22:48:38.692025Z"
    },
    "colab": {
     "base_uri": "https://localhost:8080/",
     "height": 143
    },
    "id": "1-ZOTc3ci9f-",
    "outputId": "0a4f140f-aea0-4da8-eeb2-01229e953972"
   },
   "outputs": [
    {
     "ename": "NameError",
     "evalue": "name 'urna' is not defined",
     "output_type": "error",
     "traceback": [
      "\u001b[1;31m---------------------------------------------------------------------------\u001b[0m",
      "\u001b[1;31mNameError\u001b[0m                                 Traceback (most recent call last)",
      "\u001b[1;32m~\\AppData\\Local\\Temp/ipykernel_1636/1713748852.py\u001b[0m in \u001b[0;36m<module>\u001b[1;34m\u001b[0m\n\u001b[1;32m----> 1\u001b[1;33m \u001b[0murna\u001b[0m\u001b[1;33m.\u001b[0m\u001b[0mimprime_resultado\u001b[0m\u001b[1;33m(\u001b[0m\u001b[1;33m)\u001b[0m\u001b[1;33m\u001b[0m\u001b[1;33m\u001b[0m\u001b[0m\n\u001b[0m\u001b[0;32m      2\u001b[0m \u001b[1;33m\u001b[0m\u001b[0m\n\u001b[0;32m      3\u001b[0m \u001b[1;33m\u001b[0m\u001b[0m\n\u001b[0;32m      4\u001b[0m \u001b[1;33m\u001b[0m\u001b[0m\n\u001b[0;32m      5\u001b[0m \u001b[1;32mdef\u001b[0m \u001b[0mgraficoVotos\u001b[0m\u001b[1;33m(\u001b[0m\u001b[0mcandidatos\u001b[0m\u001b[1;33m,\u001b[0m \u001b[0mvotos\u001b[0m\u001b[1;33m)\u001b[0m\u001b[1;33m:\u001b[0m\u001b[1;33m\u001b[0m\u001b[1;33m\u001b[0m\u001b[0m\n",
      "\u001b[1;31mNameError\u001b[0m: name 'urna' is not defined"
     ]
    }
   ],
   "source": [
    "urna.imprime_resultado()\n",
    "\n",
    "\n",
    "\n",
    "def graficoVotos(candidatos, votos):\n",
    "    plt.bar(candidatos, votos)\n",
    "    plt.title('Resultado das eleições')\n",
    "    plt.xlabel('Candidatos')\n",
    "    plt.ylabel('Votos')"
   ]
  }
 ],
 "metadata": {
  "colab": {
   "collapsed_sections": [],
   "name": "Projeto Final.ipynb",
   "provenance": []
  },
  "kernelspec": {
   "display_name": "Python 3 (ipykernel)",
   "language": "python",
   "name": "python3"
  },
  "language_info": {
   "codemirror_mode": {
    "name": "ipython",
    "version": 3
   },
   "file_extension": ".py",
   "mimetype": "text/x-python",
   "name": "python",
   "nbconvert_exporter": "python",
   "pygments_lexer": "ipython3",
   "version": "3.9.7"
  },
  "varInspector": {
   "cols": {
    "lenName": 16,
    "lenType": 16,
    "lenVar": 40
   },
   "kernels_config": {
    "python": {
     "delete_cmd_postfix": "",
     "delete_cmd_prefix": "del ",
     "library": "var_list.py",
     "varRefreshCmd": "print(var_dic_list())"
    },
    "r": {
     "delete_cmd_postfix": ") ",
     "delete_cmd_prefix": "rm(",
     "library": "var_list.r",
     "varRefreshCmd": "cat(var_dic_list()) "
    }
   },
   "types_to_exclude": [
    "module",
    "function",
    "builtin_function_or_method",
    "instance",
    "_Feature"
   ],
   "window_display": false
  }
 },
 "nbformat": 4,
 "nbformat_minor": 5
}
