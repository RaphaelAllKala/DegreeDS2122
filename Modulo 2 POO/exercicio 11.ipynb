{
 "cells": [
  {
   "cell_type": "markdown",
   "id": "ed8fe940-9748-4ed3-82df-48b4ce58d2d2",
   "metadata": {},
   "source": [
    "Exercício 11"
   ]
  },
  {
   "cell_type": "code",
   "execution_count": 7,
   "id": "af382fa2-9641-44d6-bf1c-f79796d47d86",
   "metadata": {},
   "outputs": [],
   "source": [
    "class Fracao():\n",
    "    def __init__(self, numerador, denominador):\n",
    "        if (denominador == 0):\n",
    "            raise ValueError('Denominador não pode ser 0.')\n",
    "        self.denominador = denominador\n",
    "        self.numerador = numerador\n",
    "    \n",
    "    def __repr__(self):\n",
    "            return f'{self.numerador}/{self.denominador}'\n",
    "    \n",
    "    def __add__(self, other):\n",
    "        num = self.numerador * other.denominador + self.denominador * other.numerador\n",
    "        den = self.denominador * other.denominador\n",
    "        return Fraçãp(num, den)\n",
    "    \n",
    "    def __sub__(self, other):\n",
    "        num = self.numerador * other.denominador - self.denominador * other.numerador\n",
    "        den = self.denominador * other.denominador\n",
    "        return Fraçãp(num, den)\n",
    "    \n",
    "    def __mul__(self, other):\n",
    "        num = self.numerador * other.numerador\n",
    "        den = self.denominador * other.denominador\n",
    "        return Fracao(num, den)"
   ]
  },
  {
   "cell_type": "code",
   "execution_count": null,
   "id": "9bd3082a-11a1-4812-b9ed-b2b569eed301",
   "metadata": {},
   "outputs": [],
   "source": [
    "frac1 = Fracao(1, 2)\n",
    "frac2 = Fracao(3, 4)"
   ]
  }
 ],
 "metadata": {
  "kernelspec": {
   "display_name": "Python 3 (ipykernel)",
   "language": "python",
   "name": "python3"
  },
  "language_info": {
   "codemirror_mode": {
    "name": "ipython",
    "version": 3
   },
   "file_extension": ".py",
   "mimetype": "text/x-python",
   "name": "python",
   "nbconvert_exporter": "python",
   "pygments_lexer": "ipython3",
   "version": "3.9.7"
  }
 },
 "nbformat": 4,
 "nbformat_minor": 5
}
