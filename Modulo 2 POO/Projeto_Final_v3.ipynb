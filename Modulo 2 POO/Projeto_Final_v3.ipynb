{
 "cells": [
  {
   "cell_type": "code",
   "execution_count": 4,
   "id": "cDFvbwmb3c50",
   "metadata": {
    "ExecuteTime": {
     "end_time": "2021-11-25T17:57:47.121364Z",
     "start_time": "2021-11-25T17:57:47.111386Z"
    },
    "id": "cDFvbwmb3c50"
   },
   "outputs": [],
   "source": [
    "import pandas as pd\n",
    "import matplotlib.pyplot as plt\n",
    "from random import choice\n",
    "from IPython.display import clear_output"
   ]
  },
  {
   "cell_type": "markdown",
   "id": "c351b571",
   "metadata": {
    "id": "c351b571"
   },
   "source": [
    "#### Projeto 2 - Organizando uma eleição"
   ]
  },
  {
   "cell_type": "code",
   "execution_count": 5,
   "id": "207fbdcd",
   "metadata": {
    "ExecuteTime": {
     "end_time": "2021-11-25T18:02:07.376540Z",
     "start_time": "2021-11-25T18:02:07.351603Z"
    },
    "id": "207fbdcd"
   },
   "outputs": [],
   "source": [
    "#cadastrar todos os apartamentos primeiro\n",
    "class Apartamento:\n",
    "    '''\n",
    "    Cria um apartamento\n",
    "    \n",
    "    '''\n",
    "    \n",
    "    def __init__(self,numero_apartamento):\n",
    "        '''\n",
    "        Construtor do apartamento, a identificação será uma \n",
    "        string pois o condomínio pode conter vários blocos e\n",
    "        a numeração poderá repetir. ex: 101A , 101B.\n",
    "        \n",
    "        Parametros:\n",
    "        numero_apartamento : str       \n",
    "        '''\n",
    "        self._lista_moradores = []\n",
    "        self._status_votacao = False\n",
    "        self._numero_apartamento = numero_apartamento\n",
    "    \n",
    "    def __repr__(self):\n",
    "        return f'Nº Apartamento: {self._numero_apartamento},Moradores: {self._lista_moradores}, Votou?: {self._status_votacao}'\n",
    "\n",
    "    def adiciona_morador(self,morador):\n",
    "        '''\n",
    "        Adciciona objeto Morador a lista de moradores do partamento.\n",
    "        Caso o input não seja objeto Morador imprime mensagem de erro.\n",
    "        \n",
    "        Parâmetros:\n",
    "        \n",
    "        morador : Morador          \n",
    "        \n",
    "            Objeto da classe Morador.\n",
    "        '''\n",
    "        if(isinstance(morador,Morador)):\n",
    "            self._lista_moradores.append(morador)\n",
    "            morador._apartamento = self\n",
    "        else:\n",
    "            print(\"Morador inválido. Não é um objeto Morador\")\n",
    "    \n",
    "    def lista_moradores(self):\n",
    "        '''\n",
    "        Imprime lista de moradores do apartamento.\n",
    "        '''\n",
    "        lista_moradores = [{\"Apartamento \"+str(self._numero_apartamento): morador._nome} for morador in self._lista_moradores]\n",
    "        df = pd.DataFrame(lista_moradores)\n",
    "        display(df) \n",
    "\n",
    "class Morador:\n",
    "    '''\n",
    "    Cria um morador.\n",
    "    \n",
    "    '''\n",
    "    \n",
    "    def __init__(self, nome):\n",
    "        '''\n",
    "        Costrutor do objeto Morador com nome e variavel apartamento que irá ser usada na classe Apartamento.\n",
    "        \n",
    "        Parâmetros:\n",
    "        \n",
    "        nome : str\n",
    "            Nome do indivíduo que será usado como identificação do objeto Morador\n",
    "        \n",
    "        \n",
    "        '''\n",
    "        if(isinstance(nome,str)):\n",
    "            self._nome = nome\n",
    "            self._apartamento = None\n",
    "        else:\n",
    "            print(\"O nome deve ser uma string\")\n",
    "      \n",
    "    def __repr__(self):\n",
    "        '''\n",
    "        Método mágico para melhor visualização objeto Morador.\n",
    "        '''\n",
    "        return f'Morador: {self._nome}, Apartamento: {self._apartamento}'\n",
    "    \n",
    "    def vota_candidato(self, urna, numero_candidato):\n",
    "        '''\n",
    "        Captura a escolha do candidato pelo morador\n",
    "        \n",
    "        Parâmetros:\n",
    "        \n",
    "        urna : Urna\n",
    "            objeto da classe Urna\n",
    "        numero_candidato : int\n",
    "            número do candidato gerado no cadastro de candidatos na urna\n",
    "            \n",
    "        Retorno:\n",
    "            Retorna False se o apartamento já tiver executado o voto\n",
    "            Retorna a função executa_voto, contabilizando o voto no candidato e apartamento.\n",
    "        '''\n",
    "        if(isinstance(urna,Urna)):\n",
    "            if(isinstance(numero_candidato,int)):\n",
    "                #verificação se o apartamento do morador já realizou a votação\n",
    "                if self._apartamento._status_votacao:\n",
    "                    print(\"Voto do apartamento já contabilizado. Não é possível votar 2 vezes.\")\n",
    "                    return False\n",
    "                else:\n",
    "                    #se o morador não tiver votado, chama a função de urna para executar o voto\n",
    "                    return urna.executa_voto(self._apartamento, numero_candidato)\n",
    "            else:\n",
    "                print(\"Nº do candidato inválido.\")\n",
    "        else:\n",
    "            print(\"Urna inválida. Não é um objeto Urna\")\n",
    "                \n",
    "class Candidato(Morador):\n",
    "    '''\n",
    "    Classe filha da classe Morador.\n",
    "    Estabelece o morador escolhido como candidato a síndico.\n",
    "    \n",
    "    '''\n",
    "    \n",
    "    def __init__(self, morador):\n",
    "        '''\n",
    "        Construtor de candidato usando o objeto da classe Morador. \n",
    "                \n",
    "        Parâmetros:\n",
    "        \n",
    "        morador : Morador\n",
    "            Objeto do morador que se candidatou ao cargo de síndico.\n",
    "        '''\n",
    "        \n",
    "        if(isinstance(morador,Morador)):\n",
    "            self._nome = morador._nome\n",
    "            self._apartamento = morador._apartamento\n",
    "            self._numero_urna = 0\n",
    "            self._contagem_votos = 0\n",
    "        else:\n",
    "            print(\"Morador inválido. Não é um objeto Morador\")\n",
    "\n",
    "    def __repr__(self):\n",
    "        '''\n",
    "        Método mágico para melhor visualização objeto Morador.\n",
    "        '''\n",
    "        return f'Candidato: {self._nome}, Número Urna: {self._numero_urna}'\n",
    "\n",
    "    def atualiza_votos(self):\n",
    "        '''\n",
    "        Atualização no contador de votos do candidato.\n",
    "        Requisitado na função executa_voto.\n",
    "        '''\n",
    "        self._contagem_votos = self._contagem_votos + 1\n",
    "\n",
    "    \n",
    "class Urna:\n",
    "    '''\n",
    "    Define o funcionamento da votação.\n",
    "    '''\n",
    "    def __init__(self):\n",
    "        '''\n",
    "        Construtor da classe urna que recebe informação das classes\n",
    "        Apartamento, Morador, Candidato e inicia a contagem dos votos.\n",
    "        \n",
    "        '''\n",
    "        self._lista_candidatos = dict()\n",
    "        self._lista_apartamentos = []\n",
    "        \n",
    "    def cadastra_apartamento(self,apartamento):\n",
    "        '''\n",
    "        Cadastra um apartamento na urna.\n",
    "        \n",
    "        Parâmetros:\n",
    "        \n",
    "        apartamento : Apartamento\n",
    "        '''\n",
    "        if(isinstance(apartamento,Apartamento)):\n",
    "            self._lista_apartamentos.append(apartamento)\n",
    "        else:\n",
    "            print(\"Apartamento inválido. Não é um objeto Apartamento\")\n",
    "            \n",
    "    def cadastra_candidato(self, candidato):\n",
    "        '''\n",
    "        Cadastra um candidato na urna, atribui seu número aleatório de votação\n",
    "        e atualiza o objeto candidato com seu número de urna\n",
    "        \n",
    "        Parâmetros:\n",
    "        \n",
    "        candidato : Candidato\n",
    "        '''\n",
    "        if(isinstance(candidato,Candidato)):\n",
    "            #gera um número aleatório de urna para o candidato\n",
    "            numero_candidato = choice([i for i in range(1,100) if i not in self._lista_candidatos.keys()])\n",
    "            #atualiza o número de urna no objeto candidato\n",
    "            candidato._numero_urna = numero_candidato\n",
    "            #atualiza a lista de candidatos dentro da urna\n",
    "            self._lista_candidatos.update({numero_candidato:candidato})\n",
    "        else:\n",
    "            print(\"Candidato inválido. Não é um objeto Candidato\")\n",
    "            \n",
    "    def executa_voto(self, apartamento, numero_candidato):\n",
    "        '''\n",
    "        Executa o voto do morador/apartamento, requisitado na função vota_candidato da classe Morador\n",
    "        \n",
    "        Parâmetros:\n",
    "        \n",
    "        apartamento : Apartamento\n",
    "            objeto da classe Apartamento\n",
    "        numero_candidato : int\n",
    "            número do candidato gerado pela urna\n",
    "            \n",
    "        Retorno:\n",
    "            False se ainda existem apartamentos para votar\n",
    "            True se todos apartamentos já votaram\n",
    "            \n",
    "        '''\n",
    "        if not isinstance(apartamento, Apartamento):\n",
    "            print(\"Apartamento inválido. Não é um objeto Apartamento\")\n",
    "        elif numero_candidato not in self._lista_candidatos.keys():\n",
    "            print(\"Nº de candidato não registrado.\")\n",
    "        elif apartamento not in self._lista_apartamentos:\n",
    "            print(\"Apartamento não habilitado para votar.\")\n",
    "        else:\n",
    "            #atualiza o total de votos do candidato na urna\n",
    "            self._lista_candidatos[numero_candidato].atualiza_votos()\n",
    "            #muda o status de votação do apartamento para True\n",
    "            apartamento._status_votacao = True\n",
    "            #remove o apartamento da lista de apartamentos que podem votar\n",
    "            self._lista_apartamentos.remove(apartamento)\n",
    "            print('Voto contabilizado com sucesso!')\n",
    "            #verifica se ainda existe algum apartamento para votar\n",
    "            #se não existir retona True e encerra a votação\n",
    "            if(len(self._lista_apartamentos) == 0):\n",
    "                return True\n",
    "        return False\n",
    "      \n",
    "    def mostra_candidatos(self):\n",
    "        '''\n",
    "        Imprime o painel com a numeração que deverá ser usada na urna.\n",
    "        '''\n",
    "        lista_candidato = [{\"Candidato\": candidato._nome,\"Nº Urna\": key} for key,candidato in self._lista_candidatos.items()]\n",
    "        df = pd.DataFrame(lista_candidato)\n",
    "        display(df)\n",
    "        \n",
    "    def imprime_resultado(self):\n",
    "        '''\n",
    "        Plota um gráfico de barras com a contagem dos votos.\n",
    "        '''\n",
    "        candidatos = [candidato._nome for candidato in self._lista_candidatos.values()]\n",
    "        votos = [candidato._contagem_votos for candidato in self._lista_candidatos.values()]\n",
    "        plt.bar(candidatos, votos)\n",
    "        plt.title('Resultado das eleições')\n",
    "        plt.xlabel('Candidatos')\n",
    "        plt.ylabel('Votos')"
   ]
  },
  {
   "cell_type": "markdown",
   "id": "4690a7d0",
   "metadata": {
    "heading_collapsed": true
   },
   "source": [
    "### Um pouco sobre o pandas, excluir isso por favor, é só pra explicação"
   ]
  },
  {
   "cell_type": "markdown",
   "id": "7e54025e",
   "metadata": {
    "hidden": true
   },
   "source": [
    "O pandas é uma biblioteca feita em cima da biblioteca numpy e scipy. São bibliotecas especializadas em lidar com dados números, mas que também se aplicam a outros tipos de variáveis como string, etc.\n",
    "Quando você faz a leitura de um CSV utilizando o método do pandas, ele cria um objeto com o tipo pandas DataFrame, que a melhor comparação seria uma tabela. Nessa tabela/dataframe  cada coluna tem um nome, que é chamado de cabeçalho e cada linha tem um índice, que é a numeração da linha da tabela (igual ao excel)\n",
    "\n",
    "https://aprendizadodemaquina.com/artigos/o-que-e-pandas/"
   ]
  },
  {
   "cell_type": "code",
   "execution_count": 6,
   "id": "f44430cb",
   "metadata": {
    "ExecuteTime": {
     "end_time": "2021-11-25T17:57:53.586076Z",
     "start_time": "2021-11-25T17:57:53.559148Z"
    },
    "hidden": true
   },
   "outputs": [
    {
     "ename": "UnicodeDecodeError",
     "evalue": "'utf-8' codec can't decode byte 0xe9 in position 154: invalid continuation byte",
     "output_type": "error",
     "traceback": [
      "\u001b[1;31m---------------------------------------------------------------------------\u001b[0m",
      "\u001b[1;31mUnicodeDecodeError\u001b[0m                        Traceback (most recent call last)",
      "\u001b[1;32m~\\AppData\\Local\\Temp/ipykernel_55920/1098219054.py\u001b[0m in \u001b[0;36m<module>\u001b[1;34m\u001b[0m\n\u001b[0;32m      1\u001b[0m \u001b[1;31m#excluir isso, é um exemplo de como é lido\u001b[0m\u001b[1;33m\u001b[0m\u001b[1;33m\u001b[0m\u001b[0m\n\u001b[1;32m----> 2\u001b[1;33m \u001b[0mmoradores_do_predio\u001b[0m \u001b[1;33m=\u001b[0m \u001b[0mpd\u001b[0m\u001b[1;33m.\u001b[0m\u001b[0mread_csv\u001b[0m\u001b[1;33m(\u001b[0m\u001b[1;34m'moradores.csv'\u001b[0m\u001b[1;33m,\u001b[0m \u001b[0mdelimiter\u001b[0m \u001b[1;33m=\u001b[0m \u001b[1;34m';'\u001b[0m\u001b[1;33m,\u001b[0m \u001b[0mencoding\u001b[0m \u001b[1;33m=\u001b[0m \u001b[1;34m'utf8'\u001b[0m\u001b[1;33m)\u001b[0m\u001b[1;33m\u001b[0m\u001b[1;33m\u001b[0m\u001b[0m\n\u001b[0m\u001b[0;32m      3\u001b[0m \u001b[1;33m\u001b[0m\u001b[0m\n\u001b[0;32m      4\u001b[0m print(f'''\\n>> Ao ler um CSV com o pandas, ele vira um DataFrame:', tipo: {type(moradores_do_predio)} \n\u001b[0;32m      5\u001b[0m \u001b[0mA\u001b[0m \u001b[0mfunção\u001b[0m \u001b[0mprint\u001b[0m \u001b[0mexibe\u001b[0m \u001b[0mapenas\u001b[0m \u001b[0mna\u001b[0m \u001b[0mtela\u001b[0m\u001b[1;33m/\u001b[0m\u001b[0mconsole\u001b[0m \u001b[0mos\u001b[0m \u001b[0mvalores\u001b[0m \u001b[0mcomo\u001b[0m \u001b[0mse\u001b[0m \u001b[0mfossem\u001b[0m \u001b[0mstrings\u001b[0m\u001b[1;33m.\u001b[0m\u001b[1;33m\u001b[0m\u001b[1;33m\u001b[0m\u001b[0m\n",
      "\u001b[1;32m~\\AppData\\Local\\Programs\\Python\\Python39\\lib\\site-packages\\pandas\\util\\_decorators.py\u001b[0m in \u001b[0;36mwrapper\u001b[1;34m(*args, **kwargs)\u001b[0m\n\u001b[0;32m    309\u001b[0m                     \u001b[0mstacklevel\u001b[0m\u001b[1;33m=\u001b[0m\u001b[0mstacklevel\u001b[0m\u001b[1;33m,\u001b[0m\u001b[1;33m\u001b[0m\u001b[1;33m\u001b[0m\u001b[0m\n\u001b[0;32m    310\u001b[0m                 )\n\u001b[1;32m--> 311\u001b[1;33m             \u001b[1;32mreturn\u001b[0m \u001b[0mfunc\u001b[0m\u001b[1;33m(\u001b[0m\u001b[1;33m*\u001b[0m\u001b[0margs\u001b[0m\u001b[1;33m,\u001b[0m \u001b[1;33m**\u001b[0m\u001b[0mkwargs\u001b[0m\u001b[1;33m)\u001b[0m\u001b[1;33m\u001b[0m\u001b[1;33m\u001b[0m\u001b[0m\n\u001b[0m\u001b[0;32m    312\u001b[0m \u001b[1;33m\u001b[0m\u001b[0m\n\u001b[0;32m    313\u001b[0m         \u001b[1;32mreturn\u001b[0m \u001b[0mwrapper\u001b[0m\u001b[1;33m\u001b[0m\u001b[1;33m\u001b[0m\u001b[0m\n",
      "\u001b[1;32m~\\AppData\\Local\\Programs\\Python\\Python39\\lib\\site-packages\\pandas\\io\\parsers\\readers.py\u001b[0m in \u001b[0;36mread_csv\u001b[1;34m(filepath_or_buffer, sep, delimiter, header, names, index_col, usecols, squeeze, prefix, mangle_dupe_cols, dtype, engine, converters, true_values, false_values, skipinitialspace, skiprows, skipfooter, nrows, na_values, keep_default_na, na_filter, verbose, skip_blank_lines, parse_dates, infer_datetime_format, keep_date_col, date_parser, dayfirst, cache_dates, iterator, chunksize, compression, thousands, decimal, lineterminator, quotechar, quoting, doublequote, escapechar, comment, encoding, encoding_errors, dialect, error_bad_lines, warn_bad_lines, on_bad_lines, delim_whitespace, low_memory, memory_map, float_precision, storage_options)\u001b[0m\n\u001b[0;32m    584\u001b[0m     \u001b[0mkwds\u001b[0m\u001b[1;33m.\u001b[0m\u001b[0mupdate\u001b[0m\u001b[1;33m(\u001b[0m\u001b[0mkwds_defaults\u001b[0m\u001b[1;33m)\u001b[0m\u001b[1;33m\u001b[0m\u001b[1;33m\u001b[0m\u001b[0m\n\u001b[0;32m    585\u001b[0m \u001b[1;33m\u001b[0m\u001b[0m\n\u001b[1;32m--> 586\u001b[1;33m     \u001b[1;32mreturn\u001b[0m \u001b[0m_read\u001b[0m\u001b[1;33m(\u001b[0m\u001b[0mfilepath_or_buffer\u001b[0m\u001b[1;33m,\u001b[0m \u001b[0mkwds\u001b[0m\u001b[1;33m)\u001b[0m\u001b[1;33m\u001b[0m\u001b[1;33m\u001b[0m\u001b[0m\n\u001b[0m\u001b[0;32m    587\u001b[0m \u001b[1;33m\u001b[0m\u001b[0m\n\u001b[0;32m    588\u001b[0m \u001b[1;33m\u001b[0m\u001b[0m\n",
      "\u001b[1;32m~\\AppData\\Local\\Programs\\Python\\Python39\\lib\\site-packages\\pandas\\io\\parsers\\readers.py\u001b[0m in \u001b[0;36m_read\u001b[1;34m(filepath_or_buffer, kwds)\u001b[0m\n\u001b[0;32m    480\u001b[0m \u001b[1;33m\u001b[0m\u001b[0m\n\u001b[0;32m    481\u001b[0m     \u001b[1;31m# Create the parser.\u001b[0m\u001b[1;33m\u001b[0m\u001b[1;33m\u001b[0m\u001b[0m\n\u001b[1;32m--> 482\u001b[1;33m     \u001b[0mparser\u001b[0m \u001b[1;33m=\u001b[0m \u001b[0mTextFileReader\u001b[0m\u001b[1;33m(\u001b[0m\u001b[0mfilepath_or_buffer\u001b[0m\u001b[1;33m,\u001b[0m \u001b[1;33m**\u001b[0m\u001b[0mkwds\u001b[0m\u001b[1;33m)\u001b[0m\u001b[1;33m\u001b[0m\u001b[1;33m\u001b[0m\u001b[0m\n\u001b[0m\u001b[0;32m    483\u001b[0m \u001b[1;33m\u001b[0m\u001b[0m\n\u001b[0;32m    484\u001b[0m     \u001b[1;32mif\u001b[0m \u001b[0mchunksize\u001b[0m \u001b[1;32mor\u001b[0m \u001b[0miterator\u001b[0m\u001b[1;33m:\u001b[0m\u001b[1;33m\u001b[0m\u001b[1;33m\u001b[0m\u001b[0m\n",
      "\u001b[1;32m~\\AppData\\Local\\Programs\\Python\\Python39\\lib\\site-packages\\pandas\\io\\parsers\\readers.py\u001b[0m in \u001b[0;36m__init__\u001b[1;34m(self, f, engine, **kwds)\u001b[0m\n\u001b[0;32m    809\u001b[0m             \u001b[0mself\u001b[0m\u001b[1;33m.\u001b[0m\u001b[0moptions\u001b[0m\u001b[1;33m[\u001b[0m\u001b[1;34m\"has_index_names\"\u001b[0m\u001b[1;33m]\u001b[0m \u001b[1;33m=\u001b[0m \u001b[0mkwds\u001b[0m\u001b[1;33m[\u001b[0m\u001b[1;34m\"has_index_names\"\u001b[0m\u001b[1;33m]\u001b[0m\u001b[1;33m\u001b[0m\u001b[1;33m\u001b[0m\u001b[0m\n\u001b[0;32m    810\u001b[0m \u001b[1;33m\u001b[0m\u001b[0m\n\u001b[1;32m--> 811\u001b[1;33m         \u001b[0mself\u001b[0m\u001b[1;33m.\u001b[0m\u001b[0m_engine\u001b[0m \u001b[1;33m=\u001b[0m \u001b[0mself\u001b[0m\u001b[1;33m.\u001b[0m\u001b[0m_make_engine\u001b[0m\u001b[1;33m(\u001b[0m\u001b[0mself\u001b[0m\u001b[1;33m.\u001b[0m\u001b[0mengine\u001b[0m\u001b[1;33m)\u001b[0m\u001b[1;33m\u001b[0m\u001b[1;33m\u001b[0m\u001b[0m\n\u001b[0m\u001b[0;32m    812\u001b[0m \u001b[1;33m\u001b[0m\u001b[0m\n\u001b[0;32m    813\u001b[0m     \u001b[1;32mdef\u001b[0m \u001b[0mclose\u001b[0m\u001b[1;33m(\u001b[0m\u001b[0mself\u001b[0m\u001b[1;33m)\u001b[0m\u001b[1;33m:\u001b[0m\u001b[1;33m\u001b[0m\u001b[1;33m\u001b[0m\u001b[0m\n",
      "\u001b[1;32m~\\AppData\\Local\\Programs\\Python\\Python39\\lib\\site-packages\\pandas\\io\\parsers\\readers.py\u001b[0m in \u001b[0;36m_make_engine\u001b[1;34m(self, engine)\u001b[0m\n\u001b[0;32m   1038\u001b[0m             )\n\u001b[0;32m   1039\u001b[0m         \u001b[1;31m# error: Too many arguments for \"ParserBase\"\u001b[0m\u001b[1;33m\u001b[0m\u001b[1;33m\u001b[0m\u001b[0m\n\u001b[1;32m-> 1040\u001b[1;33m         \u001b[1;32mreturn\u001b[0m \u001b[0mmapping\u001b[0m\u001b[1;33m[\u001b[0m\u001b[0mengine\u001b[0m\u001b[1;33m]\u001b[0m\u001b[1;33m(\u001b[0m\u001b[0mself\u001b[0m\u001b[1;33m.\u001b[0m\u001b[0mf\u001b[0m\u001b[1;33m,\u001b[0m \u001b[1;33m**\u001b[0m\u001b[0mself\u001b[0m\u001b[1;33m.\u001b[0m\u001b[0moptions\u001b[0m\u001b[1;33m)\u001b[0m  \u001b[1;31m# type: ignore[call-arg]\u001b[0m\u001b[1;33m\u001b[0m\u001b[1;33m\u001b[0m\u001b[0m\n\u001b[0m\u001b[0;32m   1041\u001b[0m \u001b[1;33m\u001b[0m\u001b[0m\n\u001b[0;32m   1042\u001b[0m     \u001b[1;32mdef\u001b[0m \u001b[0m_failover_to_python\u001b[0m\u001b[1;33m(\u001b[0m\u001b[0mself\u001b[0m\u001b[1;33m)\u001b[0m\u001b[1;33m:\u001b[0m\u001b[1;33m\u001b[0m\u001b[1;33m\u001b[0m\u001b[0m\n",
      "\u001b[1;32m~\\AppData\\Local\\Programs\\Python\\Python39\\lib\\site-packages\\pandas\\io\\parsers\\c_parser_wrapper.py\u001b[0m in \u001b[0;36m__init__\u001b[1;34m(self, src, **kwds)\u001b[0m\n\u001b[0;32m     67\u001b[0m         \u001b[0mkwds\u001b[0m\u001b[1;33m[\u001b[0m\u001b[1;34m\"dtype\"\u001b[0m\u001b[1;33m]\u001b[0m \u001b[1;33m=\u001b[0m \u001b[0mensure_dtype_objs\u001b[0m\u001b[1;33m(\u001b[0m\u001b[0mkwds\u001b[0m\u001b[1;33m.\u001b[0m\u001b[0mget\u001b[0m\u001b[1;33m(\u001b[0m\u001b[1;34m\"dtype\"\u001b[0m\u001b[1;33m,\u001b[0m \u001b[1;32mNone\u001b[0m\u001b[1;33m)\u001b[0m\u001b[1;33m)\u001b[0m\u001b[1;33m\u001b[0m\u001b[1;33m\u001b[0m\u001b[0m\n\u001b[0;32m     68\u001b[0m         \u001b[1;32mtry\u001b[0m\u001b[1;33m:\u001b[0m\u001b[1;33m\u001b[0m\u001b[1;33m\u001b[0m\u001b[0m\n\u001b[1;32m---> 69\u001b[1;33m             \u001b[0mself\u001b[0m\u001b[1;33m.\u001b[0m\u001b[0m_reader\u001b[0m \u001b[1;33m=\u001b[0m \u001b[0mparsers\u001b[0m\u001b[1;33m.\u001b[0m\u001b[0mTextReader\u001b[0m\u001b[1;33m(\u001b[0m\u001b[0mself\u001b[0m\u001b[1;33m.\u001b[0m\u001b[0mhandles\u001b[0m\u001b[1;33m.\u001b[0m\u001b[0mhandle\u001b[0m\u001b[1;33m,\u001b[0m \u001b[1;33m**\u001b[0m\u001b[0mkwds\u001b[0m\u001b[1;33m)\u001b[0m\u001b[1;33m\u001b[0m\u001b[1;33m\u001b[0m\u001b[0m\n\u001b[0m\u001b[0;32m     70\u001b[0m         \u001b[1;32mexcept\u001b[0m \u001b[0mException\u001b[0m\u001b[1;33m:\u001b[0m\u001b[1;33m\u001b[0m\u001b[1;33m\u001b[0m\u001b[0m\n\u001b[0;32m     71\u001b[0m             \u001b[0mself\u001b[0m\u001b[1;33m.\u001b[0m\u001b[0mhandles\u001b[0m\u001b[1;33m.\u001b[0m\u001b[0mclose\u001b[0m\u001b[1;33m(\u001b[0m\u001b[1;33m)\u001b[0m\u001b[1;33m\u001b[0m\u001b[1;33m\u001b[0m\u001b[0m\n",
      "\u001b[1;32m~\\AppData\\Local\\Programs\\Python\\Python39\\lib\\site-packages\\pandas\\_libs\\parsers.pyx\u001b[0m in \u001b[0;36mpandas._libs.parsers.TextReader.__cinit__\u001b[1;34m()\u001b[0m\n",
      "\u001b[1;32m~\\AppData\\Local\\Programs\\Python\\Python39\\lib\\site-packages\\pandas\\_libs\\parsers.pyx\u001b[0m in \u001b[0;36mpandas._libs.parsers.TextReader._get_header\u001b[1;34m()\u001b[0m\n",
      "\u001b[1;32m~\\AppData\\Local\\Programs\\Python\\Python39\\lib\\site-packages\\pandas\\_libs\\parsers.pyx\u001b[0m in \u001b[0;36mpandas._libs.parsers.TextReader._tokenize_rows\u001b[1;34m()\u001b[0m\n",
      "\u001b[1;32m~\\AppData\\Local\\Programs\\Python\\Python39\\lib\\site-packages\\pandas\\_libs\\parsers.pyx\u001b[0m in \u001b[0;36mpandas._libs.parsers.raise_parser_error\u001b[1;34m()\u001b[0m\n",
      "\u001b[1;31mUnicodeDecodeError\u001b[0m: 'utf-8' codec can't decode byte 0xe9 in position 154: invalid continuation byte"
     ]
    }
   ],
   "source": [
    "#excluir isso, é um exemplo de como é lido\n",
    "moradores_do_predio = pd.read_csv('moradores.csv', delimiter = ';', encoding = 'utf8') \n",
    "\n",
    "print(f'''\\n>> Ao ler um CSV com o pandas, ele vira um DataFrame:', tipo: {type(moradores_do_predio)} \n",
    "A função print exibe apenas na tela/console os valores como se fossem strings.\n",
    "Sem nenhuma formatação visual a mais. Somente o dado bruto.\n",
    "''')\n",
    "print(moradores_do_predio)\n",
    "\n",
    "print('''\\n\\n>> A função display tem mais opções de controle, e dentro do Jupyter Notebook, que é um notebook IPython,\n",
    "é possível configurar para exibir os dados com mais detalhes e formatação.\n",
    "No caso do pandas, ele cria tipo uma tabela em html para fazer a tabela/dataframe ficar mais bonita.\n",
    "''')\n",
    "display(moradores_do_predio)\n",
    "\n",
    "print('''\\n\\n>> Quando você quer puxar somente os valores dessa tabela, eles precisam ser formatadas de\n",
    "alguma maneira que o python consiga entender e manipular esses dados quando for preciso.\n",
    "Quando se lê linha por linha do DataFrame, podemos obter numpy arrays, semelhante a listas\\n\n",
    "''')\n",
    "for morador in moradores_do_predio.values:\n",
    "    print(morador)\n",
    "    lista_teste = morador"
   ]
  },
  {
   "cell_type": "markdown",
   "id": "eb8580de",
   "metadata": {},
   "source": [
    "### ETAPA 1: Cadastro"
   ]
  },
  {
   "cell_type": "code",
   "execution_count": null,
   "id": "de3b320f",
   "metadata": {
    "ExecuteTime": {
     "end_time": "2021-11-25T18:03:34.586389Z",
     "start_time": "2021-11-25T18:03:34.566443Z"
    }
   },
   "outputs": [],
   "source": [
    "#atributo utilizado para armazenar todos os apartamentos na etapa de cadastro\n",
    "apartamentos_existentes = {}\n",
    "#atributo utilizado para armazenar todos os moradores na etapa de cadastro\n",
    "moradores_existentes = []\n",
    "#atributo utilizado para armazenar todos os candidatos na etapa de cadastro\n",
    "candidatos_existentes = []\n",
    "\n",
    "#lê o arquivo CSV utilizando o pandas read_csv\n",
    "arquivo_csv = pd.read_csv('moradores.csv', delimiter = ';', encoding = 'utf8')\n",
    "\n",
    "display_moradores = {'Nome do Morador':[],'Apartamento':[],'Candidato':[]}\n",
    "for linha in arquivo_csv.values:\n",
    "    display_moradores['Nome do Morador'].append(linha[0])\n",
    "    display_moradores['Apartamento'].append(linha[1].upper())\n",
    "    display_moradores['Candidato'].append(linha[2])\n",
    "display_moradores = pd.DataFrame(display_moradores)\n",
    "#print(display_moradores)    \n",
    "    \n",
    "#CADASTRO DE APARTAMENTOS\n",
    "lista_app = list(set([linha for linha in display_moradores['Apartamento']]))\n",
    "for app_nome in lista_app:\n",
    "    #cria e adiciona um novo apartamento na lista de apartamentos existentes\n",
    "    apartamentos_existentes[app_nome] = Apartamento(app_nome)\n",
    "    \n",
    "#CADASTRO DE MORADORES E CANDIDATOS\n",
    "for linha in display_moradores.values:\n",
    "    #cria um novo morador na classe morador através do nome extraido linha por linha da planilha\n",
    "    #adiciona o objeto criado na lista de moradores existentes\n",
    "    novo_morador = Morador(linha[0])\n",
    "    moradores_existentes.append(novo_morador)\n",
    "    #adiciona o objeto morador dentro do dicionário apartamentos_existentes, utilizando como chave o número do apartamento\n",
    "    apartamentos_existentes[linha[1]].adiciona_morador(novo_morador)\n",
    "    #verifica se o morador é candidato (coluna Candidato)\n",
    "    if linha[2]: #if True: (a própria coluna está como True e False, se o campo estiver como False, o if não executa)\n",
    "        #cria e adiciona um novo candidado na lista de candidatos existentes\n",
    "        candidatos_existentes.append(Candidato(novo_morador))\n"
   ]
  },
  {
   "cell_type": "code",
   "execution_count": null,
   "id": "zxQY5Jai5p9C",
   "metadata": {
    "ExecuteTime": {
     "end_time": "2021-11-25T18:02:15.566641Z",
     "start_time": "2021-11-25T18:02:15.558661Z"
    },
    "colab": {
     "base_uri": "https://localhost:8080/",
     "height": 457
    },
    "id": "zxQY5Jai5p9C",
    "outputId": "fa878446-bbfe-41e9-d31a-cceb5d7edf54"
   },
   "outputs": [],
   "source": [
    "#não participa do programa principal, bom pra mostrar na apresentação\n",
    "#lista moradores de cada apartamento\n",
    "\n",
    "display(display_moradores)"
   ]
  },
  {
   "cell_type": "code",
   "execution_count": null,
   "id": "LbwFTutZZcBf",
   "metadata": {
    "ExecuteTime": {
     "end_time": "2021-11-25T18:02:15.956598Z",
     "start_time": "2021-11-25T18:02:15.944630Z"
    },
    "colab": {
     "base_uri": "https://localhost:8080/",
     "height": 143
    },
    "id": "LbwFTutZZcBf",
    "outputId": "40876fe9-e60a-43ce-f994-f3ecb1732b16"
   },
   "outputs": [],
   "source": [
    "#não participa do programa principal, bom pra mostrar na apresentação\n",
    "#lista os candidatos\n",
    "#isso daqui só exibe a lista de candidatos, extraido daquela planilha, ainda sem o número gerado pela urna\n",
    "lista_candidato = [{\"Candidato\": candidato._nome,\"Nº Urna\": candidato._numero_urna} for candidato in candidatos_existentes]\n",
    "#podemos ver que inicialmente o candidato recebe o número de urna 0, de acordo com o construtor\n",
    "#após o cadastro da urna, será atribuido um número de urna aleatório\n",
    "df = pd.DataFrame(lista_candidato)\n",
    "display(df)"
   ]
  },
  {
   "cell_type": "markdown",
   "id": "b46f2f0f",
   "metadata": {
    "ExecuteTime": {
     "end_time": "2021-11-25T02:25:18.756147Z",
     "start_time": "2021-11-25T02:25:18.751160Z"
    },
    "id": "muM9XXmDa064"
   },
   "source": [
    "### ETAPA 2: Configuração"
   ]
  },
  {
   "cell_type": "code",
   "execution_count": null,
   "id": "ViLsuQTBaJ1r",
   "metadata": {
    "ExecuteTime": {
     "end_time": "2021-11-25T18:03:38.411165Z",
     "start_time": "2021-11-25T18:03:38.398199Z"
    },
    "id": "ViLsuQTBaJ1r"
   },
   "outputs": [],
   "source": [
    "#criar urna\n",
    "urna = Urna()\n",
    "\n",
    "#cadastrar apartamentos na urna\n",
    "for apartamento in apartamentos_existentes.values():\n",
    "    urna.cadastra_apartamento(apartamento)\n",
    "#cadastrar candidatos\n",
    "for candidato in candidatos_existentes:\n",
    "    urna.cadastra_candidato(candidato)"
   ]
  },
  {
   "cell_type": "code",
   "execution_count": null,
   "id": "tNbP0hl3xF7q",
   "metadata": {
    "ExecuteTime": {
     "end_time": "2021-11-25T18:02:17.021755Z",
     "start_time": "2021-11-25T18:02:17.006790Z"
    },
    "colab": {
     "base_uri": "https://localhost:8080/",
     "height": 143
    },
    "id": "tNbP0hl3xF7q",
    "outputId": "422121bd-dd71-49ae-8115-019b0f6a7973"
   },
   "outputs": [],
   "source": [
    "#não participa do programa principal, bom pra mostrar na apresentação\n",
    "#lista os candidatos\n",
    "urna.mostra_candidatos()"
   ]
  },
  {
   "cell_type": "markdown",
   "id": "1287ad58",
   "metadata": {},
   "source": [
    "### ETAPA 3: Votação"
   ]
  },
  {
   "cell_type": "code",
   "execution_count": null,
   "id": "e53e5264-2fdd-4b13-ba29-dc963c9ea632",
   "metadata": {
    "ExecuteTime": {
     "end_time": "2021-11-25T18:03:58.256113Z",
     "start_time": "2021-11-25T18:03:40.487614Z"
    }
   },
   "outputs": [],
   "source": [
    "#declara variavel de controle\n",
    "terminou = False # habilita o laço de repetição para enquanto restarem moradores sem votar a eleição nao termina \n",
    "display(display_moradores)# mostra todos os moradores habilitados é uma função da biblioteca Ipython\n",
    "while terminou == False:\n",
    "    #while quemVaiVotar not in Morador.moradores_existentes:\n",
    "    quemVaiVotar = int(input('Digite o id de qual morador vai votar: '))# utilizando a tabela acima a id é o index\n",
    "    if quemVaiVotar in display_moradores.index:\n",
    "        print()\n",
    "        #busca nome do morador na lista de moradores existentes pelo index\n",
    "        print('Olá ',moradores_existentes[quemVaiVotar]._nome) #lista chamada pelo index  = id do display\n",
    "        print('\\nSelecione um candidato abaixo:')\n",
    "        urna.mostra_candidatos() #data frame \n",
    "        seuCandidato = int(input('Digite o número do seu candidato: '))\n",
    "        clear_output(wait=True) # aguarda ação o para tela \n",
    "        #seleciona o objeto morador, e chama a função de vota_candidato e executa voto\n",
    "        #na função executa voto, temos um validador que retorna True ou False para verificar o fim da eleição\n",
    "        terminou = moradores_existentes[quemVaiVotar].vota_candidato(urna, seuCandidato)\n",
    "        display(display_moradores)\n",
    "    else:\n",
    "        print('Morador não está na lista de votação')\n",
    "clear_output(wait=True)\n",
    "urna.imprime_resultado()"
   ]
  },
  {
   "cell_type": "code",
   "execution_count": 6,
   "id": "44dfe3dc-4552-4fe6-9a53-b8fce4118f4a",
   "metadata": {},
   "outputs": [
    {
     "name": "stdout",
     "output_type": "stream",
     "text": [
      "\u001b[0;31;40m Verifique o id do morador e tente novamente\u001b[m\n"
     ]
    }
   ],
   "source": [
    "print('\\33[0;31;40m Verifique o id do morador e tente novamente\\33[m')"
   ]
  }
 ],
 "metadata": {
  "colab": {
   "collapsed_sections": [],
   "name": "Projeto Final.ipynb",
   "provenance": []
  },
  "kernelspec": {
   "display_name": "Python 3 (ipykernel)",
   "language": "python",
   "name": "python3"
  },
  "language_info": {
   "codemirror_mode": {
    "name": "ipython",
    "version": 3
   },
   "file_extension": ".py",
   "mimetype": "text/x-python",
   "name": "python",
   "nbconvert_exporter": "python",
   "pygments_lexer": "ipython3",
   "version": "3.9.7"
  },
  "varInspector": {
   "cols": {
    "lenName": 16,
    "lenType": 16,
    "lenVar": 40
   },
   "kernels_config": {
    "python": {
     "delete_cmd_postfix": "",
     "delete_cmd_prefix": "del ",
     "library": "var_list.py",
     "varRefreshCmd": "print(var_dic_list())"
    },
    "r": {
     "delete_cmd_postfix": ") ",
     "delete_cmd_prefix": "rm(",
     "library": "var_list.r",
     "varRefreshCmd": "cat(var_dic_list()) "
    }
   },
   "types_to_exclude": [
    "module",
    "function",
    "builtin_function_or_method",
    "instance",
    "_Feature"
   ],
   "window_display": false
  }
 },
 "nbformat": 4,
 "nbformat_minor": 5
}
