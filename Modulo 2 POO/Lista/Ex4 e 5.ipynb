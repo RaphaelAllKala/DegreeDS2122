{
 "cells": [
  {
   "cell_type": "markdown",
   "id": "792b04b7-a04f-4c64-b7af-165125235b72",
   "metadata": {},
   "source": [
    "Enunciado\n",
    "Crie uma classe Televisor cujos atributos são:\n",
    "\n",
    "a. fabricante;\n",
    "\n",
    "b. modelo;\n",
    "\n",
    "c. canal atual;\n",
    "\n",
    "d. lista de canais; \n",
    "\n",
    "e. volume.\n",
    "\n",
    "Faça métodos para aumentar/diminuir volume, trocar o canal e sintonizar um novo canal, que adiciona um novo canal à lista de canais (somente se esse canal não estiver nessa lista). No atributo lista de canais, devem estar armazenados todos os canais já sintonizados dessa TV.\n",
    "\n",
    "Obs.: O volume não pode ser menor que zero e maior que cem; só se pode trocar para um canal que já esteja na lista de canais."
   ]
  },
  {
   "cell_type": "code",
   "execution_count": 1,
   "id": "4704c62d-274d-431e-9587-3e3aeba89579",
   "metadata": {},
   "outputs": [
    {
     "data": {
      "text/plain": [
       "True"
      ]
     },
     "execution_count": 1,
     "metadata": {},
     "output_type": "execute_result"
    }
   ],
   "source": [
    "class Televisor():\n",
    "    '''\n",
    "    Cria objeto Televisor e seus atributos para sintonizar canais e seus atributos.\n",
    "    '''\n",
    "    \n",
    "    def __init__(self, modelo, fabricante):\n",
    "        \n",
    "        self.fabricante = fabricante\n",
    "        self.modelo = modelo\n",
    "        self.lista_canais = {}\n",
    "        self.volume = 0\n",
    "        self.status = False\n",
    "        self.canal = 0\n",
    "        \n",
    "    def canal_salvo(self, n_canal):\n",
    "        '''\n",
    "        Verifica se o canal está salvo.\n",
    "        \n",
    "        Parâmetros\n",
    "        \n",
    "        n_canal : float\n",
    "        Nome do canal a ser salvo.\n",
    "        \n",
    "        Retorna True se Salvo e False caso não.\n",
    "\n",
    "        '''\n",
    "        if n_canal in self.lista_canais:\n",
    "            return True\n",
    "        return False\n",
    "    \n",
    "    def sintonizar_canal(self, n_canal, nome_canal):\n",
    "        '''\n",
    "        Acrescenta no dicionário de canais os canais novos. \n",
    "        Caso o canal ja exista, não irá salvar novamente.\n",
    "        \n",
    "        Parêmetros:\n",
    "        n_canal : float\n",
    "        Numero do canal a ser salvo.\n",
    "        \n",
    "        nome_canael : str\n",
    "        Nome do canal a ser salvo.\n",
    "               \n",
    "        '''\n",
    "        \n",
    "        \n",
    "        if tv1.canal_salvo(n_canal):\n",
    "            print('Este canal já foi sintonizado')\n",
    "            return False\n",
    "        self.lista_canais[n_canal] = nome_canal\n",
    "        return True\n",
    "    \n",
    "    def renomear_canal(self, n_canal, nome_canal):\n",
    "        '''\n",
    "         Renomeia canais salvos anteriormente. caso o canal não esteja salvo \n",
    "         imprime mensagem para que o mesmo seja primeiro sintonizado.\n",
    "        \n",
    "        Parêmetros:\n",
    "        n_canal : float\n",
    "        Numero do canal a ser salvo.\n",
    "        \n",
    "        nome_canael : str\n",
    "        Novo nome do canal a ser salvo.\n",
    "        '''\n",
    "        if not self.canal_salvo(n_canal):\n",
    "            print('Canal não sintonizado.')\n",
    "            return False\n",
    "        self.lista_canais[n_canal] = nome_canal\n",
    "        return True\n",
    "    \n",
    "    def apagar_canal(self, n_canal):\n",
    "        '''\n",
    "        Apaga canal dalista de canais.\n",
    "        \n",
    "        Parêmetros:\n",
    "        n_canal : float\n",
    "        Numero do canal a ser apagado da lista de canais.\n",
    "        '''\n",
    "    def ligar_tv(self, status, n_canal, volume = 10):\n",
    "        '''\n",
    "        Muda objeto Televisor para status - True e liga a tv.\n",
    "        \n",
    "        Parâmetros:\n",
    "        \n",
    "           status : Bool\n",
    "           \n",
    "           Se True , tv ligada caso False, TV desligada.\n",
    "           \n",
    "           volume : int\n",
    "           \n",
    "           Volume padrão da tv quando ligada\n",
    "           \n",
    "           n_canal : Float\n",
    "           \n",
    "           Canal em que a tv será ligada.\n",
    "        \n",
    "        '''\n",
    "        self.status = status\n",
    "        self.volume = volume\n",
    "        self.canal = n_canal\n",
    "        print(f'Televisor Ligado, Transmitindo o  canal {self.canal}, volume {self.volume}')\n",
    "    \n",
    "    def aumentar_volume(self):\n",
    "        if self.volume > 100:\n",
    "            print(' Volume maximo atingido.')\n",
    "        self.volume += 1\n",
    "        print(f'Volume = {self.volume}')\n",
    "        return True\n",
    "    \n",
    "    def diminuir_volume(self):\n",
    "        if self.volume <= 0:\n",
    "            print('Volume minimo atingido.')\n",
    "            return False\n",
    "        self.volume += -1\n",
    "        print(f'Volume = {self.volume}')\n",
    "        return True\n",
    "        \n",
    "    def troca_canal(self, n_canal):\n",
    "        if self.status == True:\n",
    "            self.canal = n_canal\n",
    "            print(f'Canal {n_canal} ')\n",
    "        else:\n",
    "            print('TV desligada.')\n",
    "    \n",
    "    def desligar_tv(self):\n",
    "        self.status = False\n",
    "        self.canal = 'TV desligada'\n",
    "        self.volume = 'TV desligada'\n",
    "        print('TV desligada')\n",
    "        \n",
    "    def status_tv(self):\n",
    "        if self.status == False:\n",
    "            print(\"TV desligada\")\n",
    "        else:\n",
    "            print(f'TV ligada no canal {self.canal}, volume {self.volume}.')\n",
    "        \n",
    "        \n",
    "        \n",
    "        \n",
    "tv1 = Televisor(101, 'Mitsu')\n",
    "tv1.sintonizar_canal(1, 'band')\n",
    "tv1.sintonizar_canal(3, 'globo')\n",
    "tv1.sintonizar_canal(6, 'record')"
   ]
  },
  {
   "cell_type": "code",
   "execution_count": 2,
   "id": "195cea71-5490-45a6-873c-ff861a6060a5",
   "metadata": {},
   "outputs": [
    {
     "name": "stdout",
     "output_type": "stream",
     "text": [
      "Televisor Ligado, Transmitindo o  canal 1, volume 10\n"
     ]
    }
   ],
   "source": [
    "tv1.ligar_tv(True, 1)"
   ]
  },
  {
   "cell_type": "code",
   "execution_count": 3,
   "id": "578baee2-9694-4c87-b6c8-94adee3578e6",
   "metadata": {},
   "outputs": [
    {
     "name": "stdout",
     "output_type": "stream",
     "text": [
      "Volume = 9\n"
     ]
    },
    {
     "data": {
      "text/plain": [
       "True"
      ]
     },
     "execution_count": 3,
     "metadata": {},
     "output_type": "execute_result"
    }
   ],
   "source": [
    "tv1.diminuir_volume()"
   ]
  },
  {
   "cell_type": "code",
   "execution_count": 4,
   "id": "3716dc90-bac0-4d8d-a239-a1629c3707b7",
   "metadata": {},
   "outputs": [
    {
     "name": "stdout",
     "output_type": "stream",
     "text": [
      "Canal 6 \n"
     ]
    }
   ],
   "source": [
    "tv1.troca_canal(6)"
   ]
  },
  {
   "cell_type": "code",
   "execution_count": 15,
   "id": "d9579953-b4ea-4286-828d-ef3552c4ad1b",
   "metadata": {},
   "outputs": [
    {
     "data": {
      "text/plain": [
       "{1: 'band', 3: 'globo', 6: 'record', 10: '---'}"
      ]
     },
     "execution_count": 15,
     "metadata": {},
     "output_type": "execute_result"
    }
   ],
   "source": [
    "tv1.lista_canais"
   ]
  },
  {
   "cell_type": "code",
   "execution_count": 6,
   "id": "538ab8dc-80c8-4924-a07b-e61ad951c74b",
   "metadata": {},
   "outputs": [
    {
     "name": "stdout",
     "output_type": "stream",
     "text": [
      "TV ligada no canal 6, volume 9.\n"
     ]
    }
   ],
   "source": [
    "tv1.status_tv()"
   ]
  },
  {
   "cell_type": "code",
   "execution_count": 7,
   "id": "17e05cb0-07f1-41b0-8ddc-2bc37b71fe35",
   "metadata": {},
   "outputs": [],
   "source": [
    "#tv1.desligar_tv()\n"
   ]
  },
  {
   "cell_type": "code",
   "execution_count": 29,
   "id": "7211869a-b015-468f-85bc-b6445fc00391",
   "metadata": {},
   "outputs": [],
   "source": [
    "class Controle(Televisor):\n",
    "    '''\n",
    "    Classe herdeira de Televisor para controle através do objeto Controle\n",
    "    '''\n",
    "    def __init__(self, televisao):\n",
    "        '''\n",
    "        Construtor de Controle \n",
    "        \n",
    "        Parâmetros\n",
    "        \n",
    "        televisão : Televisor\n",
    "        \n",
    "            Objeto Televisor a ser acionado através do controle.\n",
    "        '''\n",
    "        self.televisor = televisao\n",
    "    \n",
    "    def volume_mais(self):\n",
    "        self.televisor.aumentar_volume()\n",
    "    \n",
    "    def volume_menos(self):\n",
    "        self.televisor.diminuit_volume()\n",
    "    \n",
    "    def mudar_canal(self,canal):\n",
    "        if canal not in self.televisor.lista_canais:\n",
    "            self.televisor.sintonizar_canal(canal, '---')\n",
    "            print(f'Canal {canal} sintonizado a salvo na lista de canais')\n",
    "        self.televisor.troca_canal(canal)\n",
    "        \n",
    "    def liga_tv(self):\n",
    "        self.televisor.ligar_tv(True, 10)\n",
    "        \n",
    "        \n",
    "controle = Controle(tv1)"
   ]
  },
  {
   "cell_type": "code",
   "execution_count": 30,
   "id": "53969bcd-4ba5-4231-abb3-90f9672557d5",
   "metadata": {},
   "outputs": [
    {
     "name": "stdout",
     "output_type": "stream",
     "text": [
      "Televisor Ligado, Transmitindo o  canal 10, volume 10\n"
     ]
    }
   ],
   "source": [
    "controle.liga_tv()"
   ]
  },
  {
   "cell_type": "code",
   "execution_count": 9,
   "id": "a3ece758-ef8e-4445-b74c-80e69fcee3a0",
   "metadata": {},
   "outputs": [
    {
     "name": "stdout",
     "output_type": "stream",
     "text": [
      "Volume = 10\n"
     ]
    }
   ],
   "source": [
    "controle.volume_mais()"
   ]
  },
  {
   "cell_type": "code",
   "execution_count": 14,
   "id": "3b0a881e-d22c-4c6b-b91f-bab5280cd346",
   "metadata": {},
   "outputs": [
    {
     "name": "stdout",
     "output_type": "stream",
     "text": [
      "Canal 10 \n"
     ]
    }
   ],
   "source": [
    "controle.mudar_canal(10)"
   ]
  }
 ],
 "metadata": {
  "kernelspec": {
   "display_name": "Python 3 (ipykernel)",
   "language": "python",
   "name": "python3"
  },
  "language_info": {
   "codemirror_mode": {
    "name": "ipython",
    "version": 3
   },
   "file_extension": ".py",
   "mimetype": "text/x-python",
   "name": "python",
   "nbconvert_exporter": "python",
   "pygments_lexer": "ipython3",
   "version": "3.9.7"
  }
 },
 "nbformat": 4,
 "nbformat_minor": 5
}
