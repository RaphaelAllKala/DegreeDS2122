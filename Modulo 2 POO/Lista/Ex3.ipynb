{
 "cells": [
  {
   "cell_type": "markdown",
   "id": "69333e30-5c93-4cdd-b254-a5701cfe21ef",
   "metadata": {},
   "source": [
    "Crie uma classe Funcionario cujos atributos são nome e e-mail. Guarde as horas trabalhadas em um dicionário cujas chaves são o mês em questão e, em outro dicionário, guarde o salário por hora relativo ao mês em questão. Crie um método que retorna o salário mensal do funcionário."
   ]
  },
  {
   "cell_type": "code",
   "execution_count": 5,
   "id": "f78bcb21-842d-45f2-a79c-48d25fa7f3ba",
   "metadata": {},
   "outputs": [
    {
     "name": "stdout",
     "output_type": "stream",
     "text": [
      "{'out': 170.0}\n",
      "{'out': 20}\n",
      "{'out': 170.0, 'nov': 420.0}\n",
      "{'out': 20, 'nov': 40}\n"
     ]
    }
   ],
   "source": [
    "class Funcionario():\n",
    "    '''\n",
    "    Criar uma classe de funcionario com objetivo de calculo de horas trabalhadas.\n",
    "    '''\n",
    "    def __init__(self, nome_funcionario, email):\n",
    "        '''\n",
    "        Contrutor\n",
    "            Criar objeto com nome e email do funcionário,\n",
    "            seguido de dois dicionários contando meses ,\n",
    "            horas trabalhadas e valores a receber. \n",
    "        \n",
    "        Parâmetros\n",
    "            nome_funcionario : str\n",
    "                Nome do funcionário.\n",
    "            email : str\n",
    "                E-mail do funcionário\n",
    "                \n",
    "        '''\n",
    "        self.nome = nome_funcionario\n",
    "        self.email = email\n",
    "        self.horas_mes = {}\n",
    "        self.salario_mes = {}\n",
    "        \n",
    "    def inserir_dados(self,mes, horas, valor_hora):\n",
    "        '''\n",
    "        Recebe os dados para criar os dicionários corespendentes a  horas/mes e salário/mes.\n",
    "\n",
    "        Parâmetros:\n",
    "\n",
    "        mes : str \n",
    "\n",
    "            Utilizar abreviação com tr~es letras. ex: JAN, FEV...\n",
    "\n",
    "        horas : int\n",
    "\n",
    "            Quantidade de horas inteiras trabalhadas dentro do mês.\n",
    "\n",
    "        valor_hora : float\n",
    "\n",
    "            Valor em R$ (Reais) da hora trabalhado no mês.\n",
    "        '''\n",
    "\n",
    "        self.horas_mes[f'{mes}'] = horas\n",
    "        self.salario_mes[f'{mes}'] = horas * valor_hora\n",
    "        return True\n",
    "       \n",
    "          \n",
    "raphael = Funcionario('Raphael', 'rapharps@gmail.com') \n",
    "\n",
    "raphael.inserir_dados('out', 20, 8.5)\n",
    "\n",
    "print(raphael.salario_mes)\n",
    "\n",
    "print(raphael.horas_mes)\n",
    "\n",
    "raphael.inserir_dados('nov', 40, 10.50)\n",
    "\n",
    "print(raphael.salario_mes)\n",
    "\n",
    "print(raphael.horas_mes)"
   ]
  }
 ],
 "metadata": {
  "kernelspec": {
   "display_name": "Python 3 (ipykernel)",
   "language": "python",
   "name": "python3"
  },
  "language_info": {
   "codemirror_mode": {
    "name": "ipython",
    "version": 3
   },
   "file_extension": ".py",
   "mimetype": "text/x-python",
   "name": "python",
   "nbconvert_exporter": "python",
   "pygments_lexer": "ipython3",
   "version": "3.9.7"
  }
 },
 "nbformat": 4,
 "nbformat_minor": 5
}
