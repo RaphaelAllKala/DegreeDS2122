{
 "cells": [
  {
   "cell_type": "markdown",
   "id": "712e3953-8217-4cb9-abc5-4d61bd7396ce",
   "metadata": {},
   "source": [
    "Crie uma classe Retângulo cujos atributos são lado_a e lado_b. Crie um método para calcular a área desse retângulo. Crie um objeto dessa classe e calcule a área e a imprima em seguida."
   ]
  },
  {
   "cell_type": "code",
   "execution_count": 2,
   "id": "18154b7d-4f29-4c31-b827-38fbc2373a08",
   "metadata": {},
   "outputs": [
    {
     "name": "stdout",
     "output_type": "stream",
     "text": [
      "Área do retângulo = 29.13 u²\n"
     ]
    }
   ],
   "source": [
    "class Retangulo:\n",
    "    '''\n",
    "        Cria a representação generica de um retângulo.\n",
    "    '''\n",
    "    def __init__(self, lado_a, lado_b):\n",
    "        '''\n",
    "        Construtor\n",
    "            Compor umm objeto retângulo e calcular a área do mesmo.\n",
    "            \n",
    "        Parâmetros\n",
    "            lado_a : float\n",
    "                Base do retângulo.\n",
    "            lado_b : float\n",
    "                Altura do retângulo.\n",
    "        '''\n",
    "        \n",
    "        self.base = lado_a\n",
    "        self.altura = lado_b\n",
    "        # Atributos criados com os parâmetros\n",
    "        self.area = self.calcular_area()\n",
    "        print (f'Área do retângulo = {self.area:.2f} u²')\n",
    "        \n",
    "    def calcular_area(self):\n",
    "        area = self.base*self.altura\n",
    "        return area\n",
    "\n",
    "ret1 = Retangulo(3.65, 7.98)\n",
    "#ret2 = Retangulo(float(input('Digite a base do retângulo:')), float(input('Digite a altura do retângulo:')))"
   ]
  },
  {
   "cell_type": "code",
   "execution_count": 5,
   "id": "fa736236-71dc-410a-9623-5108c435db57",
   "metadata": {},
   "outputs": [],
   "source": [
    "class Quadrado(Retangulo):\n",
    "    \n",
    "    def calcular_area(self):\n",
    "        self.area = self.base*self.base\n",
    "        print (f'Área do Quadrado = {self.area} u²')"
   ]
  },
  {
   "cell_type": "code",
   "execution_count": 6,
   "id": "ef8b5617-becd-47b5-a265-af03c39ff420",
   "metadata": {},
   "outputs": [
    {
     "name": "stdout",
     "output_type": "stream",
     "text": [
      "Área do Quadrado = 4 u²\n"
     ]
    },
    {
     "ename": "TypeError",
     "evalue": "unsupported format string passed to NoneType.__format__",
     "output_type": "error",
     "traceback": [
      "\u001b[1;31m---------------------------------------------------------------------------\u001b[0m",
      "\u001b[1;31mTypeError\u001b[0m                                 Traceback (most recent call last)",
      "\u001b[1;32m~\\AppData\\Local\\Temp/ipykernel_73656/3625222548.py\u001b[0m in \u001b[0;36m<module>\u001b[1;34m\u001b[0m\n\u001b[1;32m----> 1\u001b[1;33m \u001b[0mq1\u001b[0m \u001b[1;33m=\u001b[0m \u001b[0mQuadrado\u001b[0m\u001b[1;33m(\u001b[0m\u001b[1;36m2\u001b[0m\u001b[1;33m,\u001b[0m \u001b[1;36m2\u001b[0m\u001b[1;33m)\u001b[0m\u001b[1;33m\u001b[0m\u001b[1;33m\u001b[0m\u001b[0m\n\u001b[0m",
      "\u001b[1;32m~\\AppData\\Local\\Temp/ipykernel_73656/1705604403.py\u001b[0m in \u001b[0;36m__init__\u001b[1;34m(self, lado_a, lado_b)\u001b[0m\n\u001b[0;32m     19\u001b[0m         \u001b[1;31m# Atributos criados com os parâmetros\u001b[0m\u001b[1;33m\u001b[0m\u001b[1;33m\u001b[0m\u001b[0m\n\u001b[0;32m     20\u001b[0m         \u001b[0mself\u001b[0m\u001b[1;33m.\u001b[0m\u001b[0marea\u001b[0m \u001b[1;33m=\u001b[0m \u001b[0mself\u001b[0m\u001b[1;33m.\u001b[0m\u001b[0mcalcular_area\u001b[0m\u001b[1;33m(\u001b[0m\u001b[1;33m)\u001b[0m\u001b[1;33m\u001b[0m\u001b[1;33m\u001b[0m\u001b[0m\n\u001b[1;32m---> 21\u001b[1;33m         \u001b[0mprint\u001b[0m \u001b[1;33m(\u001b[0m\u001b[1;34mf'Área do retângulo = {self.area:.2f} u²'\u001b[0m\u001b[1;33m)\u001b[0m\u001b[1;33m\u001b[0m\u001b[1;33m\u001b[0m\u001b[0m\n\u001b[0m\u001b[0;32m     22\u001b[0m \u001b[1;33m\u001b[0m\u001b[0m\n\u001b[0;32m     23\u001b[0m     \u001b[1;32mdef\u001b[0m \u001b[0mcalcular_area\u001b[0m\u001b[1;33m(\u001b[0m\u001b[0mself\u001b[0m\u001b[1;33m)\u001b[0m\u001b[1;33m:\u001b[0m\u001b[1;33m\u001b[0m\u001b[1;33m\u001b[0m\u001b[0m\n",
      "\u001b[1;31mTypeError\u001b[0m: unsupported format string passed to NoneType.__format__"
     ]
    }
   ],
   "source": [
    "q1 = Quadrado(2, 2)"
   ]
  },
  {
   "cell_type": "code",
   "execution_count": 47,
   "id": "d35985e4-ca6d-4cd0-aa5d-4a6925c85205",
   "metadata": {},
   "outputs": [
    {
     "ename": "TypeError",
     "evalue": "'int' object is not callable",
     "output_type": "error",
     "traceback": [
      "\u001b[1;31m---------------------------------------------------------------------------\u001b[0m",
      "\u001b[1;31mTypeError\u001b[0m                                 Traceback (most recent call last)",
      "\u001b[1;32m~\\AppData\\Local\\Temp/ipykernel_71396/2338148419.py\u001b[0m in \u001b[0;36m<module>\u001b[1;34m\u001b[0m\n\u001b[1;32m----> 1\u001b[1;33m \u001b[0mq1\u001b[0m\u001b[1;33m.\u001b[0m\u001b[0marea\u001b[0m\u001b[1;33m(\u001b[0m\u001b[1;33m)\u001b[0m\u001b[1;33m\u001b[0m\u001b[1;33m\u001b[0m\u001b[0m\n\u001b[0m",
      "\u001b[1;31mTypeError\u001b[0m: 'int' object is not callable"
     ]
    }
   ],
   "source": [
    "q1.area()"
   ]
  },
  {
   "cell_type": "raw",
   "id": "6a414c38-971b-4aab-9d6f-435169003356",
   "metadata": {},
   "source": []
  },
  {
   "cell_type": "markdown",
   "id": "052428cb-6746-4f1c-a723-732e3edcf8d5",
   "metadata": {},
   "source": [
    "# "
   ]
  }
 ],
 "metadata": {
  "kernelspec": {
   "display_name": "Python 3 (ipykernel)",
   "language": "python",
   "name": "python3"
  },
  "language_info": {
   "codemirror_mode": {
    "name": "ipython",
    "version": 3
   },
   "file_extension": ".py",
   "mimetype": "text/x-python",
   "name": "python",
   "nbconvert_exporter": "python",
   "pygments_lexer": "ipython3",
   "version": "3.9.7"
  }
 },
 "nbformat": 4,
 "nbformat_minor": 5
}
