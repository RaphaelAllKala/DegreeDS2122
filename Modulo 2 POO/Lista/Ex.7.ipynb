{
 "cells": [
  {
   "cell_type": "markdown",
   "id": "4c163b3c-8f2f-42a2-a4e3-33148613e5b5",
   "metadata": {},
   "source": [
    "Enunciado\n",
    "Crie uma modelagem de classes para uma agenda capaz de armazenar contatos. Através dessa agenda é possível incluir, remover, buscar e listar contatos já cadastrados."
   ]
  },
  {
   "cell_type": "code",
   "execution_count": 23,
   "id": "ef3b2e76-3682-415d-89a9-cea715baee1b",
   "metadata": {},
   "outputs": [],
   "source": [
    "class Agenda(Contato):\n",
    "    def __init__(self,contato):\n",
    "        self.lista_contato = []\n",
    "        self.incluir_contato(contato)\n",
    "   \n",
    "    def incluir_contato(self, contato):\n",
    "        self.lista_contato.append(contato) \n",
    "\n",
    "    def mostrar_agenda(self):\n",
    "        for i in self.lista_contato:\n",
    "            print (i)"
   ]
  },
  {
   "cell_type": "code",
   "execution_count": 24,
   "id": "2d9b2e16-7ecb-4540-88af-6197d324eb17",
   "metadata": {},
   "outputs": [],
   "source": [
    "class Contato():\n",
    "    def __init__(self, nome, email, telefone, endereco):\n",
    "        self.nome = nome\n",
    "        self.email = email\n",
    "        self.telefone = telefone\n",
    "        self.endereco = endereco\n",
    "        agenda = Agenda(self)\n",
    "    \n",
    "                \n",
    "    def __repr__(self):\n",
    "        printa = f'{self.nome} = {self.telefone, self.email, self.endereco}'\n",
    "        return printa\n",
    "    \n",
    "    "
   ]
  },
  {
   "cell_type": "code",
   "execution_count": 21,
   "id": "346fe6a8-8d6d-40dc-87d8-e9f482fd2a06",
   "metadata": {},
   "outputs": [],
   "source": [
    "raphael = Contato('Raphael', 'raphael@gmail.com', 71992194688, 'Rua tal n 2')\n"
   ]
  },
  {
   "cell_type": "code",
   "execution_count": 28,
   "id": "133b2e9c-a80d-4cd1-be09-f28ab0482354",
   "metadata": {},
   "outputs": [],
   "source": [
    "rilson = Contato('Rilson', 'rilson@gmail.com', 1452365,'rua k 31'  )"
   ]
  },
  {
   "cell_type": "code",
   "execution_count": 14,
   "id": "21e81ae2-ebfe-4ee8-8d2a-e9d407ec44ae",
   "metadata": {},
   "outputs": [
    {
     "ename": "NameError",
     "evalue": "name 'agenda' is not defined",
     "output_type": "error",
     "traceback": [
      "\u001b[1;31m---------------------------------------------------------------------------\u001b[0m",
      "\u001b[1;31mNameError\u001b[0m                                 Traceback (most recent call last)",
      "\u001b[1;32m~\\AppData\\Local\\Temp/ipykernel_59112/1726990693.py\u001b[0m in \u001b[0;36m<module>\u001b[1;34m\u001b[0m\n\u001b[1;32m----> 1\u001b[1;33m \u001b[0magenda\u001b[0m\u001b[1;33m.\u001b[0m\u001b[0mmostrar_agenda\u001b[0m\u001b[1;33m(\u001b[0m\u001b[1;33m)\u001b[0m\u001b[1;33m\u001b[0m\u001b[1;33m\u001b[0m\u001b[0m\n\u001b[0m",
      "\u001b[1;31mNameError\u001b[0m: name 'agenda' is not defined"
     ]
    }
   ],
   "source": [
    "agenda.mostrar_agenda()"
   ]
  },
  {
   "cell_type": "code",
   "execution_count": 25,
   "id": "6ee128a2-3ac6-4f64-90ad-8ef7672cd9d9",
   "metadata": {},
   "outputs": [
    {
     "ename": "NameError",
     "evalue": "name 'agenda' is not defined",
     "output_type": "error",
     "traceback": [
      "\u001b[1;31m---------------------------------------------------------------------------\u001b[0m",
      "\u001b[1;31mNameError\u001b[0m                                 Traceback (most recent call last)",
      "\u001b[1;32m~\\AppData\\Local\\Temp/ipykernel_59112/1170259212.py\u001b[0m in \u001b[0;36m<module>\u001b[1;34m\u001b[0m\n\u001b[1;32m----> 1\u001b[1;33m \u001b[0magenda\u001b[0m\u001b[1;33m.\u001b[0m\u001b[0mlista_contato\u001b[0m\u001b[1;33m\u001b[0m\u001b[1;33m\u001b[0m\u001b[0m\n\u001b[0m",
      "\u001b[1;31mNameError\u001b[0m: name 'agenda' is not defined"
     ]
    }
   ],
   "source": [
    "agenda.lista_contato"
   ]
  },
  {
   "cell_type": "code",
   "execution_count": null,
   "id": "529d68cc-0629-4407-9104-527ff52f33a4",
   "metadata": {},
   "outputs": [],
   "source": []
  },
  {
   "cell_type": "code",
   "execution_count": null,
   "id": "44cf2bf7-1ace-4111-b09d-c1714025ae4f",
   "metadata": {},
   "outputs": [],
   "source": []
  },
  {
   "cell_type": "code",
   "execution_count": null,
   "id": "e45ccdff-81f5-4c42-8aa7-ec2055ea3383",
   "metadata": {},
   "outputs": [],
   "source": []
  }
 ],
 "metadata": {
  "kernelspec": {
   "display_name": "Python 3 (ipykernel)",
   "language": "python",
   "name": "python3"
  },
  "language_info": {
   "codemirror_mode": {
    "name": "ipython",
    "version": 3
   },
   "file_extension": ".py",
   "mimetype": "text/x-python",
   "name": "python",
   "nbconvert_exporter": "python",
   "pygments_lexer": "ipython3",
   "version": "3.9.7"
  }
 },
 "nbformat": 4,
 "nbformat_minor": 5
}
