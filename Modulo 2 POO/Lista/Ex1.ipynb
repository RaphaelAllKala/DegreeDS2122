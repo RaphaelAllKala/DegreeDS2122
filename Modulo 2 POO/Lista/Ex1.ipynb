{
 "cells": [
  {
   "cell_type": "markdown",
   "id": "2d26e1d6-a6e6-4951-a2d1-67939ae267ed",
   "metadata": {},
   "source": [
    "Crie uma classe Bola cujos atributos são cor e raio. Crie um método que imprime a cor da bola. Crie um método para calcular a área dessa bola. Crie um método para calcular o volume da bola. Crie um objeto dessa classe e calcule a área e o volume, imprimindo ambos em seguida.\n",
    "\n",
    "Obs.:\n",
    "\n",
    "Área da esfera = 4*3.14*r*r;\n",
    "\n",
    "Volume da esfera = 4*3.14*r*r*r/3"
   ]
  },
  {
   "cell_type": "code",
   "execution_count": 5,
   "id": "1164246c-07ae-4133-b163-3ca4ced18be3",
   "metadata": {},
   "outputs": [
    {
     "name": "stdout",
     "output_type": "stream",
     "text": [
      "Dados da bola VERDE:\n",
      "Raio = 4\n",
      "Área = 200.96 u.m.²\n",
      "Volume = 267.95 u.m.³\n"
     ]
    }
   ],
   "source": [
    "\n",
    "class Bola:\n",
    "    '''Cria uma bola na qual terá os atributos de area e\n",
    "    volume criados com input do raio e da cor.'''\n",
    "    def __init__(self, cor_bola, r_bola):\n",
    "        '''\n",
    "        Recebe as informações de raio (u.m.) e cor\n",
    "        de uma bola e retorna a cor e os\n",
    "        resultados de área e volume como atributos da bola.\n",
    "        \n",
    "        Parâmetros\n",
    "        \n",
    "        cor_bola : str\n",
    "            Cor da bola\n",
    "        \n",
    "        r_bola : int\n",
    "            Raio da bola\n",
    "            \n",
    "        '''\n",
    "        self.cor = cor_bola.upper()\n",
    "        self.raio = r_bola\n",
    "        # atributos não criados no construtor\n",
    "        self.area = self.calcular_area()\n",
    "        self.volume = self.calcular_volume()\n",
    "        print (f'Dados da bola {self.cor}:\\nRaio = {self.raio}\\nÁrea = {self.area:.2f} u.m.²\\nVolume = {self.volume:.2f} u.m.³')\n",
    "               \n",
    "    def imprimir_cor(self): #Método para imprimir a cor da bola\n",
    "        print(self.cor)\n",
    "        \n",
    "    def calcular_area(self): #Método para calcular a área da bola\n",
    "        area = 4*3.14*(self.raio**2)\n",
    "        #print(f'Área = {area:.2f} u.m.²')\n",
    "        return area\n",
    "    \n",
    "    def calcular_volume(self): #Método para calcular o volume da bola.\n",
    "        volume = 4*3.14*(self.raio**3)/3\n",
    "        #print(f'Volume = {volume:.2f} u.m.³')\n",
    "        return volume\n",
    "\n",
    "bola1 = Bola('verde', 4)\n",
    "#input pelo usuario \n",
    "#bola2 = Bola(input('Digite a cor da bola:'), int(input('Digite o raio da bola:')))\n"
   ]
  },
  {
   "cell_type": "code",
   "execution_count": 8,
   "id": "ca3f13e8-b47c-4d9e-9642-af421b783d64",
   "metadata": {},
   "outputs": [
    {
     "name": "stdout",
     "output_type": "stream",
     "text": [
      "<__main__.Bola object at 0x000001FBE092B8E0>\n"
     ]
    }
   ],
   "source": [
    "print(bola1)"
   ]
  }
 ],
 "metadata": {
  "kernelspec": {
   "display_name": "Python 3 (ipykernel)",
   "language": "python",
   "name": "python3"
  },
  "language_info": {
   "codemirror_mode": {
    "name": "ipython",
    "version": 3
   },
   "file_extension": ".py",
   "mimetype": "text/x-python",
   "name": "python",
   "nbconvert_exporter": "python",
   "pygments_lexer": "ipython3",
   "version": "3.9.7"
  }
 },
 "nbformat": 4,
 "nbformat_minor": 5
}
