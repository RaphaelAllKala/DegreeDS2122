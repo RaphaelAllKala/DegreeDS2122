{
 "cells": [
  {
   "cell_type": "markdown",
   "id": "05fb0400-daab-4697-b9de-5b45d1b6349e",
   "metadata": {},
   "source": [
    "O módulo time possui a função time.sleep(x), que faz seu programa “dormir” por x segundos. Utilizando essa função, crie uma classe Cronômetro e faça um programa que cronometre o tempo."
   ]
  },
  {
   "cell_type": "code",
   "execution_count": 13,
   "id": "91773250-12bb-4c09-a2b8-99ca4b79dff5",
   "metadata": {},
   "outputs": [],
   "source": [
    "from time import sleep\n",
    "\n",
    "    \n",
    "class Cronometro():\n",
    "    def __init__(self):\n",
    "        '''\n",
    "        Construdor do objeto cronometro.\n",
    "        \n",
    "        '''\n",
    "        \n",
    "        \n",
    "    def start_tempo(self, limite):\n",
    "        '''\n",
    "        Inicia a contagem do tempo.\n",
    "        \n",
    "        Parâmetros:\n",
    "        \n",
    "        limite = int\n",
    "        \n",
    "            Quantidade de segundos que o cronometro irá imprimir na tela.\n",
    "        \n",
    "        '''\n",
    "        self.limite = limite\n",
    "        for tempo in range (0, self.limite):\n",
    "            \n",
    "            print (tempo + 1)\n",
    "            if tempo + 1 == self.limite:\n",
    "                print('O tempo acabou.')\n",
    "                \n",
    "            sleep(1)\n",
    "        \n",
    "\n",
    "t1 = Cronometro()    "
   ]
  },
  {
   "cell_type": "code",
   "execution_count": 24,
   "id": "f20cdcd6-5472-484c-8e27-6802441d4ae9",
   "metadata": {},
   "outputs": [],
   "source": []
  },
  {
   "cell_type": "code",
   "execution_count": 14,
   "id": "b5ed2e74-3029-4c51-b799-3e7aca6432f1",
   "metadata": {},
   "outputs": [
    {
     "name": "stdout",
     "output_type": "stream",
     "text": [
      "1\n",
      "2\n",
      "3\n",
      "O tempo acabou.\n"
     ]
    }
   ],
   "source": [
    "t1.start_tempo(3)"
   ]
  },
  {
   "cell_type": "code",
   "execution_count": 29,
   "id": "20265720-9c8e-476b-9c3b-476d6149319c",
   "metadata": {},
   "outputs": [
    {
     "ename": "TypeError",
     "evalue": "'int' object is not callable",
     "output_type": "error",
     "traceback": [
      "\u001b[1;31m---------------------------------------------------------------------------\u001b[0m",
      "\u001b[1;31mTypeError\u001b[0m                                 Traceback (most recent call last)",
      "\u001b[1;32m~\\AppData\\Local\\Temp/ipykernel_36632/989935477.py\u001b[0m in \u001b[0;36m<module>\u001b[1;34m\u001b[0m\n\u001b[1;32m----> 1\u001b[1;33m \u001b[0mt1\u001b[0m\u001b[1;33m.\u001b[0m\u001b[0mparcial\u001b[0m\u001b[1;33m(\u001b[0m\u001b[1;33m)\u001b[0m\u001b[1;33m\u001b[0m\u001b[1;33m\u001b[0m\u001b[0m\n\u001b[0m",
      "\u001b[1;31mTypeError\u001b[0m: 'int' object is not callable"
     ]
    }
   ],
   "source": [
    "t1.parcial()"
   ]
  }
 ],
 "metadata": {
  "kernelspec": {
   "display_name": "Python 3 (ipykernel)",
   "language": "python",
   "name": "python3"
  },
  "language_info": {
   "codemirror_mode": {
    "name": "ipython",
    "version": 3
   },
   "file_extension": ".py",
   "mimetype": "text/x-python",
   "name": "python",
   "nbconvert_exporter": "python",
   "pygments_lexer": "ipython3",
   "version": "3.9.7"
  }
 },
 "nbformat": 4,
 "nbformat_minor": 5
}
