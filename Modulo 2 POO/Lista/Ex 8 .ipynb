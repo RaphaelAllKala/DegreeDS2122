{
 "cells": [
  {
   "cell_type": "code",
   "execution_count": 15,
   "id": "28cbec4a-273f-4a02-84e0-92f64e245a5e",
   "metadata": {},
   "outputs": [
    {
     "data": {
      "text/plain": [
       "Nome:Raphael\n",
       "Idade:35\n",
       "E-mail:rapha@gmail.com"
      ]
     },
     "execution_count": 15,
     "metadata": {},
     "output_type": "execute_result"
    }
   ],
   "source": [
    "class Cliente():\n",
    "    def __init__(self, nome, idade, email):\n",
    "        '''\n",
    "        Contrutor\n",
    "            Criar objeto com nome idade e email. \n",
    "        \n",
    "        Parâmetros\n",
    "            nome: str\n",
    "                Nome da pessoa.\n",
    "            idade : int\n",
    "                idade da pessoa\n",
    "            email : str\n",
    "                E-mail     \n",
    "        '''\n",
    "        \n",
    "        self.nome = nome\n",
    "        self.idade = idade\n",
    "        self.email = email\n",
    "        \n",
    "    def __repr__(self):\n",
    "        printa = f'Nome:{self.nome}\\nIdade:{self.idade}\\nE-mail:{self.email}'\n",
    "        return printa    \n",
    "    \n",
    "raphael = Cliente('Raphael', '35', 'rapha@gmail.com')\n",
    "raphael"
   ]
  },
  {
   "cell_type": "code",
   "execution_count": 20,
   "id": "b297eb64-5e94-4001-a98c-26b4deaf5fee",
   "metadata": {},
   "outputs": [],
   "source": [
    "class Cadastro(Cliente):\n",
    "    def __init__(self):\n",
    "        print = ('Sistema ligado')\n",
    "        self.nome = input('Digite o nome ')\n",
    "        self.idade = input('Digite a idade')\n",
    "        self.email = input('Digite o email')\n",
    "    \n",
    "    \n",
    "        \n",
    "    "
   ]
  },
  {
   "cell_type": "code",
   "execution_count": 24,
   "id": "dc818d77-af32-481c-b09a-dfc16f5b5b60",
   "metadata": {},
   "outputs": [
    {
     "name": "stdin",
     "output_type": "stream",
     "text": [
      "Digite o nome  dois\n",
      "Digite a idade 65\n",
      "Digite o email fwqewfqwe@gfv.com\n"
     ]
    }
   ],
   "source": [
    "dois = Cadastro()"
   ]
  },
  {
   "cell_type": "code",
   "execution_count": 25,
   "id": "e4e85831-ed4f-4e56-be5a-77364d98a6cd",
   "metadata": {},
   "outputs": [
    {
     "data": {
      "text/plain": [
       "Nome:dois\n",
       "Idade:65\n",
       "E-mail:fwqewfqwe@gfv.com"
      ]
     },
     "execution_count": 25,
     "metadata": {},
     "output_type": "execute_result"
    }
   ],
   "source": [
    "dois"
   ]
  },
  {
   "cell_type": "markdown",
   "id": "cf2aeb1d-2bcc-4fe7-8d66-d1ddc7a7cefc",
   "metadata": {},
   "source": [
    "Enunciado\n",
    "Com base no exercício anterior, crie um sistema de cadastro e a classe Cliente. Seu programa deve perguntar se o usuário quer cadastrar um novo cliente, alterar um cadastro ou sair.\n",
    "\n",
    "Dica: Você pode fazer esse exercício criando uma classe Sistema, que irá controlar o sistema de cadastros. Essa classe deve ter o atributo cadastro e os métodos para imprimir os cadastrados, cadastrar um novo cliente, alterar um cadastro ou sair."
   ]
  }
 ],
 "metadata": {
  "kernelspec": {
   "display_name": "Python 3 (ipykernel)",
   "language": "python",
   "name": "python3"
  },
  "language_info": {
   "codemirror_mode": {
    "name": "ipython",
    "version": 3
   },
   "file_extension": ".py",
   "mimetype": "text/x-python",
   "name": "python",
   "nbconvert_exporter": "python",
   "pygments_lexer": "ipython3",
   "version": "3.9.7"
  }
 },
 "nbformat": 4,
 "nbformat_minor": 5
}
