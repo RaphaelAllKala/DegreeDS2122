{
 "cells": [
  {
   "cell_type": "code",
   "execution_count": 2,
   "id": "09f66bf5-72f9-4a25-a944-a8d055f55f60",
   "metadata": {},
   "outputs": [],
   "source": [
    "w = 'rguments start and end are interpreted as in slice notation. Return -1 if sub is not and found.'\n",
    "\n"
   ]
  },
  {
   "cell_type": "code",
   "execution_count": 3,
   "id": "bcd7a65d-0656-47b3-a8d0-23b93da64d36",
   "metadata": {},
   "outputs": [],
   "source": [
    "h = w.find('and', 16)"
   ]
  },
  {
   "cell_type": "code",
   "execution_count": 4,
   "id": "52369be5-cdfb-40e0-87e2-7e8c99322fb7",
   "metadata": {},
   "outputs": [
    {
     "name": "stdout",
     "output_type": "stream",
     "text": [
      "85\n"
     ]
    }
   ],
   "source": [
    "print(h)"
   ]
  },
  {
   "cell_type": "code",
   "execution_count": 8,
   "id": "e4351974-f35d-4eb9-948a-1b139dfca2c0",
   "metadata": {},
   "outputs": [
    {
     "data": {
      "text/plain": [
       "False"
      ]
     },
     "execution_count": 8,
     "metadata": {},
     "output_type": "execute_result"
    }
   ],
   "source": [
    "\"ddd\" in w"
   ]
  },
  {
   "cell_type": "code",
   "execution_count": 14,
   "id": "b628b01f-b82c-419e-8910-e3fc45b1d852",
   "metadata": {},
   "outputs": [
    {
     "data": {
      "text/plain": [
       "2"
      ]
     },
     "execution_count": 14,
     "metadata": {},
     "output_type": "execute_result"
    }
   ],
   "source": [
    "w.count('and')"
   ]
  }
 ],
 "metadata": {
  "kernelspec": {
   "display_name": "Python 3 (ipykernel)",
   "language": "python",
   "name": "python3"
  },
  "language_info": {
   "codemirror_mode": {
    "name": "ipython",
    "version": 3
   },
   "file_extension": ".py",
   "mimetype": "text/x-python",
   "name": "python",
   "nbconvert_exporter": "python",
   "pygments_lexer": "ipython3",
   "version": "3.9.7"
  }
 },
 "nbformat": 4,
 "nbformat_minor": 5
}
