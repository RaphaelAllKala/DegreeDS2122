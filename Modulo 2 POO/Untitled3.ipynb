{
 "cells": [
  {
   "cell_type": "code",
   "execution_count": 6,
   "id": "6584048c-070e-4302-afaa-15bc20f04679",
   "metadata": {},
   "outputs": [],
   "source": [
    "from modulo.conta import Cliente"
   ]
  },
  {
   "cell_type": "code",
   "execution_count": 7,
   "id": "dbf827dc-bb6b-4fbf-92aa-e88923eeee06",
   "metadata": {},
   "outputs": [],
   "source": [
    "raphael = Cliente ('Raphael', 25, 'rps@gmail.com')"
   ]
  },
  {
   "cell_type": "code",
   "execution_count": 8,
   "id": "dfe30fe1-ead8-4a8e-b7c5-b8018d06b37a",
   "metadata": {},
   "outputs": [
    {
     "data": {
      "text/plain": [
       "Nome: Raphael\n",
       "Idade: 25\n",
       "E-mail: rps@gmail.com"
      ]
     },
     "execution_count": 8,
     "metadata": {},
     "output_type": "execute_result"
    }
   ],
   "source": [
    "raphael"
   ]
  }
 ],
 "metadata": {
  "kernelspec": {
   "display_name": "Python 3 (ipykernel)",
   "language": "python",
   "name": "python3"
  },
  "language_info": {
   "codemirror_mode": {
    "name": "ipython",
    "version": 3
   },
   "file_extension": ".py",
   "mimetype": "text/x-python",
   "name": "python",
   "nbconvert_exporter": "python",
   "pygments_lexer": "ipython3",
   "version": "3.9.7"
  }
 },
 "nbformat": 4,
 "nbformat_minor": 5
}
