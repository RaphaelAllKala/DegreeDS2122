{
 "cells": [
  {
   "cell_type": "markdown",
   "id": "b03ffcce-1b88-4d7d-99ee-ff6167dd9aa1",
   "metadata": {},
   "source": [
    "# Introdução"
   ]
  },
  {
   "cell_type": "markdown",
   "id": "a88da3ce-baa0-49e1-b54a-aec5d2ee76aa",
   "metadata": {},
   "source": [
    "## Motivação\n",
    "\n",
    "O desenvolvimento de algoritmos requer prática e conhecimento das principais técnicas e fundamentos da computação.\n",
    "\n",
    "Estudar as principais estruturas de dados, como resolver problemas clássicos e as principais estratégias de como abordar um problem, são essenciais.\n",
    "\n",
    "Isso por que diversos problemas práticos que lidamos no dia-a-dia podem ser reduzidos a uma ou mais classes de problemas já conhecidos.\n",
    "\n",
    "Como o sistema operacional lida com processos? Como encontramos arquivos em uma máquina? Como é o design de uma rede social? Como funcionam os índices em banco de dados? Etc."
   ]
  },
  {
   "cell_type": "markdown",
   "id": "3ffa001c-d310-4684-9b46-1bea5e42428a",
   "metadata": {},
   "source": [
    "## Objetivos\n",
    "\n",
    "Ao final dessa aula o aluno deverá conhecer:\n",
    "\n",
    "- O que é um algoritmo\n",
    "- Tipos de problemas em computação\n",
    "- As principais estruturas de dados\n",
    "- As principais estratégias para o design de algoritmos"
   ]
  },
  {
   "cell_type": "markdown",
   "id": "7ae00169-a713-4ad8-ba31-2eea1dacea9b",
   "metadata": {},
   "source": [
    "## Conceitos"
   ]
  },
  {
   "attachments": {
    "d9eb2cb1-3988-4706-a3da-a28987248442.png": {
     "image/png": "[encoded data removed]"
    }
   },
   "cell_type": "markdown",
   "id": "6fc8f4da-6d81-4de2-8945-0c9d16fc60d5",
   "metadata": {},
   "source": [
    "### Algoritmos\n",
    "\n",
    "<i> Uma sequência de instruções lógicas para resolver um problema, isto é, obter uma saída pra qualquer entrada legítima em um tempo finito de tempo. </i>\n",
    "\n",
    "![image.png](attachment:d9eb2cb1-3988-4706-a3da-a28987248442.png)\n",
    "\n",
    "Principais considerações:\n",
    "\n",
    "- Entrada de um algoritmo deve ser cuidadosamente especificada.\n",
    "- Existem vários algoritmos que resolvem o mesmo problema.\n",
    "- Algoritmos para o mesmo problema podem ser baseados em diferentes ideias e, portanto, podem apresentar performances distintas.\n",
    "- Corretude. Teste ou prova matemática.\n",
    "- Complexidade de espaço e tempo.\n",
    "\n",
    "Em computação, existem problemas para os quais não existe uma solução ou, se uma solução existe, ela não é computável em tempo aceitável. \n",
    "\n",
    "Certos problemas possuem solução aproximada, ou algoritmos que funcionam bem para entradas pequenas e, portanto, não são generalistas, já que podem levar bilhões de anos para rodar!\n",
    "\n",
    "    Exemplo: Supondo um computador que seja capaz de executar 1 trilhão (10^12) de operações por segundo, um algoritmo que demande 2^100 operações levaria 4*10^10 anos!\n",
    "\n",
    "O estudo dessas<a href=\"https://en.wikipedia.org/wiki/P_versus_NP_problem\"> classes de problemas</a> é abordado em Teoria da Computação.\n",
    "\n",
    "Conseguem pensar uma situação em que seja bom que um problema não tenha solução em tempo aceitável?"
   ]
  },
  {
   "cell_type": "markdown",
   "id": "23248d7b-464a-413f-b29d-e9dd87fe4865",
   "metadata": {},
   "source": [
    "### Estratégias de design\n",
    "\n",
    "Algoritmos podem ser classificados de acordo com a estratégia adotada pra seu desenvolvimento.\n",
    "\n",
    "As principais estratégias estudadas são:\n",
    "\n",
    "- Brute force\n",
    "- Decrease-and-conquer\n",
    "- Divide-and-conquer\n",
    "- Transform-and-conquer\n",
    "- Dynamic programming\n",
    "- Greedy\n",
    "\n",
    "- Passo a passo para resolver um problema\n",
    "\n",
    "Este <a href=\"http://www.crackingthecodinginterview.com/uploads/6/5/2/8/6528028/handout_-_cracking_the_coding_skills.png\">diagrama</a> ilustra uma boa estratégia para resolver um problema computacional."
   ]
  },
  {
   "cell_type": "markdown",
   "id": "872ae93c-867e-437e-9d0e-1f3d3479d25b",
   "metadata": {},
   "source": [
    "#### Máximo divisor comum\n",
    "\n",
    "O máximo divisor comum de 2 números inteiros positivos diferentes de 0, <i>m</i> e <i>n</i>, denotado gcd(m,n), é definido pelo maior inteiro que divide ambos <i>m</i> e <i>n</i>. \n",
    "\n",
    "Qual algoritmo você conhece para resolver esse problema?\n",
    "\n",
    "- <b>Algoritmo de Euclides</b>\n",
    "\n",
    "    gcd(m, n) = gcd(n, m mod n), onde m mod n é o resto da divisão de m por n, até m mod n igual a zero. Desde que gcd(m, 0) = m, o último valor de m é o máximo divisor comum de m e n.\n",
    "    \n",
    "    gcd(60, 24) = gcd(24, 60 mod 24) = gcd(24, 12) = gcd(12, 24 mod 12) = gcd(12, 0) = 12\n",
    "\n",
    "- <b>Checagem consecutiva de inteiros</b>\n",
    "\n",
    "    Dado que o máximo divisor comum de m e n não pode ser maior do que o menor número dentre eles, ou seja, t = min(m, n), podemos iniciar checando se t divide m e n. Se sim, t é a resposta, caso contrário, decrementamos t até encontrarmos uma divisão exata.\n",
    "    \n",
    "- <b>Método da escola</b>\n",
    "\n",
    "    Podemos decompor os números em fatores primos e multiplicar os elementos repetidos. Esse método é mais complexo do que as soluções acima, desde que 'decompor em fatores primos' e 'encontrar elementos repetidos' são novos problemas que introduzimos.\n",
    "\n",
    "Vamos implementar?"
   ]
  },
  {
   "cell_type": "code",
   "execution_count": 14,
   "id": "319c3f50-efef-4b33-b628-3d584f970eab",
   "metadata": {},
   "outputs": [],
   "source": [
    "\n",
    "def euclides(n, m):\n",
    "        maior = max(m, n)\n",
    "        menor = min(m, n)\n",
    "        print (menor)\n",
    "        print (maior)\n",
    "        \n",
    "        while menor != 0:\n",
    "            resto = maior%menor\n",
    "            maior = menor\n",
    "            menor = resto\n",
    "            \n",
    "        print(f'max divisor {maior}')\n",
    "        return maior"
   ]
  },
  {
   "cell_type": "code",
   "execution_count": 17,
   "id": "606f0227-25d3-43f4-82fb-ee7580581044",
   "metadata": {},
   "outputs": [
    {
     "name": "stdout",
     "output_type": "stream",
     "text": [
      "48\n",
      "128\n",
      "max divisor 16\n"
     ]
    },
    {
     "data": {
      "text/plain": [
       "16"
      ]
     },
     "execution_count": 17,
     "metadata": {},
     "output_type": "execute_result"
    }
   ],
   "source": [
    "euclides(48, 128)"
   ]
  },
  {
   "cell_type": "code",
   "execution_count": null,
   "id": "2744e39b-fde0-4606-a3a8-71006ab0245a",
   "metadata": {},
   "outputs": [],
   "source": [
    "# Euclides algorithm\n",
    "def gcd_ite(m, n):\n",
    "    while n != 0:\n",
    "        m = n\n",
    "        n = m % n\n",
    "    return m\n",
    "    \n",
    "def gcd_rec(m, n):\n",
    "    if m < n:\n",
    "        aux = m\n",
    "        m = n\n",
    "        n = aux\n",
    "    \n",
    "    if n == 0:\n",
    "        return m\n",
    "    \n",
    "    return gcd(n, m % n)\n",
    "\n",
    "\n",
    "gcd_ite(60, 24)"
   ]
  },
  {
   "cell_type": "code",
   "execution_count": null,
   "id": "db4a5dbf-06c3-4abd-8f40-a4c38c3cfc87",
   "metadata": {},
   "outputs": [],
   "source": [
    "# Consecutive integer checking\n",
    "def gcd(m, n):\n",
    "    min = m\n",
    "    if (n < min):\n",
    "        min = n\n",
    "    \n",
    "    while min >= 1:\n",
    "        if m % min == 0 and n % min == 0:\n",
    "            return min\n",
    "        min = min - 1\n",
    "    \n",
    "    return min\n",
    "\n",
    "gcd(100, 10)"
   ]
  },
  {
   "attachments": {
    "29561701-a4e0-42f1-ab3f-7ab021cb28b9.png": {
     "image/png": "[encoded data removed]"
    }
   },
   "cell_type": "markdown",
   "id": "cf892d1f-cb78-4c16-9d9e-d87159fd4755",
   "metadata": {},
   "source": [
    "#### Encontrar sequência de números primos\n",
    "\n",
    "Algoritmo: Sieve of Eratosthenes (ca. 200 b.c.).\n",
    "\n",
    "1. Inicializar uma lista com valores consecutivos de 2 até N.\n",
    "2. A partir de 2, eliminar os múltiplos de cada número.\n",
    "3. Ignorar valores eliminados em passos anteriores.\n",
    "\n",
    "Exemplo: N = 25\n",
    "\n",
    "\n",
    "![image.png](attachment:29561701-a4e0-42f1-ab3f-7ab021cb28b9.png)\n",
    "\n",
    "<div>\n",
    "    <img src=\"../images/sieve.png\" width=\"50%\" heigth=\"50%\"/>\n",
    "</div>\n",
    "\n",
    "Observações:\n",
    "\n",
    "- Se p é o número atual, então o primeiro múltiplo que devemos considerar é p.p, porque os múltiplos menores 2p,. . . , (p - 1)p já foram eliminados em passagens anteriores.\n",
    "- p.p não deve ser maior que n e, portanto, p não pode exceder raiz de N (valor máximo de entrada) arredondado para baixo. \n",
    "    Para entender melhor: \n",
    "        Pense no exemplo acima, N = 25. Quando p = 5, p * p não pode ser maior que N (25)\n",
    "    Em outras palavras: \n",
    "        Sempre checamos se p <= raiz de N, já que o primeiro elemento a ser checado sera p * p.\n",
    "    \n",
    "Exemplo: N = 50\n",
    "\n",
    "<div>\n",
    "    <img src=\"../images/sieve-2.png\" width=\"50%\" heigth=\"50%\"/>\n",
    "</div>\n",
    "\n",
    "Vamos implementar?"
   ]
  },
  {
   "cell_type": "code",
   "execution_count": 61,
   "id": "28e96e38-f4a9-48b8-9eb3-5838a9a764f9",
   "metadata": {},
   "outputs": [
    {
     "name": "stdout",
     "output_type": "stream",
     "text": [
      "[2, 3, 4, 5, 6, 7, 8, 9, 10, 11, 12, 13, 14, 15, 16, 17, 18, 19, 20, 21, 22, 23, 24, 25]\n"
     ]
    }
   ],
   "source": [
    "lista = []\n",
    "for i in range (2,26):\n",
    "    lista.append(i)\n",
    "print (lista)"
   ]
  },
  {
   "cell_type": "code",
   "execution_count": 70,
   "id": "78daa987-a794-4c0c-a2d4-52ce2683e15a",
   "metadata": {},
   "outputs": [
    {
     "ename": "SyntaxError",
     "evalue": "invalid syntax (Temp/ipykernel_3736/915671026.py, line 3)",
     "output_type": "error",
     "traceback": [
      "\u001b[1;36m  File \u001b[1;32m\"C:\\Users\\rapha\\AppData\\Local\\Temp/ipykernel_3736/915671026.py\"\u001b[1;36m, line \u001b[1;32m3\u001b[0m\n\u001b[1;33m    for j:\u001b[0m\n\u001b[1;37m         ^\u001b[0m\n\u001b[1;31mSyntaxError\u001b[0m\u001b[1;31m:\u001b[0m invalid syntax\n"
     ]
    }
   ],
   "source": [
    "n = 9\n",
    "for j in lista:\n",
    "    for j:\n",
    "        -\n",
    "        print(j, n, lista[j], lista[j]%n)\n",
    "        n += -1\n",
    "        if n == 0:\n",
    "            print('k')\n",
    "n = 9"
   ]
  },
  {
   "cell_type": "code",
   "execution_count": 18,
   "id": "bb60278a-8afe-48f9-b16c-5340d8d6dd5c",
   "metadata": {},
   "outputs": [
    {
     "data": {
      "text/plain": [
       "[2, 3, 5, 7, 11, 13, 17, 19, 23, 29, 31, 37, 41, 43, 47, 49]"
      ]
     },
     "execution_count": 18,
     "metadata": {},
     "output_type": "execute_result"
    }
   ],
   "source": [
    "import math\n",
    "\n",
    "def sieve_eratosthenes(n):\n",
    "    prime = [True for i in range(n + 1)]\n",
    "    for p in range (2, math.floor(math.sqrt(n))):\n",
    "        if (prime[p] is False):\n",
    "            continue\n",
    "\n",
    "        for p in range(p * p, n + 1, p):\n",
    "            if (prime[p]):\n",
    "                prime[p] = False\n",
    "    ans = []\n",
    "    for i in range(2, n + 1):\n",
    "        if (prime[i]):\n",
    "            ans.append(i)\n",
    "    return ans\n",
    "\n",
    "sieve_eratosthenes(50)"
   ]
  },
  {
   "cell_type": "markdown",
   "id": "d940f065-8eea-4016-9e6d-8e4f8c9d63a6",
   "metadata": {
    "jp-MarkdownHeadingCollapsed": true,
    "tags": []
   },
   "source": [
    "### Estruturas de dados fundamentais\n",
    "\n",
    "Algoritmos operam sobre dados. Portanto, a organização desses dados desempenha um papel fundamental no design e na análise de algoritmos.\n",
    "\n",
    "Uma estrutura de dados pode ser definida como um esquema de organização de items relacionados.\n",
    "\n",
    "A natureza desses items depende do problema em questão, variando de tipos de dados elementares como inteiros e caractéres, até estruturas de dados complexas como listas, matrizes, etc.\n",
    "\n",
    "    Algoritmo + Estrutura de Dados = Programa.\n",
    "\n",
    "Um “Tipo Abstrato de Dado (TAD)” é uma especificação de um conjunto de dados e operações que podem ser executadas sobre esses dados, independente de implementação.\n",
    "\n",
    "As principais estruturas de dados são:\n",
    "\n",
    "- <b>Estruturas de dados lineares</b>\n",
    "\n",
    "<b>Array</b>. Estrutura estática, acesso aos elementos por meio de um índice, acesso constante.\n",
    "    \n",
    "    Exemplos: array de números, strings, etc.\n",
    "\n",
    "<b>Linked-list</b>. Estrutura dinâmica, rápida inserção, necessário percorrer os ponteiros para acessar um elemento (nó).\n",
    "\n",
    "    Exemplos: singly linked-list, doubly linked-list, etc.\n",
    " \n",
    "<div>\n",
    "    <img src=\"../images/linked-list.png\" width=\"40%\" heigth=\"40%\"/>\n",
    "</div>\n",
    "\n",
    "Tipos de listas:\n",
    "\n",
    "- <i>Pilhas (Stack)</i>\n",
    "\n",
    "LIFO - Last in first out. Top.\n",
    "\n",
    "- <i>Filas (Queue)</i>\n",
    "\n",
    "FIFO - First in first out. Front. Rear.\n",
    "\n",
    "<div>\n",
    "    <img src=\"../images/stack.png\" width=\"30%\" heigth=\"30%\"/>\n",
    "</div>\n",
    "\n",
    "- <i>Priority queue.</i>\n",
    "\n",
    "Mantem no topo o item com maior prioridade. \n",
    "\n",
    "    Exemplos: Sistemas operacionais: Escalonamento de processos. \n",
    "\n",
    "Heap - Árvore completa, cada nó com valor maior que seus filhos.\n",
    "\n",
    "<div>\n",
    "    <img src=\"../images/heap.png\" width=\"40%\" heigth=\"40%\"/>\n",
    "</div>\n",
    "\n",
    "- <b>Grafos (Graphs)</b>\n",
    "\n",
    "Coleção de pontos em um plano. Formado por vértices ou nós conectados ou não por arestas.\n",
    "\n",
    "<div>\n",
    "    <img src=\"../images/graph.png\" width=\"50%\" heigth=\"50%\"/>\n",
    "</div>\n",
    "\n",
    "Grafos podem ser armazenados como uma matriz de adjacências ou uma lista de adjacências.\n",
    "\n",
    "- <b>Árvores (Trees)</b>\n",
    "\n",
    "É um tipo de grafo (grafo conectado e acíclico).\n",
    "\n",
    "<div>\n",
    "    <img src=\"../images/tree.png\" width=\"50%\" heigth=\"50%\"/>\n",
    "</div>\n",
    "\n",
    "- <b>Conjuntos e dicionários (Sets and Dictionaries)</b>\n",
    "\n",
    "Conjuntos: Reune elementos sem uma ordem específica. Garante que não há items duplicados.\n",
    "\n",
    "Dicionários: Reune elementos no formato chave-valor. Eficiência na busca."
   ]
  },
  {
   "cell_type": "markdown",
   "id": "d78801d9-36c4-4eec-a602-3be94fbb17ee",
   "metadata": {},
   "source": [
    "### Principais tipos de problemas de computação\n",
    "\n",
    "- <b>Ordenação (Sorting)</b>\n",
    "\n",
    "Lida com o rearrango de items em ordem crescente ou decrescente. Items devem ter relação de ordem total.\n",
    "    \n",
    "    Exemplos: Ordenar alunos por nota, ordenar pessoas por quantidade de amigos em uma rede social, etc.\n",
    "    \n",
    "Ordenação geralmente é um passo intermediário na resolução de um problema maior.\n",
    "    \n",
    "    Exemplo: A busca de um elemento em uma lista é facilitada quando temos uma lista ordenada.\n",
    "\n",
    "Existem diversos algoritmos disponíveis para esta finalidade.\n",
    "\n",
    "    Exemplo: Bubble sort, Insertion sort, Selection sort, Bucket sort, Merge sort, Quick sort, etc. \n",
    "    \n",
    "- <b>Busca (Searching)</b>\n",
    "\n",
    "Lida com encontrar um valor em um dado conjunto. Depende fortemente da estrutura de dados adotada.\n",
    "\n",
    "Existem diversos algoritmos disponíveis para esta finalidade.\n",
    "\n",
    "    Exemplos: Binary search, buscas em grafos (BFS, DFS), etc.\n",
    "    \n",
    "- <b>Problemas de grafos</b>\n",
    "\n",
    "Lida com operações realizadas sobre grafos. Um grafo é uma estrutura de dados usada para modelar problemas como transporte, comunicações, redes sociais, etc.\n",
    "\n",
    "    Exemplos: Percorrer um grafo, problema do caminho mínimo em grafos, problema do caixeiro viajante (encontrar o caminho mais curto por N cidades em que cada cidade seja visitada apenas uma vez)."
   ]
  },
  {
   "cell_type": "markdown",
   "id": "b53c9db5-7d46-4ef8-8195-de56716d4677",
   "metadata": {},
   "source": [
    "## Exercícios\n",
    "\n",
    "Vamos fazer uns exercícios de aquecimento utilizando um online judge.\n",
    "\n",
    "- 1\n",
    "\n",
    "<a href=\"https://www.beecrowd.com.br/judge/en/problems/view/1000\">Hello World</a>\n",
    "\n",
    "- 2\n",
    "\n",
    "<a href=\"https://www.beecrowd.com.br/judge/en/problems/view/1004\">Simple product</a>\n",
    "\n",
    "- 3\n",
    "\n",
    "<a href=\"https://www.beecrowd.com.br/judge/en/problems/view/1009\">Salary with bonus</a>\n",
    "\n",
    "- 4\n",
    "\n",
    "<a href=\"https://www.beecrowd.com.br/judge/en/problems/view/1015\">Distance between 2 points</a>\n",
    "\n",
    "- 5\n",
    "\n",
    "<a href=\"https://www.beecrowd.com.br/judge/en/problems/view/1071\">Sum of consecutive odd numbers</a>\n",
    "\n",
    "- 6\n",
    "\n",
    "<a href=\"https://www.beecrowd.com.br/judge/en/problems/view/1021\">Backnotes and coins</a>\n",
    "\n",
    "    Obs: Cuidado com a precisão: Teste com valores: 44.55 e 77.77"
   ]
  },
  {
   "cell_type": "code",
   "execution_count": null,
   "id": "e5cbbde3-be78-4724-831b-c2dfdad51ce8",
   "metadata": {},
   "outputs": [],
   "source": []
  },
  {
   "cell_type": "code",
   "execution_count": 4,
   "id": "5ec36a81-7a05-414d-b0c2-0bccb9d879ea",
   "metadata": {},
   "outputs": [
    {
     "name": "stdin",
     "output_type": "stream",
     "text": [
      " hafaj\n",
      " 15000\n",
      " 2222\n"
     ]
    },
    {
     "name": "stdout",
     "output_type": "stream",
     "text": [
      "Total = R$15333.30\n"
     ]
    }
   ],
   "source": [
    "#ex3 \n",
    "nome = input()\n",
    "a = float(input())\n",
    "b = float(input())\n",
    "total = a + (15/100) * b\n",
    "print(f'Total = R${total:.02f}')"
   ]
  },
  {
   "cell_type": "code",
   "execution_count": 7,
   "id": "76bdaded-401c-43d6-b139-e2a1c0676684",
   "metadata": {},
   "outputs": [
    {
     "name": "stdin",
     "output_type": "stream",
     "text": [
      " 30\n",
      " 40\n",
      " 50\n",
      " 60\n"
     ]
    },
    {
     "name": "stdout",
     "output_type": "stream",
     "text": [
      "28.2843\n"
     ]
    }
   ],
   "source": [
    "#EX4\n",
    "x1, y1 = float(input()), float(input())\n",
    "x2, y2 = float(input()), float(input())\n",
    "distancia = ((((x2-x1)**2)+((y2-y1)**2))**0.5)\n",
    "print(f'{distancia:.04f}')\n"
   ]
  }
 ],
 "metadata": {
  "kernelspec": {
   "display_name": "Python 3 (ipykernel)",
   "language": "python",
   "name": "python3"
  },
  "language_info": {
   "codemirror_mode": {
    "name": "ipython",
    "version": 3
   },
   "file_extension": ".py",
   "mimetype": "text/x-python",
   "name": "python",
   "nbconvert_exporter": "python",
   "pygments_lexer": "ipython3",
   "version": "3.9.7"
  }
 },
 "nbformat": 4,
 "nbformat_minor": 5
}
