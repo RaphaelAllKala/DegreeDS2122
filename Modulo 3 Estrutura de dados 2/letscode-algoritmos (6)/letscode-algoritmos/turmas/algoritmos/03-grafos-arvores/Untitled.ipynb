{
 "cells": [
  {
   "cell_type": "code",
   "execution_count": 1,
   "id": "0c672530-a2db-4ac0-a41f-d648eb886e0b",
   "metadata": {},
   "outputs": [],
   "source": [
    "f = open('input-exe-2-grafos.txt', 'r')\n",
    "linha = f.read().replace('\\n',' ').split()\n"
   ]
  },
  {
   "cell_type": "code",
   "execution_count": 15,
   "id": "decdb645-f7f0-4471-a26e-fa0501fe6575",
   "metadata": {},
   "outputs": [
    {
     "name": "stdout",
     "output_type": "stream",
     "text": [
      "2 12 9\n",
      "['0', '1', '1', '5', '5', '6', '0', '4', '4', '2', '2', '3', '7', '8', '1', '7', '10', '11', '11', '8', '0', '1', '1', '2']\n"
     ]
    }
   ],
   "source": [
    "casos = int(linha[0])\n",
    "vertices = int(linha[1])\n",
    "arestas = int(linha[2])\n",
    "print(casos, vertices, arestas)\n",
    "print(linha[3:((2*vertices)+3)])"
   ]
  },
  {
   "cell_type": "code",
   "execution_count": 3,
   "id": "781b2ecd-b4e3-4c5c-9531-ec00828710d5",
   "metadata": {},
   "outputs": [
    {
     "name": "stdout",
     "output_type": "stream",
     "text": [
      "['0', '1', '1', '5', '5', '6', '0', '4', '4', '2', '2', '3', '7', '8', '1', '7', '10', '11', '11', '8']\n"
     ]
    }
   ],
   "source": [
    "dados = linha[3:((2*vertices)-1)]\n",
    "print(dados)"
   ]
  },
  {
   "cell_type": "code",
   "execution_count": 74,
   "id": "f7ac7b96-9ff8-43e4-8d06-e11e8579107f",
   "metadata": {},
   "outputs": [
    {
     "name": "stdout",
     "output_type": "stream",
     "text": [
      "0\n"
     ]
    },
    {
     "ename": "KeyError",
     "evalue": "0",
     "output_type": "error",
     "traceback": [
      "\u001b[1;31m---------------------------------------------------------------------------\u001b[0m",
      "\u001b[1;31mKeyError\u001b[0m                                  Traceback (most recent call last)",
      "\u001b[1;32m~\\AppData\\Local\\Temp/ipykernel_21764/2510096978.py\u001b[0m in \u001b[0;36m<module>\u001b[1;34m\u001b[0m\n\u001b[0;32m      5\u001b[0m     \u001b[0ma\u001b[0m \u001b[1;33m=\u001b[0m \u001b[0mint\u001b[0m\u001b[1;33m(\u001b[0m\u001b[0mdados\u001b[0m\u001b[1;33m[\u001b[0m\u001b[0mh\u001b[0m\u001b[1;33m]\u001b[0m\u001b[1;33m)\u001b[0m\u001b[1;33m\u001b[0m\u001b[1;33m\u001b[0m\u001b[0m\n\u001b[0;32m      6\u001b[0m     \u001b[0mb\u001b[0m \u001b[1;33m=\u001b[0m \u001b[0mint\u001b[0m\u001b[1;33m(\u001b[0m\u001b[0mdados\u001b[0m\u001b[1;33m[\u001b[0m\u001b[0mh\u001b[0m\u001b[1;33m+\u001b[0m\u001b[1;36m1\u001b[0m\u001b[1;33m]\u001b[0m\u001b[1;33m)\u001b[0m\u001b[1;33m\u001b[0m\u001b[1;33m\u001b[0m\u001b[0m\n\u001b[1;32m----> 7\u001b[1;33m     \u001b[0mgraf\u001b[0m\u001b[1;33m[\u001b[0m\u001b[0ma\u001b[0m\u001b[1;33m]\u001b[0m\u001b[1;33m.\u001b[0m\u001b[0mappend\u001b[0m\u001b[1;33m(\u001b[0m\u001b[0mb\u001b[0m\u001b[1;33m)\u001b[0m\u001b[1;33m\u001b[0m\u001b[1;33m\u001b[0m\u001b[0m\n\u001b[0m\u001b[0;32m      8\u001b[0m \u001b[1;33m\u001b[0m\u001b[0m\n\u001b[0;32m      9\u001b[0m \u001b[1;33m\u001b[0m\u001b[0m\n",
      "\u001b[1;31mKeyError\u001b[0m: 0"
     ]
    }
   ],
   "source": [
    "graf = {}\n",
    "h=0\n",
    "for i in range(arestas+1):\n",
    "    print (i)\n",
    "    a = int(dados[h])\n",
    "    b = int(dados[h+1])\n",
    "    graf[a].append(b)\n",
    "    \n",
    "    \n",
    "    \n",
    "    \n",
    "    \n",
    "    h += 2\n",
    "print (graf)   \n",
    "        \n",
    "    "
   ]
  },
  {
   "cell_type": "raw",
   "id": "ea8a46d1-b276-4914-8e68-da00c1493362",
   "metadata": {},
   "source": []
  }
 ],
 "metadata": {
  "kernelspec": {
   "display_name": "Python 3 (ipykernel)",
   "language": "python",
   "name": "python3"
  },
  "language_info": {
   "codemirror_mode": {
    "name": "ipython",
    "version": 3
   },
   "file_extension": ".py",
   "mimetype": "text/x-python",
   "name": "python",
   "nbconvert_exporter": "python",
   "pygments_lexer": "ipython3",
   "version": "3.9.7"
  }
 },
 "nbformat": 4,
 "nbformat_minor": 5
}
