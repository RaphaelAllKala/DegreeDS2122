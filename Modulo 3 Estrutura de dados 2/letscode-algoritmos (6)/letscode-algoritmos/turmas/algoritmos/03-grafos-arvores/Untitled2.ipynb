{
 "cells": [
  {
   "cell_type": "code",
   "execution_count": 63,
   "id": "a1dcadb3-207d-430b-86ab-498b20efd38d",
   "metadata": {},
   "outputs": [
    {
     "name": "stdout",
     "output_type": "stream",
     "text": [
      "148 3\n",
      "39\n"
     ]
    }
   ],
   "source": [
    "\n",
    "def superDigit(n, k):\n",
    "    \n",
    "    t1 = str(n)\n",
    "    t2 = k\n",
    "    print(t1, t2)\n",
    "    concat = t1*t2\n",
    "    a = list(concat)\n",
    "    print(somaTudo(a))\n",
    "    \n",
    "   \n",
    "                    \n",
    "def somaTudo(lista):\n",
    "    total= 0\n",
    "    for i in lista:\n",
    "        total += int(i)\n",
    "    \n",
    "    if len(str(total))>1:\n",
    "        b = list(str(total))\n",
    "        lista1 = somaTudo(b)\n",
    "    c=total\n",
    "    return c      \n",
    "    \n",
    "\n",
    "superDigit(148, 3)"
   ]
  }
 ],
 "metadata": {
  "kernelspec": {
   "display_name": "Python 3 (ipykernel)",
   "language": "python",
   "name": "python3"
  },
  "language_info": {
   "codemirror_mode": {
    "name": "ipython",
    "version": 3
   },
   "file_extension": ".py",
   "mimetype": "text/x-python",
   "name": "python",
   "nbconvert_exporter": "python",
   "pygments_lexer": "ipython3",
   "version": "3.9.7"
  }
 },
 "nbformat": 4,
 "nbformat_minor": 5
}
