{
 "cells": [
  {
   "cell_type": "code",
   "execution_count": 3,
   "id": "9b6b11a8-df18-4325-b5ea-c312015274fd",
   "metadata": {},
   "outputs": [
    {
     "name": "stdin",
     "output_type": "stream",
     "text": [
      " 4\n",
      " 3 2 1 3\n"
     ]
    },
    {
     "data": {
      "text/plain": [
       "2"
      ]
     },
     "execution_count": 3,
     "metadata": {},
     "output_type": "execute_result"
    }
   ],
   "source": [
    "\n",
    "\n",
    "def birthdayCakeCandles(candles):\n",
    "    alt = list(input().replace(' ',\"\"))\n",
    "    #print(alt)\n",
    "    a = max(alt)\n",
    "    #print (a)\n",
    "    b = alt.count(a)\n",
    "    #print (b)  \n",
    "    return b\n",
    "\n",
    "candles = input()\n",
    "birthdayCakeCandles(candles)\n",
    "    \n"
   ]
  },
  {
   "cell_type": "code",
   "execution_count": null,
   "id": "32fd743c-f415-434d-93df-7247cde46cee",
   "metadata": {},
   "outputs": [],
   "source": []
  },
  {
   "cell_type": "code",
   "execution_count": null,
   "id": "b7564630-9b60-42b6-bed2-c40ce2f23c7d",
   "metadata": {},
   "outputs": [],
   "source": [
    "4\n",
    "3 2 1 3"
   ]
  }
 ],
 "metadata": {
  "kernelspec": {
   "display_name": "Python 3 (ipykernel)",
   "language": "python",
   "name": "python3"
  },
  "language_info": {
   "codemirror_mode": {
    "name": "ipython",
    "version": 3
   },
   "file_extension": ".py",
   "mimetype": "text/x-python",
   "name": "python",
   "nbconvert_exporter": "python",
   "pygments_lexer": "ipython3",
   "version": "3.9.7"
  }
 },
 "nbformat": 4,
 "nbformat_minor": 5
}
