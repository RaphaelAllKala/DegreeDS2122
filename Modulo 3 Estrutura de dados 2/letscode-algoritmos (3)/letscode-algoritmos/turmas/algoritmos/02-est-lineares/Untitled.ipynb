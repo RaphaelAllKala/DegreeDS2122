{
 "cells": [
  {
   "cell_type": "code",
   "execution_count": 43,
   "id": "d448eaf3-b345-4062-b144-2f8fe1881e06",
   "metadata": {},
   "outputs": [
    {
     "data": {
      "text/plain": [
       "'12:45:45'"
      ]
     },
     "execution_count": 43,
     "metadata": {},
     "output_type": "execute_result"
    }
   ],
   "source": [
    "\n",
    "def timeConversion(s):\n",
    "    if 'PM' in s:\n",
    "        h = str(int(s[0]+s[1])+12)\n",
    "        if h == \"24\":\n",
    "            h = \"12\"\n",
    "            return f'{h}{s[2: 8]}'\n",
    "        return f'{h}{s[2: 8]}'\n",
    "    else:\n",
    "        if s[:2] == \"12\":\n",
    "            h = \"00\"\n",
    "            return f'{h}{s[2: 8]}'\n",
    "        return f'{s[: 8]}'\n",
    "    \n",
    "\n",
    "    \n",
    "timeConversion(\"12:45:45PM\")"
   ]
  },
  {
   "cell_type": "code",
   "execution_count": 77,
   "id": "55be5153-ec13-4a45-a0e3-3716419e05b6",
   "metadata": {},
   "outputs": [
    {
     "name": "stdout",
     "output_type": "stream",
     "text": [
      "     #\n",
      "    ##\n",
      "   ###\n",
      "  ####\n",
      " #####\n",
      "######\n"
     ]
    }
   ],
   "source": [
    "\n",
    "def staircase(n):\n",
    "    for i in range(n):\n",
    "        e = (n-1)-i\n",
    "        f = n-(n-i)+1\n",
    "        print (f'{\" \"*e}{\"#\"*f}')\n",
    "        \n",
    "staircase(6)"
   ]
  }
 ],
 "metadata": {
  "kernelspec": {
   "display_name": "Python 3 (ipykernel)",
   "language": "python",
   "name": "python3"
  },
  "language_info": {
   "codemirror_mode": {
    "name": "ipython",
    "version": 3
   },
   "file_extension": ".py",
   "mimetype": "text/x-python",
   "name": "python",
   "nbconvert_exporter": "python",
   "pygments_lexer": "ipython3",
   "version": "3.9.7"
  }
 },
 "nbformat": 4,
 "nbformat_minor": 5
}
